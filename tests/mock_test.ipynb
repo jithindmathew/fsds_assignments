{
 "cells": [
  {
   "cell_type": "code",
   "execution_count": null,
   "metadata": {},
   "outputs": [],
   "source": [
    "from typing import List"
   ]
  },
  {
   "cell_type": "code",
   "execution_count": 1,
   "metadata": {},
   "outputs": [
    {
     "name": "stdout",
     "output_type": "stream",
     "text": [
      "[0]\n",
      "[1, 3, 12, 0, 0]\n",
      "[3, 12, 1, 0, 0]\n",
      "[9, 8, 6, 7, 0, 0, 0, 0]\n"
     ]
    }
   ],
   "source": [
    "def move_zeros(nums: List[int]) -> List[int]:\n",
    "    ptr: int = 0\n",
    "\n",
    "    for i in range(1, len(nums)):\n",
    "        if nums[i] != 0:\n",
    "            nums[i], nums[ptr] = nums[ptr], nums[i]\n",
    "            ptr += 1\n",
    "    \n",
    "    return nums\n",
    "\n",
    "print(move_zeros([0]))\n",
    "print(move_zeros([0,1,0,3,12]))\n",
    "print(move_zeros([1,3,12,0,0]))\n",
    "print(move_zeros([0,0,0,9,8,0,6,7]))"
   ]
  },
  {
   "cell_type": "code",
   "execution_count": 10,
   "metadata": {},
   "outputs": [
    {
     "name": "stdout",
     "output_type": "stream",
     "text": [
      "0\n",
      "2\n",
      "-1\n"
     ]
    }
   ],
   "source": [
    "def find_unique_character_in_a_string(s: str) -> int:\n",
    "    char_frequency: List[int] = [0] * 26\n",
    "    char_first_position: List[int] = [-1] * 26\n",
    "\n",
    "    for index, c in enumerate(s):\n",
    "        val: int = ord(c) - 97\n",
    "        if char_first_position[val] == -1:\n",
    "            char_first_position[val] = index\n",
    "\n",
    "        char_frequency[val] += 1\n",
    "\n",
    "    ans: int = 1_000_000\n",
    "    \n",
    "    for index, freq in enumerate(char_frequency):\n",
    "        if freq == 1:\n",
    "            ans = min(ans, char_first_position[index])\n",
    "\n",
    "    return ans if ans != 1_000_000 else -1\n",
    "\n",
    "print(find_unique_character_in_a_string(\"leetcode\"))\n",
    "print(find_unique_character_in_a_string(\"loveleetcode\"))\n",
    "print(find_unique_character_in_a_string(\"aabb\"))"
   ]
  }
 ],
 "metadata": {
  "kernelspec": {
   "display_name": "fsds",
   "language": "python",
   "name": "python3"
  },
  "language_info": {
   "codemirror_mode": {
    "name": "ipython",
    "version": 3
   },
   "file_extension": ".py",
   "mimetype": "text/x-python",
   "name": "python",
   "nbconvert_exporter": "python",
   "pygments_lexer": "ipython3",
   "version": "3.7.9"
  },
  "orig_nbformat": 4
 },
 "nbformat": 4,
 "nbformat_minor": 2
}
