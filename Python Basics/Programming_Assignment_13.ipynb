{
 "cells": [
  {
   "attachments": {},
   "cell_type": "markdown",
   "metadata": {},
   "source": [
    "```\n",
    "Question 1\n",
    "```"
   ]
  },
  {
   "cell_type": "code",
   "execution_count": 50,
   "metadata": {},
   "outputs": [
    {
     "name": "stdout",
     "output_type": "stream",
     "text": [
      "18,22,24\n"
     ]
    }
   ],
   "source": [
    "from math import sqrt\n",
    "\n",
    "print(*list(map(lambda x: int(sqrt((2 * 50 * x) / 30)), list(map(int, input().split(\",\"))))), sep=\",\")"
   ]
  },
  {
   "attachments": {},
   "cell_type": "markdown",
   "metadata": {},
   "source": [
    "```\n",
    "Question 2\n",
    "```"
   ]
  },
  {
   "cell_type": "code",
   "execution_count": 51,
   "metadata": {},
   "outputs": [
    {
     "name": "stdout",
     "output_type": "stream",
     "text": [
      "[[0, 0, 0, 0, 0], [0, 1, 2, 3, 4], [0, 2, 4, 6, 8]]\n"
     ]
    }
   ],
   "source": [
    "x, y = map(int, input().split(\",\"))\n",
    "\n",
    "print([[i * j for j in range(y)] for i in range(x)])"
   ]
  },
  {
   "attachments": {},
   "cell_type": "markdown",
   "metadata": {},
   "source": [
    "```\n",
    "Question 3\n",
    "```"
   ]
  },
  {
   "cell_type": "code",
   "execution_count": 52,
   "metadata": {},
   "outputs": [
    {
     "name": "stdout",
     "output_type": "stream",
     "text": [
      "bag,hello,without,world\n"
     ]
    }
   ],
   "source": [
    "print(\",\".join(sorted(input().split(\",\"))))"
   ]
  },
  {
   "attachments": {},
   "cell_type": "markdown",
   "metadata": {},
   "source": [
    "```\n",
    "Question 4\n",
    "```"
   ]
  },
  {
   "cell_type": "code",
   "execution_count": 53,
   "metadata": {},
   "outputs": [
    {
     "name": "stdout",
     "output_type": "stream",
     "text": [
      "again and hello makes perfect practice world\n"
     ]
    }
   ],
   "source": [
    "print(\" \".join(sorted(list(set(input().split(\" \"))))))"
   ]
  },
  {
   "attachments": {},
   "cell_type": "markdown",
   "metadata": {},
   "source": [
    "```\n",
    "Question 5\n",
    "```"
   ]
  },
  {
   "cell_type": "code",
   "execution_count": 39,
   "metadata": {},
   "outputs": [
    {
     "name": "stdout",
     "output_type": "stream",
     "text": [
      "LETTERS 10\n",
      "DIGITS 3\n"
     ]
    }
   ],
   "source": [
    "words: str = input()\n",
    "\n",
    "letters: int = 0\n",
    "digits: int = 0\n",
    "\n",
    "for i in words:\n",
    "    if 97 <= ord(i) <= 122 or\\\n",
    "       65 <= ord(i) <= 90:\n",
    "        letters += 1\n",
    "    elif 48 <= ord(i) <= 57:\n",
    "        digits += 1\n",
    "\n",
    "print(f\"LETTERS {letters}\\nDIGITS {digits}\")"
   ]
  },
  {
   "attachments": {},
   "cell_type": "markdown",
   "metadata": {},
   "source": [
    "```\n",
    "Question 6\n",
    "```"
   ]
  },
  {
   "cell_type": "code",
   "execution_count": 56,
   "metadata": {},
   "outputs": [
    {
     "name": "stdout",
     "output_type": "stream",
     "text": [
      "ABd1234@1\n"
     ]
    }
   ],
   "source": [
    "from typing import List\n",
    "\n",
    "passwords: List[str] = input().split(\",\")\n",
    "\n",
    "valid: List[str] = []\n",
    "\n",
    "def check(password: str) -> bool:\n",
    "    lowercase: int = 0\n",
    "    uppercase: int = 0\n",
    "    numbers: int = 0\n",
    "    characters: int = 0\n",
    "\n",
    "    if len(password) < 6 or\\\n",
    "       len(password) > 12:\n",
    "        return False\n",
    "    \n",
    "    for char in password:\n",
    "        if 97 <= ord(char) <= 122:\n",
    "            lowercase += 1\n",
    "        elif 65 <= ord(char) <= 90:\n",
    "            uppercase += 1\n",
    "        elif 48 <= ord(char) <= 57:\n",
    "            numbers += 1\n",
    "        elif ord(char) == 35 or\\\n",
    "             ord(char) == 36 or\\\n",
    "             ord(char) == 64:\n",
    "            characters += 1\n",
    "    \n",
    "    if lowercase and\\\n",
    "       uppercase and\\\n",
    "       numbers and\\\n",
    "       characters:\n",
    "        return True\n",
    "        \n",
    "    return False\n",
    "\n",
    "for password in passwords:\n",
    "    if check(password):\n",
    "        valid.append(password)\n",
    "\n",
    "print(*valid, sep=\",\")"
   ]
  }
 ],
 "metadata": {
  "kernelspec": {
   "display_name": "fsds",
   "language": "python",
   "name": "python3"
  },
  "language_info": {
   "codemirror_mode": {
    "name": "ipython",
    "version": 3
   },
   "file_extension": ".py",
   "mimetype": "text/x-python",
   "name": "python",
   "nbconvert_exporter": "python",
   "pygments_lexer": "ipython3",
   "version": "3.7.9 (tags/v3.7.9:13c94747c7, Aug 17 2020, 18:58:18) [MSC v.1900 64 bit (AMD64)]"
  },
  "orig_nbformat": 4,
  "vscode": {
   "interpreter": {
    "hash": "69c81a78582b4dbd07afc1f7479108ffee392732560c6594404b549ac30e6d77"
   }
  }
 },
 "nbformat": 4,
 "nbformat_minor": 2
}
