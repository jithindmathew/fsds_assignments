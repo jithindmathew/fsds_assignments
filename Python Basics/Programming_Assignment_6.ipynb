{
 "cells": [
  {
   "attachments": {},
   "cell_type": "markdown",
   "metadata": {},
   "source": [
    "```\n",
    "1. Write a Python Program to Display Fibonacci Sequence Using Recursion?\n",
    "```"
   ]
  },
  {
   "cell_type": "code",
   "execution_count": 30,
   "metadata": {},
   "outputs": [
    {
     "name": "stdout",
     "output_type": "stream",
     "text": [
      "8th fibonacci number = 21\n"
     ]
    }
   ],
   "source": [
    "def fibonacci_recursion(n: int) -> int:\n",
    "    if n <= 1:\n",
    "        return n\n",
    "\n",
    "    return fibonacci_recursion(n - 1) + fibonacci_recursion(n - 2)\n",
    "\n",
    "while True:\n",
    "    try:\n",
    "        n = int(input(\"Enter a number : \"))\n",
    "        break\n",
    "    except ValueError:\n",
    "        print(\"Enter a valid number\")\n",
    "\n",
    "print(f\"{n}th fibonacci number = {fibonacci_recursion(n)}\")"
   ]
  },
  {
   "attachments": {},
   "cell_type": "markdown",
   "metadata": {},
   "source": [
    "```\n",
    "2. Write a Python Program to Find Factorial of Number Using Recursion?\n",
    "```"
   ]
  },
  {
   "cell_type": "code",
   "execution_count": 37,
   "metadata": {},
   "outputs": [
    {
     "name": "stdout",
     "output_type": "stream",
     "text": [
      "Factorial of 7 = 5040\n"
     ]
    }
   ],
   "source": [
    "def factorial_recursion(n: int) -> int:\n",
    "    if n == 1:\n",
    "        return 1\n",
    "\n",
    "    return n * factorial_recursion(n - 1) \n",
    "\n",
    "while True:\n",
    "    try:\n",
    "        n = int(input(\"Enter a number : \"))\n",
    "        break\n",
    "    except ValueError:\n",
    "        print(\"Enter a valid number\")\n",
    "\n",
    "print(f\"Factorial of {n} = {factorial_recursion(n)}\")"
   ]
  },
  {
   "attachments": {},
   "cell_type": "markdown",
   "metadata": {},
   "source": [
    "```\n",
    "3. Write a Python Program to calculate your Body Mass Index?\n",
    "```"
   ]
  },
  {
   "cell_type": "code",
   "execution_count": 40,
   "metadata": {},
   "outputs": [
    {
     "name": "stdout",
     "output_type": "stream",
     "text": [
      "Given Weight = 93.6 kg    \n",
      "Given Height = 1.77 m    \n",
      "BMI = 29.88\n"
     ]
    }
   ],
   "source": [
    "mass = float(input(\"Enter the mass in kg : \"))\n",
    "height = float(input(\"Enter the heigh in m : \"))\n",
    "\n",
    "print(f\"Given Weight = {mass} kg\\\n",
    "    \\nGiven Height = {height} m\\\n",
    "    \\nBMI = {(mass / height ** 2):.2f}\"\n",
    ")"
   ]
  },
  {
   "attachments": {},
   "cell_type": "markdown",
   "metadata": {},
   "source": [
    "```\n",
    "4. Write a Python Program to calculate the natural logarithm of any number?\n",
    "```"
   ]
  },
  {
   "cell_type": "code",
   "execution_count": 41,
   "metadata": {},
   "outputs": [
    {
     "name": "stdout",
     "output_type": "stream",
     "text": [
      "Natural Logarithm of 27 = 3.295836866004329\n"
     ]
    }
   ],
   "source": [
    "from math import log\n",
    "\n",
    "while True:\n",
    "    try:\n",
    "        n = int(input(\"Enter a number : \"))\n",
    "        break\n",
    "    except ValueError:\n",
    "        print(\"Enter a valid number\")\n",
    "\n",
    "print(f\"Natural Logarithm of {n} = {log(n)}\")"
   ]
  },
  {
   "attachments": {},
   "cell_type": "markdown",
   "metadata": {},
   "source": [
    "```\n",
    "5. Write a Python Program for cube sum of first n natural numbers?\n",
    "```"
   ]
  },
  {
   "cell_type": "code",
   "execution_count": 42,
   "metadata": {},
   "outputs": [
    {
     "name": "stdout",
     "output_type": "stream",
     "text": [
      "Cube sum of first 6 natural numbers = 441\n"
     ]
    }
   ],
   "source": [
    "while True:\n",
    "    try:\n",
    "        n = int(input(\"Enter a number : \"))\n",
    "        break\n",
    "    except ValueError:\n",
    "        print(\"Enter a valid number\")\n",
    "\n",
    "# ans = ((n ** 2) * (n + 1) ** 2) // 4\n",
    "ans = sum(map(lambda x: pow(x, 3), range(1, n + 1)))\n",
    "\n",
    "print(f\"Cube sum of first {n} natural numbers = {ans}\")"
   ]
  }
 ],
 "metadata": {
  "kernelspec": {
   "display_name": "fsds",
   "language": "python",
   "name": "python3"
  },
  "language_info": {
   "codemirror_mode": {
    "name": "ipython",
    "version": 3
   },
   "file_extension": ".py",
   "mimetype": "text/x-python",
   "name": "python",
   "nbconvert_exporter": "python",
   "pygments_lexer": "ipython3",
   "version": "3.7.9 (tags/v3.7.9:13c94747c7, Aug 17 2020, 18:58:18) [MSC v.1900 64 bit (AMD64)]"
  },
  "orig_nbformat": 4,
  "vscode": {
   "interpreter": {
    "hash": "69c81a78582b4dbd07afc1f7479108ffee392732560c6594404b549ac30e6d77"
   }
  }
 },
 "nbformat": 4,
 "nbformat_minor": 2
}
