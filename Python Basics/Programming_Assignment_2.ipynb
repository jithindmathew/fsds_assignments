{
 "cells": [
  {
   "attachments": {},
   "cell_type": "markdown",
   "metadata": {},
   "source": [
    "```\n",
    "1. Write a Python program to convert kilometers to miles?\n",
    "```"
   ]
  },
  {
   "cell_type": "code",
   "execution_count": 33,
   "metadata": {},
   "outputs": [
    {
     "name": "stdout",
     "output_type": "stream",
     "text": [
      "87.0 km = 54.059 miles\n"
     ]
    }
   ],
   "source": [
    "km = float(input(\"Enter the distance in km : \"))\n",
    "miles = 0.621371 * km\n",
    "\n",
    "print(f\"{km} km = {miles:.3f} miles\")"
   ]
  },
  {
   "attachments": {},
   "cell_type": "markdown",
   "metadata": {},
   "source": [
    "```\n",
    "2. Write a Python program to convert Celsius to Fahrenheit?\n",
    "```"
   ]
  },
  {
   "cell_type": "code",
   "execution_count": 34,
   "metadata": {},
   "outputs": [
    {
     "name": "stdout",
     "output_type": "stream",
     "text": [
      "68.0° Celcius = 154.4° Farenheit\n"
     ]
    }
   ],
   "source": [
    "celcius = float(input(\"Enter the temperature in Celcius\"))\n",
    "farenheit = celcius * (9 / 5) + 32\n",
    "\n",
    "degree_symbol = chr(176)\n",
    "\n",
    "print(f\"{celcius}{degree_symbol} Celcius = {farenheit}{degree_symbol} Farenheit\")\n"
   ]
  },
  {
   "attachments": {},
   "cell_type": "markdown",
   "metadata": {},
   "source": [
    "```\n",
    "3. Write a Python program to display calendar?\n",
    "```"
   ]
  },
  {
   "cell_type": "code",
   "execution_count": 35,
   "metadata": {},
   "outputs": [
    {
     "name": "stdout",
     "output_type": "stream",
     "text": [
      "                                  2033\n",
      "\n",
      "      January                   February                   March\n",
      "Mo Tu We Th Fr Sa Su      Mo Tu We Th Fr Sa Su      Mo Tu We Th Fr Sa Su\n",
      "                1  2          1  2  3  4  5  6          1  2  3  4  5  6\n",
      " 3  4  5  6  7  8  9       7  8  9 10 11 12 13       7  8  9 10 11 12 13\n",
      "10 11 12 13 14 15 16      14 15 16 17 18 19 20      14 15 16 17 18 19 20\n",
      "17 18 19 20 21 22 23      21 22 23 24 25 26 27      21 22 23 24 25 26 27\n",
      "24 25 26 27 28 29 30      28                        28 29 30 31\n",
      "31\n",
      "\n",
      "       April                      May                       June\n",
      "Mo Tu We Th Fr Sa Su      Mo Tu We Th Fr Sa Su      Mo Tu We Th Fr Sa Su\n",
      "             1  2  3                         1             1  2  3  4  5\n",
      " 4  5  6  7  8  9 10       2  3  4  5  6  7  8       6  7  8  9 10 11 12\n",
      "11 12 13 14 15 16 17       9 10 11 12 13 14 15      13 14 15 16 17 18 19\n",
      "18 19 20 21 22 23 24      16 17 18 19 20 21 22      20 21 22 23 24 25 26\n",
      "25 26 27 28 29 30         23 24 25 26 27 28 29      27 28 29 30\n",
      "                          30 31\n",
      "\n",
      "        July                     August                  September\n",
      "Mo Tu We Th Fr Sa Su      Mo Tu We Th Fr Sa Su      Mo Tu We Th Fr Sa Su\n",
      "             1  2  3       1  2  3  4  5  6  7                1  2  3  4\n",
      " 4  5  6  7  8  9 10       8  9 10 11 12 13 14       5  6  7  8  9 10 11\n",
      "11 12 13 14 15 16 17      15 16 17 18 19 20 21      12 13 14 15 16 17 18\n",
      "18 19 20 21 22 23 24      22 23 24 25 26 27 28      19 20 21 22 23 24 25\n",
      "25 26 27 28 29 30 31      29 30 31                  26 27 28 29 30\n",
      "\n",
      "      October                   November                  December\n",
      "Mo Tu We Th Fr Sa Su      Mo Tu We Th Fr Sa Su      Mo Tu We Th Fr Sa Su\n",
      "                1  2          1  2  3  4  5  6                1  2  3  4\n",
      " 3  4  5  6  7  8  9       7  8  9 10 11 12 13       5  6  7  8  9 10 11\n",
      "10 11 12 13 14 15 16      14 15 16 17 18 19 20      12 13 14 15 16 17 18\n",
      "17 18 19 20 21 22 23      21 22 23 24 25 26 27      19 20 21 22 23 24 25\n",
      "24 25 26 27 28 29 30      28 29 30                  26 27 28 29 30 31\n",
      "31\n",
      "\n"
     ]
    }
   ],
   "source": [
    "year = int(input(\"Enter the year for which you want to see calendar for : \"))\n",
    "\n",
    "import calendar\n",
    "print(calendar.calendar(theyear=year))"
   ]
  },
  {
   "attachments": {},
   "cell_type": "markdown",
   "metadata": {},
   "source": [
    "```\n",
    "4. Write a Python program to solve quadratic equation?\n",
    "```"
   ]
  },
  {
   "cell_type": "code",
   "execution_count": 36,
   "metadata": {},
   "outputs": [
    {
     "name": "stdout",
     "output_type": "stream",
     "text": [
      "\n",
      "    A quadratic equation of variable \"x\" is of the form\n",
      "\n",
      "    ax² + bx + c \n",
      "\n",
      "    \n",
      "Complex roots : (-0.3-1.1445523142259597j), (-0.3-1.1445523142259597j)\n"
     ]
    }
   ],
   "source": [
    "import cmath\n",
    "import math\n",
    "\n",
    "print(\n",
    "    \"\"\"\n",
    "    A quadratic equation of variable \"x\" is of the form\n",
    "\n",
    "    ax\\u00b2 + bx + c \\n\n",
    "    \"\"\"\n",
    ")\n",
    "\n",
    "a = float(input(\"Enter the value of a : \"))\n",
    "b = float(input(\"Enter the value of b : \"))\n",
    "c = float(input(\"Enter the value of c : \"))\n",
    "\n",
    "determinant = (b ** 2) - (4 * a * c)\n",
    "\n",
    "if determinant > 0:\n",
    "    print(f\"Real and distinct roots : {(-b - math.sqrt(determinant)) / (2 * a)}, {(-b + math.sqrt(determinant)) / (2 * a)}\")\n",
    "\n",
    "elif determinant == 0:\n",
    "    print(f\"Real and equal roots : {-b / (2 * a)}\")\n",
    "    \n",
    "else:\n",
    "    print(f\"Complex roots : {(-b - cmath.sqrt(determinant)) / (2 * a)}, {(-b - cmath.sqrt(determinant)) / (2 * a)}\")"
   ]
  },
  {
   "attachments": {},
   "cell_type": "markdown",
   "metadata": {},
   "source": [
    "```\n",
    "5. Write a Python program to swap two variables without temp variable?\n",
    "```"
   ]
  },
  {
   "cell_type": "code",
   "execution_count": 37,
   "metadata": {},
   "outputs": [
    {
     "name": "stdout",
     "output_type": "stream",
     "text": [
      "before swapping - a : 4, b : 9\n",
      "after swapping - a : 9, b : 4\n"
     ]
    }
   ],
   "source": [
    "a = 4\n",
    "b = 9\n",
    "\n",
    "print(f\"before swapping - a : {a}, b : {b}\")\n",
    "\n",
    "a, b = b, a\n",
    "\n",
    "print(f\"after swapping - a : {a}, b : {b}\")\n"
   ]
  }
 ],
 "metadata": {
  "kernelspec": {
   "display_name": "fsds",
   "language": "python",
   "name": "python3"
  },
  "language_info": {
   "codemirror_mode": {
    "name": "ipython",
    "version": 3
   },
   "file_extension": ".py",
   "mimetype": "text/x-python",
   "name": "python",
   "nbconvert_exporter": "python",
   "pygments_lexer": "ipython3",
   "version": "3.7.9 (tags/v3.7.9:13c94747c7, Aug 17 2020, 18:58:18) [MSC v.1900 64 bit (AMD64)]"
  },
  "orig_nbformat": 4,
  "vscode": {
   "interpreter": {
    "hash": "69c81a78582b4dbd07afc1f7479108ffee392732560c6594404b549ac30e6d77"
   }
  }
 },
 "nbformat": 4,
 "nbformat_minor": 2
}
