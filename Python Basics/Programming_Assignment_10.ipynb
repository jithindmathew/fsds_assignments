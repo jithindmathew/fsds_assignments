{
 "cells": [
  {
   "attachments": {},
   "cell_type": "markdown",
   "metadata": {},
   "source": [
    "```\n",
    "1. Write a Python program to find sum of elements in list?\n",
    "```"
   ]
  },
  {
   "cell_type": "code",
   "execution_count": 20,
   "metadata": {},
   "outputs": [
    {
     "name": "stdout",
     "output_type": "stream",
     "text": [
      "Sum of elements in the list [3, 5, -6, 7, 8, 9, 2, 4] = 32\n"
     ]
    }
   ],
   "source": [
    "list_1 = [3, 5, -6, 7, 8, 9, 2, 4]\n",
    "\n",
    "result = sum(list_1)\n",
    "\n",
    "print(f\"Sum of elements in the list {list_1} : {result}\")"
   ]
  },
  {
   "attachments": {},
   "cell_type": "markdown",
   "metadata": {},
   "source": [
    "```\n",
    "2. Write a Python program to Multiply all numbers in the list?\n",
    "```"
   ]
  },
  {
   "cell_type": "code",
   "execution_count": 21,
   "metadata": {},
   "outputs": [
    {
     "name": "stdout",
     "output_type": "stream",
     "text": [
      "Product of all elements in the list [3, 5, -6, 7, 8, 9, 2, 4] = -362880\n"
     ]
    }
   ],
   "source": [
    "from functools import reduce\n",
    "\n",
    "list_1 = [3, 5, -6, 7, 8, 9, 2, 4]\n",
    "result = reduce(lambda x, y: x * y, list_1)\n",
    "\n",
    "print(f\"Product of all elements in the list {list_1} : {result}\")"
   ]
  },
  {
   "attachments": {},
   "cell_type": "markdown",
   "metadata": {},
   "source": [
    "```\n",
    "3. Write a Python program to find smallest number in a list?\n",
    "```"
   ]
  },
  {
   "cell_type": "code",
   "execution_count": 22,
   "metadata": {},
   "outputs": [
    {
     "name": "stdout",
     "output_type": "stream",
     "text": [
      "Smallest number in the list [3, 5, -6, 7, 8, 9, 2, 4] = -6\n"
     ]
    }
   ],
   "source": [
    "list_1 = [3, 5, -6, 7, 8, 9, 2, 4]\n",
    "\n",
    "result = min(list_1)\n",
    "\n",
    "print(f\"Smallest number in the list {list_1} : {result}\")"
   ]
  },
  {
   "attachments": {},
   "cell_type": "markdown",
   "metadata": {},
   "source": [
    "```\n",
    "4. Write a Python program to find largest number in a list?\n",
    "```"
   ]
  },
  {
   "cell_type": "code",
   "execution_count": 23,
   "metadata": {},
   "outputs": [
    {
     "name": "stdout",
     "output_type": "stream",
     "text": [
      "Largest number in the list [3, 5, -6, 7, 8, 9, 2, 4] = 9\n"
     ]
    }
   ],
   "source": [
    "list_1 = [3, 5, -6, 7, 8, 9, 2, 4]\n",
    "\n",
    "result = max(list_1)\n",
    "\n",
    "print(f\"Largest number in the list {list_1} : {result}\")"
   ]
  },
  {
   "attachments": {},
   "cell_type": "markdown",
   "metadata": {},
   "source": [
    "```\n",
    "5. Write a Python program to find second largest number in a list?\n",
    "```"
   ]
  },
  {
   "cell_type": "code",
   "execution_count": 24,
   "metadata": {},
   "outputs": [
    {
     "name": "stdout",
     "output_type": "stream",
     "text": [
      "Second Largest number in the list [3, 5, -6, 7, 8, 9, 2, 4] = 8\n"
     ]
    }
   ],
   "source": [
    "list_1 = [3, 5, -6, 7, 8, 9, 2, 4]\n",
    "\n",
    "result = sorted(list_1, reverse=True)[1]\n",
    "\n",
    "print(f\"Second Largest number in the list {list_1} : {result}\")"
   ]
  },
  {
   "attachments": {},
   "cell_type": "markdown",
   "metadata": {},
   "source": [
    "```\n",
    "6. Write a Python program to find N largest elements from a list?\n",
    "```"
   ]
  },
  {
   "cell_type": "code",
   "execution_count": 25,
   "metadata": {},
   "outputs": [
    {
     "name": "stdout",
     "output_type": "stream",
     "text": [
      "4 largest numbers in the list [3, 5, -6, 7, 8, 9, 2, 4] = [9, 8, 7, 5]\n"
     ]
    }
   ],
   "source": [
    "list_1 = [3, 5, -6, 7, 8, 9, 2, 4]\n",
    "\n",
    "n = 4\n",
    "\n",
    "result = sorted(list_1, reverse=True)[:n]\n",
    "\n",
    "print(f\"{n} largest numbers in the list {list_1} : {result}\")"
   ]
  },
  {
   "attachments": {},
   "cell_type": "markdown",
   "metadata": {},
   "source": [
    "```\n",
    "7. Write a Python program to print even numbers in a list?\n",
    "```"
   ]
  },
  {
   "cell_type": "code",
   "execution_count": 26,
   "metadata": {},
   "outputs": [
    {
     "name": "stdout",
     "output_type": "stream",
     "text": [
      "Even numbers in the list [3, 5, -6, 7, 8, 9, 2, 4] = [-6, 8, 2, 4]\n"
     ]
    }
   ],
   "source": [
    "list_1 = [3, 5, -6, 7, 8, 9, 2, 4]\n",
    "\n",
    "result = list(filter(lambda x: not (x & 1), list_1))\n",
    "\n",
    "print(f\"Even numbers in the list {list_1} : {result}\")"
   ]
  },
  {
   "attachments": {},
   "cell_type": "markdown",
   "metadata": {},
   "source": [
    "```\n",
    "8. Write a Python program to print odd numbers in a List?\n",
    "```"
   ]
  },
  {
   "cell_type": "code",
   "execution_count": 27,
   "metadata": {},
   "outputs": [
    {
     "name": "stdout",
     "output_type": "stream",
     "text": [
      "Odd numbers in the list [3, 5, -6, 7, 8, 9, 2, 4] = [3, 5, 7, 9]\n"
     ]
    }
   ],
   "source": [
    "list_1 = [3, 5, -6, 7, 8, 9, 2, 4]\n",
    "\n",
    "result = list(filter(lambda x: x & 1, list_1))\n",
    "\n",
    "print(f\"Odd numbers in the list {list_1} : {result}\")"
   ]
  },
  {
   "attachments": {},
   "cell_type": "markdown",
   "metadata": {},
   "source": [
    "```\n",
    "9. Write a Python program to Remove empty List from List?\n",
    "```"
   ]
  },
  {
   "cell_type": "code",
   "execution_count": 28,
   "metadata": {},
   "outputs": [
    {
     "name": "stdout",
     "output_type": "stream",
     "text": [
      "List after removing empty list = [3, 5, -6, 7, [3, 4, 9], 8, 9, 2, [[4]], 4]\n"
     ]
    }
   ],
   "source": [
    "list_1 = [3, 5, [], -6, 7, [3, 4, 9], 8, 9, 2, [[4]], 4]\n",
    "\n",
    "result = list(filter(lambda x: x != [], list_1))\n",
    "\n",
    "print(f\"List after removing empty list : {result}\")"
   ]
  },
  {
   "attachments": {},
   "cell_type": "markdown",
   "metadata": {},
   "source": [
    "```\n",
    "10. Write a Python program to Cloning or Copying a list?\n",
    "```"
   ]
  },
  {
   "cell_type": "code",
   "execution_count": 29,
   "metadata": {},
   "outputs": [
    {
     "name": "stdout",
     "output_type": "stream",
     "text": [
      "Copied list = [3, 5, -6, 7, 8, 9, 2, 4]\n"
     ]
    }
   ],
   "source": [
    "list_1 = [3, 5, -6, 7, 8, 9, 2, 4]\n",
    "\n",
    "result = list_1.copy()\n",
    "\n",
    "print(f\"Copied list : {result}\")"
   ]
  },
  {
   "attachments": {},
   "cell_type": "markdown",
   "metadata": {},
   "source": [
    "```\n",
    "11. Write a Python program to Count occurrences of an element in a list?\n",
    "```"
   ]
  },
  {
   "cell_type": "code",
   "execution_count": 30,
   "metadata": {},
   "outputs": [
    {
     "name": "stdout",
     "output_type": "stream",
     "text": [
      "Number of 5 in [3, 5, -6, 7, 5, 8, 9, 2, 4, 5] = 3\n"
     ]
    }
   ],
   "source": [
    "list_1 = [3, 5, -6, 7, 5, 8, 9, 2, 4, 5]\n",
    "\n",
    "element = 5\n",
    "\n",
    "result = list_1.count(5)\n",
    "\n",
    "print(f\"Number of {element} in {list_1} : {result}\")"
   ]
  }
 ],
 "metadata": {
  "kernelspec": {
   "display_name": "fsds",
   "language": "python",
   "name": "python3"
  },
  "language_info": {
   "codemirror_mode": {
    "name": "ipython",
    "version": 3
   },
   "file_extension": ".py",
   "mimetype": "text/x-python",
   "name": "python",
   "nbconvert_exporter": "python",
   "pygments_lexer": "ipython3",
   "version": "3.7.9 (tags/v3.7.9:13c94747c7, Aug 17 2020, 18:58:18) [MSC v.1900 64 bit (AMD64)]"
  },
  "orig_nbformat": 4,
  "vscode": {
   "interpreter": {
    "hash": "69c81a78582b4dbd07afc1f7479108ffee392732560c6594404b549ac30e6d77"
   }
  }
 },
 "nbformat": 4,
 "nbformat_minor": 2
}
