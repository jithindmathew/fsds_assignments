{
 "cells": [
  {
   "cell_type": "code",
   "execution_count": null,
   "metadata": {},
   "outputs": [],
   "source": [
    "from pyinputplus import inputInt"
   ]
  },
  {
   "attachments": {},
   "cell_type": "markdown",
   "metadata": {},
   "source": [
    "```\n",
    "1. Is the Python Standard Library included with PyInputPlus?\n",
    "```\n",
    "\n",
    "### Ans.\n",
    "\n",
    "No. It needed to be installed with `pip`\n",
    "\n",
    "---"
   ]
  },
  {
   "attachments": {},
   "cell_type": "markdown",
   "metadata": {},
   "source": [
    "```\n",
    "2. Why is PyInputPlus commonly imported with import pyinputplus as pypi?\n",
    "```\n",
    "\n",
    "### Ans.\n",
    "\n",
    "to use a shorter name\n",
    "\n",
    "---"
   ]
  },
  {
   "attachments": {},
   "cell_type": "markdown",
   "metadata": {},
   "source": [
    "```\n",
    "3. How do you distinguish between inputInt() and inputFloat()?\n",
    "```\n",
    "\n",
    "### Ans.\n",
    "\n",
    "`inputInt()` will expect only an integer\n",
    "\n",
    "`inputFloat()` will expect either an integer of a float\n",
    "\n",
    "---"
   ]
  },
  {
   "attachments": {},
   "cell_type": "markdown",
   "metadata": {},
   "source": [
    "```\n",
    "4. Using PyInputPlus, how do you ensure that the user enters a whole number between 0 and 99?\n",
    "```\n",
    "\n",
    "### Ans."
   ]
  },
  {
   "cell_type": "code",
   "execution_count": null,
   "metadata": {},
   "outputs": [],
   "source": [
    "inputInt(\"Enter a number\", min=0, max=99)"
   ]
  },
  {
   "attachments": {},
   "cell_type": "markdown",
   "metadata": {},
   "source": [
    "---"
   ]
  },
  {
   "attachments": {},
   "cell_type": "markdown",
   "metadata": {},
   "source": [
    "```\n",
    "5. What is transferred to the keyword arguments allowRegexes and blockRegexes?\n",
    "```\n",
    "\n",
    "### Ans.\n",
    "\n",
    "The allowed dtypes of keyword arguments `allowRegexes` and `blockRegexes` are :\n",
    "\n",
    "`allowRegexes: Sequence[Pattern | str] | None`\n",
    "\n",
    "`blockRegexes: Sequence[Pattern | str | Sequence[Pattern | str]] | None`\n",
    "\n",
    "---"
   ]
  },
  {
   "attachments": {},
   "cell_type": "markdown",
   "metadata": {},
   "source": [
    "```\n",
    "6. If a blank input is entered three times, what does inputStr(limit=3) do?\n",
    "```\n",
    "\n",
    "### Ans.\n",
    "\n",
    "`RetryLimitException` is thrown\n",
    "\n",
    "---"
   ]
  },
  {
   "attachments": {},
   "cell_type": "markdown",
   "metadata": {},
   "source": [
    "```\n",
    "7. If blank input is entered three times, what does inputStr(limit=3, default='hello') do?\n",
    "```\n",
    "\n",
    "### Ans.\n",
    "\n",
    "The value returned by the function would be `'hello'`\n",
    "\n",
    "---"
   ]
  }
 ],
 "metadata": {
  "kernelspec": {
   "display_name": "fsds",
   "language": "python",
   "name": "python3"
  },
  "language_info": {
   "codemirror_mode": {
    "name": "ipython",
    "version": 3
   },
   "file_extension": ".py",
   "mimetype": "text/x-python",
   "name": "python",
   "nbconvert_exporter": "python",
   "pygments_lexer": "ipython3",
   "version": "3.7.9"
  },
  "orig_nbformat": 4
 },
 "nbformat": 4,
 "nbformat_minor": 2
}
