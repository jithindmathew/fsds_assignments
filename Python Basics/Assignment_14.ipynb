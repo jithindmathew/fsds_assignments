{
 "cells": [
  {
   "attachments": {},
   "cell_type": "markdown",
   "metadata": {},
   "source": [
    "```\n",
    "1. What does RGBA stand for?\n",
    "```\n",
    "\n",
    "### Ans.\n",
    "\n",
    "Red-Green-Blue-Alpha. Alpha denotes opacity of the color.\n",
    "\n",
    "---"
   ]
  },
  {
   "attachments": {},
   "cell_type": "markdown",
   "metadata": {},
   "source": [
    "```\n",
    "2. From the Pillow module, how do you get the RGBA value of any images?\n",
    "```\n",
    "\n",
    "### Ans."
   ]
  },
  {
   "cell_type": "code",
   "execution_count": 8,
   "metadata": {},
   "outputs": [
    {
     "name": "stdout",
     "output_type": "stream",
     "text": [
      "(251, 251, 253, 255)\n"
     ]
    }
   ],
   "source": [
    "from PIL import Image\n",
    "image = Image.open(\"sample.jpeg\")\n",
    "rgba_values = image.convert('RGBA').getdata()\n",
    "print(rgba_values.getpixel((0, 0)))"
   ]
  },
  {
   "attachments": {},
   "cell_type": "markdown",
   "metadata": {},
   "source": [
    "---"
   ]
  },
  {
   "attachments": {},
   "cell_type": "markdown",
   "metadata": {},
   "source": [
    "```\n",
    "3. What is a box tuple, and how does it work?\n",
    "```\n",
    "\n",
    "### Ans.\n",
    "\n",
    "The box is a 4-tuple defining the left, upper, right, and lower pixel coordinate.\n",
    "\n",
    "---"
   ]
  },
  {
   "attachments": {},
   "cell_type": "markdown",
   "metadata": {},
   "source": [
    "```\n",
    "4. Use your image and load in notebook then, How can you find out the width and height of an Image object?\n",
    "```\n",
    "\n",
    "### Ans.\n",
    "\n",
    "\n",
    "\n",
    "---"
   ]
  },
  {
   "cell_type": "code",
   "execution_count": 13,
   "metadata": {},
   "outputs": [
    {
     "name": "stdout",
     "output_type": "stream",
     "text": [
      "Width, Height : (245, 184)\n"
     ]
    }
   ],
   "source": [
    "from PIL import Image\n",
    "image = Image.open(\"sample.jpeg\")\n",
    "print(f\"Width, Height : {image.size}\")"
   ]
  },
  {
   "attachments": {},
   "cell_type": "markdown",
   "metadata": {},
   "source": [
    "```\n",
    "5. What method would you call to get Image object for a 100×100 image, excluding the lower-left quarter of it? \n",
    "```\n",
    "\n",
    "### Ans.\n",
    "\n",
    "\n",
    "\n",
    "---"
   ]
  },
  {
   "cell_type": "code",
   "execution_count": 31,
   "metadata": {},
   "outputs": [
    {
     "data": {
      "image/png": "[encoded data removed]",
      "text/plain": [
       "<PIL.Image.Image image mode=RGB size=100x100>"
      ]
     },
     "execution_count": 31,
     "metadata": {},
     "output_type": "execute_result"
    }
   ],
   "source": [
    "from PIL import Image\n",
    "import numpy as np\n",
    "\n",
    "WIDTH, HEIGHT = 100, 100\n",
    "image = Image.open(\"sample.jpeg\").convert(\"RGB\").resize(size=(WIDTH, HEIGHT))\n",
    "image_arr = np.array(image)\n",
    "image_arr[HEIGHT // 2: HEIGHT, 0: WIDTH // 2] = (0, 0, 0)\n",
    "image = Image.fromarray(image_arr)\n",
    "image"
   ]
  },
  {
   "attachments": {},
   "cell_type": "markdown",
   "metadata": {},
   "source": [
    "```\n",
    "6. After making changes to an Image object, how could you save it as an image file?\n",
    "```\n",
    "\n",
    "### Ans.\n",
    "\n",
    "With `save` method `ImageObject.save(\"filename\")` .\n",
    "\n",
    "---"
   ]
  },
  {
   "attachments": {},
   "cell_type": "markdown",
   "metadata": {},
   "source": [
    "```\n",
    "7. What module contains Pillow’s shape-drawing code?\n",
    "```\n",
    "\n",
    "### Ans.\n",
    "\n",
    "`ImageDraw` module contains Pillow’s shape-drawing code?\n",
    "\n",
    "---"
   ]
  },
  {
   "attachments": {},
   "cell_type": "markdown",
   "metadata": {},
   "source": [
    "```\n",
    "8. Image objects do not have drawing methods. What kind of object does? How do you get this kind of object?\n",
    "```\n",
    "\n",
    "### Ans.\n",
    "\n",
    "`ImageDraw` objects have drawing methods. They are returned by passing the `ImageObject` to the `ImageDraw.Draw()` function\n",
    "\n",
    "---"
   ]
  }
 ],
 "metadata": {
  "kernelspec": {
   "display_name": "fsds",
   "language": "python",
   "name": "python3"
  },
  "language_info": {
   "codemirror_mode": {
    "name": "ipython",
    "version": 3
   },
   "file_extension": ".py",
   "mimetype": "text/x-python",
   "name": "python",
   "nbconvert_exporter": "python",
   "pygments_lexer": "ipython3",
   "version": "3.7.9"
  },
  "orig_nbformat": 4
 },
 "nbformat": 4,
 "nbformat_minor": 2
}
