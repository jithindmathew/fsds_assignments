{
 "cells": [
  {
   "cell_type": "markdown",
   "metadata": {},
   "source": [
    "```\n",
    "1. What is the relationship between def statements and lambda expressions ?\n",
    "```\n",
    "\n",
    "### Ans.\n",
    "\n",
    "In python both `def` and `lambda` are used for functions. `lambda` functions are limited in operations unlike `def` functions that can perform any amount of operations. `lambda` functions can be used without any declaration in the namespace unlike `def` functions that must be declared in namespace.\n",
    "\n",
    "---"
   ]
  },
  {
   "cell_type": "markdown",
   "metadata": {},
   "source": [
    "```\n",
    "2. What is the benefit of lambda?\n",
    "```\n",
    "\n",
    "### Ans.\n",
    "\n",
    "Using `lambda` functions results in fewer lines of code and these are executed comparatively faster. Since `lambda` functions cannot contain complex logic, chances for errors are low\n",
    "\n",
    "---"
   ]
  },
  {
   "cell_type": "markdown",
   "metadata": {},
   "source": [
    "```\n",
    "3. Compare and contrast map, filter, and reduce.\n",
    "```\n",
    "\n",
    "### Ans.\n",
    "\n",
    "`map` applies the same transformation to all elements in an iterable using a function that is passed in.\n",
    "\n",
    "`filter` filters the elements in an iterable on the basis of a function passed in.\n",
    "\n",
    "`reduce` accumulates all elements to a single value on the basis of the function we passed for the first two items in the sequence\n",
    "\n",
    "---"
   ]
  },
  {
   "cell_type": "code",
   "execution_count": 2,
   "metadata": {},
   "outputs": [
    {
     "data": {
      "text/plain": [
       "[8, 27, 64, 125, 27]"
      ]
     },
     "execution_count": 2,
     "metadata": {},
     "output_type": "execute_result"
    }
   ],
   "source": [
    "def cube(x):\n",
    "    return x ** 3\n",
    "\n",
    "list(map(cube, [2, 3, 4, 5, 3]))"
   ]
  },
  {
   "cell_type": "code",
   "execution_count": 4,
   "metadata": {},
   "outputs": [
    {
     "data": {
      "text/plain": [
       "[4, 6, 4]"
      ]
     },
     "execution_count": 4,
     "metadata": {},
     "output_type": "execute_result"
    }
   ],
   "source": [
    "def is_even(x):\n",
    "    if x % 2 == 0:\n",
    "        return True\n",
    "    return False\n",
    "\n",
    "list(filter(is_even, [3, 5, 4, 5, 6, 4, 3, 5]))"
   ]
  },
  {
   "cell_type": "code",
   "execution_count": 5,
   "metadata": {},
   "outputs": [
    {
     "data": {
      "text/plain": [
       "19"
      ]
     },
     "execution_count": 5,
     "metadata": {},
     "output_type": "execute_result"
    }
   ],
   "source": [
    "from functools import reduce\n",
    "\n",
    "def get_sum(x, y):\n",
    "    return x + y\n",
    "\n",
    "reduce(get_sum, [3, 4, 2, 4, 3, 3])"
   ]
  },
  {
   "cell_type": "code",
   "execution_count": 9,
   "metadata": {},
   "outputs": [
    {
     "data": {
      "text/plain": [
       "(2, 3)"
      ]
     },
     "execution_count": 9,
     "metadata": {},
     "output_type": "execute_result"
    }
   ],
   "source": [
    "import numpy as np\n",
    "ary = np.array([[1,2,3],[0,1,4]])\n",
    "ary.shape"
   ]
  },
  {
   "cell_type": "markdown",
   "metadata": {},
   "source": [
    "```\n",
    "4. What are function annotations, and how are they used?\n",
    "```\n",
    "\n",
    "### Ans.\n",
    "\n",
    "function annotations are extra syntax that is added to python functions for adding arbitrary metadata annotations. Python does not attach any meaning to these annotations, but are useful when interpreted by third party libraries. They are used to avoid possible errors\n",
    "\n",
    "The common syntax is\n",
    "\n",
    "```\n",
    "def function(param1: type1, param2: type2) -> returntype:\n",
    "    pass\n",
    "```\n",
    "\n",
    "---"
   ]
  },
  {
   "cell_type": "markdown",
   "metadata": {},
   "source": [
    "```\n",
    "5. What are recursive functions, and how are they used?\n",
    "```\n",
    "\n",
    "### Ans.\n",
    "\n",
    "Recursive functions are functions that calls itself during the execution. The function will keep calling itself until a certain condition is met.\n",
    "\n",
    "---"
   ]
  },
  {
   "cell_type": "code",
   "execution_count": 10,
   "metadata": {},
   "outputs": [
    {
     "data": {
      "text/plain": [
       "5040"
      ]
     },
     "execution_count": 10,
     "metadata": {},
     "output_type": "execute_result"
    }
   ],
   "source": [
    "def factorial(x: int) -> int:\n",
    "    if x == 1:\n",
    "        return 1\n",
    "    return x * factorial(x - 1)\n",
    "\n",
    "factorial(7)"
   ]
  },
  {
   "cell_type": "markdown",
   "metadata": {},
   "source": [
    "```\n",
    "6. What are some general design guidelines for coding functions?\n",
    "```\n",
    "\n",
    "### Ans.\n",
    "\n",
    "1. Use 4-space indentation and no tabs.\n",
    "2. Use docstrings to explain the function\n",
    "3. Wrap lines so that they don’t exceed 79 characters\n",
    "4. Use comments when needed\n",
    "6. Use Python’s default encodings\n",
    "7. Follow snake_case naming conventions\n",
    "8. Don’t use non-ASCII characters in identifiers\n",
    "9. Name your classes and functions consistently\n",
    "10. Add type annotations whenever possible\n",
    "11. Functions should do a single thing rather than multiple things at one\n",
    "12. Split complex functions into simpler ones\n",
    "---"
   ]
  },
  {
   "cell_type": "markdown",
   "metadata": {},
   "source": [
    "```\n",
    "7. Name three or more ways that functions can communicate results to a caller.\n",
    "```\n",
    "\n",
    "### Ans.\n",
    "\n",
    "1. functions can return values or objects\n",
    "2. functions can print information\n",
    "3. functions can communicate using global variables\n",
    "4. functions can communicate using file manipulation or using camera/speakers\n",
    "\n",
    "---"
   ]
  }
 ],
 "metadata": {
  "kernelspec": {
   "display_name": "fsds",
   "language": "python",
   "name": "python3"
  },
  "language_info": {
   "codemirror_mode": {
    "name": "ipython",
    "version": 3
   },
   "file_extension": ".py",
   "mimetype": "text/x-python",
   "name": "python",
   "nbconvert_exporter": "python",
   "pygments_lexer": "ipython3",
   "version": "3.7.9"
  },
  "orig_nbformat": 4
 },
 "nbformat": 4,
 "nbformat_minor": 2
}
