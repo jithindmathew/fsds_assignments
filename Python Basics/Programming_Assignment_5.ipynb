{
 "cells": [
  {
   "cell_type": "code",
   "execution_count": 1,
   "metadata": {},
   "outputs": [],
   "source": [
    "from typing import Dict, List"
   ]
  },
  {
   "attachments": {},
   "cell_type": "markdown",
   "metadata": {},
   "source": [
    "```\n",
    "1. Write a Python Program to Find LCM?\n",
    "```"
   ]
  },
  {
   "cell_type": "code",
   "execution_count": 2,
   "metadata": {},
   "outputs": [
    {
     "name": "stdout",
     "output_type": "stream",
     "text": [
      "The LCM of 200 and 350 = 1400\n"
     ]
    }
   ],
   "source": [
    "while True:\n",
    "    try:\n",
    "        m, n = map(int, input(\"Enter 2 space seperated positive integers : \").split(' '))\n",
    "        if m == 0 or n == 0:\n",
    "            print(\"Enter non zero values\")\n",
    "        else:\n",
    "            break\n",
    "    except ValueError:\n",
    "        print(\"Enter two valid numbers\")\n",
    "\n",
    "x, y = m, n\n",
    "\n",
    "while y:\n",
    "    x, y = y, x % y\n",
    "\n",
    "print(f\"The LCM of {m} and {n} = {(m * n) // x}\")"
   ]
  },
  {
   "attachments": {},
   "cell_type": "markdown",
   "metadata": {},
   "source": [
    "```\n",
    "2. Write a Python Program to Find HCF?\n",
    "```\n"
   ]
  },
  {
   "cell_type": "code",
   "execution_count": 9,
   "metadata": {},
   "outputs": [
    {
     "name": "stdout",
     "output_type": "stream",
     "text": [
      "The HCF of 36 and 42 = 6\n"
     ]
    }
   ],
   "source": [
    "while True:\n",
    "    try:\n",
    "        m, n = map(int, input(\"Enter 2 space seperated positive integers : \").split(' '))\n",
    "        if m == 0 or n == 0:\n",
    "            print(\"Enter non zero values\")\n",
    "            continue\n",
    "        else:\n",
    "            break\n",
    "    except ValueError:\n",
    "        print(\"Enter two valid numbers\")\n",
    "\n",
    "x, y = m, n\n",
    "\n",
    "while y:\n",
    "    x, y = y, x % y\n",
    "\n",
    "print(f\"The HCF of {m} and {n} = {x}\")\n"
   ]
  },
  {
   "attachments": {},
   "cell_type": "markdown",
   "metadata": {},
   "source": [
    "```\n",
    "3. Write a Python Program to Convert Decimal to Binary, Octal and Hexadecimal?\n",
    "```"
   ]
  },
  {
   "cell_type": "code",
   "execution_count": 10,
   "metadata": {},
   "outputs": [
    {
     "name": "stdout",
     "output_type": "stream",
     "text": [
      "Decimal : 44    \n",
      "Binary : 101100    \n",
      "Octal : 54    \n",
      "Hexadecimal : 2C\n"
     ]
    }
   ],
   "source": [
    "while True:\n",
    "    try:\n",
    "        n = int(input(\"Enter a number : \"))\n",
    "        break\n",
    "    except ValueError:\n",
    "        print(\"Enter a valid number\")\n",
    "\n",
    "def convert(n: int, system: str) -> str:\n",
    "\n",
    "    if n == 0:\n",
    "        return '0'\n",
    "\n",
    "    value_map: Dict[int, str] = {\n",
    "        0: '0', 1: '1', 2: '2', 3: '3', 4: '4', 5: '5', 6: '6', 7: '7', 8: '8', 9: '9', 10: 'A', 11: 'B', 12: 'C', 13: 'D', 14: 'E', 15: 'F'\n",
    "    }\n",
    "\n",
    "    type_map: Dict[str, int] = {\n",
    "        'bin': 2, 'oct': 8, 'hex': 16\n",
    "    }\n",
    "\n",
    "    ans: str = \"\"\n",
    "\n",
    "    temp: int = type_map.get(system)\n",
    "\n",
    "    while n:\n",
    "        ans += value_map.get(n % temp)\n",
    "        n //= temp\n",
    "\n",
    "    return ans[::-1]\n",
    "\n",
    "print(f\"Decimal : {n}\\\n",
    "    \\nBinary : {convert(n, 'bin')}\\\n",
    "    \\nOctal : {convert(n, 'oct')}\\\n",
    "    \\nHexadecimal : {convert(n, 'hex')}\"\n",
    ")\n"
   ]
  },
  {
   "attachments": {},
   "cell_type": "markdown",
   "metadata": {},
   "source": [
    "```\n",
    "4. Write a Python Program To Find ASCII value of a character?\n",
    "```"
   ]
  },
  {
   "cell_type": "code",
   "execution_count": 11,
   "metadata": {},
   "outputs": [
    {
     "name": "stdout",
     "output_type": "stream",
     "text": [
      "ASCII value of ~ is 126\n"
     ]
    }
   ],
   "source": [
    "char = input(\"Enter a character\")\n",
    "\n",
    "print(f\"ASCII value of {char} is {ord(char)}\")"
   ]
  },
  {
   "attachments": {},
   "cell_type": "markdown",
   "metadata": {},
   "source": [
    "```\n",
    "5. Write a Python Program to Make a Simple Calculator with 4 basic mathematical operations?\n",
    "```"
   ]
  },
  {
   "cell_type": "code",
   "execution_count": 12,
   "metadata": {},
   "outputs": [
    {
     "name": "stdout",
     "output_type": "stream",
     "text": [
      "Addition operator : +\n",
      "Subtraction operator : -\n",
      "Multiplictaion operator : *\n",
      "Division operator : /\n",
      "----------------------------\n",
      "Enter the expression in the form    \n",
      "----------------------------    \n",
      "<number> <operator> <number>    \n",
      "----------------------------    \n",
      "Example :     \n",
      "3.6 * 90    \n",
      "5 + 3\n",
      "-----------------------------\n",
      "5 * 9 = 45.0\n",
      "-----------------------------\n",
      "4.90 / 8.5 = 0.5764705882352942\n",
      "-----------------------------\n",
      "2 - 8 = -6.0\n",
      "-----------------------------\n",
      "-46 + 8.98 = -37.019999999999996\n",
      "-----------------------------\n"
     ]
    }
   ],
   "source": [
    "from typing import Dict, List\n",
    "\n",
    "print(\"Addition operator : +\")\n",
    "print(\"Subtraction operator : -\")\n",
    "print(\"Multiplication operator : *\")\n",
    "print(\"Division operator : /\")\n",
    "print(\"----------------------------\")\n",
    "print(\"Enter the expression in the form\\\n",
    "    \\n----------------------------\\\n",
    "    \\n<number> <operator> <number>\\\n",
    "    \\n----------------------------\\\n",
    "    \\nExample : \\\n",
    "    \\n3.6 * 90\\\n",
    "    \\n5 + 3\"\n",
    ")\n",
    "\n",
    "while True:\n",
    "    print(\"-----------------------------\")\n",
    "    text: str = input(\"Type an expression or type 'QUIT' to exit : \")\n",
    "\n",
    "    expression = text\n",
    "\n",
    "    if expression == 'QUIT':\n",
    "        break\n",
    "\n",
    "    expression: List[str] = expression.split(\" \")\n",
    "\n",
    "    if len(expression) != 3:\n",
    "        print(\"Enter valid expression with single space in between\")\n",
    "        continue\n",
    "\n",
    "    try:\n",
    "        first = float(expression[0])\n",
    "        second = float(expression[2])\n",
    "\n",
    "    except ValueError:\n",
    "        print(\"Enter valid numbers\")\n",
    "        continue\n",
    "\n",
    "    if expression[1] == '+':\n",
    "        print(f\"{text} = {first + second}\")\n",
    "\n",
    "    elif expression[1] == '-':\n",
    "        print(f\"{text} = {first - second}\")\n",
    "\n",
    "    elif expression[1] == '*':\n",
    "        print(f\"{text} = {first * second}\")\n",
    "\n",
    "    elif expression[1] == '/':\n",
    "        if first == 0 and second == 0:\n",
    "            print('Cannot calculate 0/0')\n",
    "            continue\n",
    "\n",
    "        if second == 0:\n",
    "            print(\"Cannot divide with 0\")\n",
    "            continue\n",
    "\n",
    "        print(f\"{text} = {first / second}\")\n",
    "\n",
    "    else:\n",
    "        print(\"Enter a valid Operator\")\n"
   ]
  }
 ],
 "metadata": {
  "kernelspec": {
   "display_name": "fsds",
   "language": "python",
   "name": "python3"
  },
  "language_info": {
   "codemirror_mode": {
    "name": "ipython",
    "version": 3
   },
   "file_extension": ".py",
   "mimetype": "text/x-python",
   "name": "python",
   "nbconvert_exporter": "python",
   "pygments_lexer": "ipython3",
   "version": "3.7.9 (tags/v3.7.9:13c94747c7, Aug 17 2020, 18:58:18) [MSC v.1900 64 bit (AMD64)]"
  },
  "orig_nbformat": 4,
  "vscode": {
   "interpreter": {
    "hash": "69c81a78582b4dbd07afc1f7479108ffee392732560c6594404b549ac30e6d77"
   }
  }
 },
 "nbformat": 4,
 "nbformat_minor": 2
}
