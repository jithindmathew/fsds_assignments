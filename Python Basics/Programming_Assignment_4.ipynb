{
 "cells": [
  {
   "attachments": {},
   "cell_type": "markdown",
   "metadata": {},
   "source": [
    "```\n",
    "1. Write a Python Program to Find the Factorial of a Number?\n",
    "```"
   ]
  },
  {
   "cell_type": "code",
   "execution_count": 2,
   "metadata": {},
   "outputs": [
    {
     "name": "stdout",
     "output_type": "stream",
     "text": [
      "Factorial of 8 = 40320\n"
     ]
    }
   ],
   "source": [
    "while True:\n",
    "    try:\n",
    "        n = int(input(\"Enter a number : \"))\n",
    "        break\n",
    "    except ValueError:\n",
    "        print(\"Enter a valid number\")\n",
    "\n",
    "ans = 1\n",
    "\n",
    "if n == 0:\n",
    "    print(f\"Factorial of 0 = 0\")\n",
    "else:\n",
    "    for i in range(1, n + 1):\n",
    "        ans *= i\n",
    "    \n",
    "    print(f\"Factorial of {n} = {ans}\")"
   ]
  },
  {
   "attachments": {},
   "cell_type": "markdown",
   "metadata": {},
   "source": [
    "```\n",
    "2. Write a Python Program to Display the multiplication Table?\n",
    "```"
   ]
  },
  {
   "cell_type": "code",
   "execution_count": 3,
   "metadata": {},
   "outputs": [
    {
     "name": "stdout",
     "output_type": "stream",
     "text": [
      "7 X 1 = 7\n",
      "7 X 2 = 14\n",
      "7 X 3 = 21\n",
      "7 X 4 = 28\n",
      "7 X 5 = 35\n",
      "7 X 6 = 42\n",
      "7 X 7 = 49\n",
      "7 X 8 = 56\n",
      "7 X 9 = 63\n",
      "7 X 10 = 70\n"
     ]
    }
   ],
   "source": [
    "while True:\n",
    "    try:\n",
    "        n = int(input(\"Enter a number : \"))\n",
    "        break\n",
    "    except ValueError:\n",
    "        print(\"Enter a valid number\")\n",
    "\n",
    "for i in range(1, 11):\n",
    "    print(f\"{n} X {i} = {n * i}\")"
   ]
  },
  {
   "attachments": {},
   "cell_type": "markdown",
   "metadata": {},
   "source": [
    "```\n",
    "3. Write a Python Program to Print the Fibonacci sequence?\n",
    "```"
   ]
  },
  {
   "cell_type": "code",
   "execution_count": 4,
   "metadata": {},
   "outputs": [
    {
     "name": "stdout",
     "output_type": "stream",
     "text": [
      "first 12 fibonacci numbers : \n",
      "[1, 1, 2, 3, 5, 8, 13, 21, 34, 55, 89, 144]\n"
     ]
    }
   ],
   "source": [
    "while True:\n",
    "    try:\n",
    "        n = int(input(\"Enter 'n' to find the first n fibonacci numbers : \"))\n",
    "        break\n",
    "    except ValueError:\n",
    "        print(\"Enter a valid number\")\n",
    "\n",
    "arr = [0] * n\n",
    "\n",
    "arr[0] = 1\n",
    "arr[1] = 1\n",
    "\n",
    "for i in range(2, n):\n",
    "    arr[i] = arr[i - 1] + arr[i - 2]\n",
    "\n",
    "print(f\"first {n} fibonacci numbers : \\n{arr}\")"
   ]
  },
  {
   "attachments": {},
   "cell_type": "markdown",
   "metadata": {},
   "source": [
    "```\n",
    "4. Write a Python Program to Check Armstrong Number?\n",
    "```"
   ]
  },
  {
   "cell_type": "code",
   "execution_count": 5,
   "metadata": {},
   "outputs": [
    {
     "name": "stdout",
     "output_type": "stream",
     "text": [
      "135 is NOT an Armstrong number\n"
     ]
    }
   ],
   "source": [
    "while True:\n",
    "    try:\n",
    "        n = int(input(\"Enter a number : \"))\n",
    "        break\n",
    "    except ValueError:\n",
    "        print(\"Enter a valid number\")\n",
    "\n",
    "temp = sum(map(lambda x: pow(int(x), len(str(n))), list(str(n))))\n",
    "\n",
    "if temp == n:\n",
    "    print(f\"{n} is an Armstrong number\")\n",
    "else:\n",
    "    print(f\"{n} is NOT an Armstrong number\")"
   ]
  },
  {
   "attachments": {},
   "cell_type": "markdown",
   "metadata": {},
   "source": [
    "```\n",
    "5. Write a Python Program to Find Armstrong Number in an Interval?\n",
    "```"
   ]
  },
  {
   "cell_type": "code",
   "execution_count": 6,
   "metadata": {},
   "outputs": [
    {
     "name": "stdout",
     "output_type": "stream",
     "text": [
      "Enter the lower limit and upper limit of the \n",
      "interval as two space seperated integers : \n",
      "Given lower limit : 10\n",
      "Given upper limit : 3000\n",
      "----------------------------\n",
      "153 is an Armstrong number\n",
      "370 is an Armstrong number\n",
      "371 is an Armstrong number\n",
      "407 is an Armstrong number\n",
      "1634 is an Armstrong number\n"
     ]
    }
   ],
   "source": [
    "print(\"Enter the lower limit and upper limit of the \\ninterval as two space seperated integers : \")\n",
    "l, h = map(int, input().split(\" \"))\n",
    "\n",
    "print(f\"Given lower limit : {l}\\nGiven upper limit : {h}\")\n",
    "\n",
    "print(\"----------------------------\")\n",
    "\n",
    "def is_armstrong(n):\n",
    "    return n == sum(map(lambda x: pow(int(x), len(str(n))), list(str(n))))\n",
    "\n",
    "for n in range(l, h + 1):\n",
    "    if is_armstrong(n):\n",
    "        print(f\"{n} is an Armstrong number\")"
   ]
  },
  {
   "attachments": {},
   "cell_type": "markdown",
   "metadata": {},
   "source": [
    "```\n",
    "6. Write a Python Program to Find the Sum of Natural Numbers?\n",
    "```"
   ]
  },
  {
   "cell_type": "code",
   "execution_count": 45,
   "metadata": {},
   "outputs": [
    {
     "name": "stdout",
     "output_type": "stream",
     "text": [
      "Sum of first 23 natural numbers : 276\n"
     ]
    }
   ],
   "source": [
    "while True:\n",
    "    try:\n",
    "        n = int(input(\"Enter a number : \"))\n",
    "        break\n",
    "    except ValueError:\n",
    "        print(\"Enter a valid number\")\n",
    "\n",
    "print(f\"Sum of first {n} natural numbers : {(n * (n + 1)) // 2}\")"
   ]
  }
 ],
 "metadata": {
  "kernelspec": {
   "display_name": "fsds",
   "language": "python",
   "name": "python3"
  },
  "language_info": {
   "codemirror_mode": {
    "name": "ipython",
    "version": 3
   },
   "file_extension": ".py",
   "mimetype": "text/x-python",
   "name": "python",
   "nbconvert_exporter": "python",
   "pygments_lexer": "ipython3",
   "version": "3.7.9 (tags/v3.7.9:13c94747c7, Aug 17 2020, 18:58:18) [MSC v.1900 64 bit (AMD64)]"
  },
  "orig_nbformat": 4,
  "vscode": {
   "interpreter": {
    "hash": "69c81a78582b4dbd07afc1f7479108ffee392732560c6594404b549ac30e6d77"
   }
  }
 },
 "nbformat": 4,
 "nbformat_minor": 2
}
