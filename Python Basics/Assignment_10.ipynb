{
 "cells": [
  {
   "attachments": {},
   "cell_type": "markdown",
   "metadata": {},
   "source": [
    "```\n",
    "1. How do you distinguish between shutil.copy() and shutil.copytree()?\n",
    "```\n",
    "\n",
    "### Ans.\n",
    "\n",
    "`shutil.copy()` will copy a single file\n",
    "\n",
    "`shutil.copytree()` will copy an entire folder including all subfolders and files in it\n",
    "\n",
    "---"
   ]
  },
  {
   "attachments": {},
   "cell_type": "markdown",
   "metadata": {},
   "source": [
    "```\n",
    "2. What function is used to rename files?\n",
    "```\n",
    "\n",
    "### Ans.\n",
    "\n",
    "```\n",
    "import os\n",
    "os.rename(src=old_name, dst=new_name)\n",
    "```\n",
    "\n",
    "---"
   ]
  },
  {
   "attachments": {},
   "cell_type": "markdown",
   "metadata": {},
   "source": [
    "```\n",
    "3. What is the difference between the delete functions in the send2trash and shutil modules?\n",
    "```\n",
    "\n",
    "### Ans.\n",
    "\n",
    "`send2trash` will move a file/folder to trash\n",
    "\n",
    "delete functions in shutil module will permanently delete files and folders\n",
    "\n",
    "``\n",
    "\n",
    "---"
   ]
  },
  {
   "attachments": {},
   "cell_type": "markdown",
   "metadata": {},
   "source": [
    "```\n",
    "4.ZipFile objects have a close() method just like File objects’ close() method. What ZipFile method is equivalent to File objects’ open() method?\n",
    "```\n",
    "\n",
    "### Ans.\n",
    "\n",
    "`zipfile.ZipFile()` function is equivalent to `open()` function\n",
    "\n",
    "---"
   ]
  },
  {
   "attachments": {},
   "cell_type": "markdown",
   "metadata": {},
   "source": [
    "```\n",
    "5. Create a programme that searches a folder tree for files with a certain file extension (such as .pdf or .jpg). Copy these files from whatever location they are in to a new folder.\n",
    "```\n",
    "\n",
    "### Ans."
   ]
  },
  {
   "cell_type": "code",
   "execution_count": null,
   "metadata": {},
   "outputs": [],
   "source": [
    "import os\n",
    "import shutil\n",
    "from typing import Union, List\n",
    "\n",
    "\n",
    "def ans_5(\n",
    "    target_folder: str,\n",
    "    extensions: List[str],\n",
    "    dest_folder: Union[str, None] = \"copied_files\",\n",
    ") -> None:\n",
    "    \"\"\"Copies all the files with the given extensions into dest_folder\n",
    "\n",
    "    Args:\n",
    "        target_folder (str): Looks inside the target_folder and all the subfolders inside it for\n",
    "            all files with the given extensions.\n",
    "\n",
    "        dest_folder (str): The copied files are pasted to this folder. If an existing folder\n",
    "            is given, then the files are copied into it. Otherwise a new folder named\n",
    "            dest_folder is created\n",
    "\n",
    "        extensions (List[str]): all of the extensions which you need to copy into dest_folder\n",
    "\n",
    "    Returns:\n",
    "        None\n",
    "\n",
    "    Raises:\n",
    "        FileNotFoundError: when target_folder does not exist\n",
    "    \"\"\"\n",
    "\n",
    "    bg = \"\\033[1;32m\"\n",
    "    br = \"\\033[1;31m\"\n",
    "    bb = \"\\033[1;36m\"\n",
    "    nw = \"\\033[0m\"\n",
    "\n",
    "    target_folder_abs_path = os.path.abspath(target_folder)\n",
    "    dest_folder_abs_path = os.path.abspath(dest_folder)\n",
    "\n",
    "    if not os.path.exists(target_folder):\n",
    "        raise FileNotFoundError(\"folder \" + bb + \">>> \" + nw + f\"{target_folder}\" + bb +\n",
    "                                \" <<<\" + br + \" DOES NOT EXIST.\" + nw)\n",
    "\n",
    "    if os.path.isdir(dest_folder):\n",
    "        print(\"folder \" + bb + \">>> \" + nw + f\"{dest_folder}\" + bb + \" <<<\" + nw + \" exists.\")\n",
    "    else:\n",
    "        os.mkdir(path=dest_folder)\n",
    "        print(\"folder \" + bb + \">>> \" + nw + f\"{dest_folder}\" + bb + \" <<<\" + bg + \" CREATED.\" + nw)\n",
    "\n",
    "    for foldername, subfolders, filenames in os.walk(target_folder_abs_path):\n",
    "        for filename in filenames:\n",
    "            fname, extension = os.path.splitext(filename)\n",
    "            if extension in extensions:\n",
    "                new_file_name = \"_\".join(\n",
    "                    foldername.replace(target_folder_abs_path, \"\").split(\"\\\\\")[1:]\n",
    "                ) + \"_\" + fname\n",
    "                if len(new_file_name) >= 255:\n",
    "                    print(\"filename \" + bb + \">>> \" + nw + f\"{new_file_name}\" + bb + \" <<<\" + br +\n",
    "                        \" exceeds 255 characters which is not supported by windows\\n\" + bg +\n",
    "                        \"trimming to last 250 characters\" + nw)\n",
    "                    new_file_name = new_file_name[len(new_file_name) - 250]\n",
    "                file_abs_path = foldername + os.path.sep + filename\n",
    "                shutil.copy(file_abs_path, dest_folder_abs_path + os.path.sep + new_file_name + extension)\n",
    "                print(file_abs_path + bg + \" COPIED\" + nw)"
   ]
  },
  {
   "attachments": {},
   "cell_type": "markdown",
   "metadata": {},
   "source": [
    "---"
   ]
  }
 ],
 "metadata": {
  "kernelspec": {
   "display_name": "fsds",
   "language": "python",
   "name": "python3"
  },
  "language_info": {
   "codemirror_mode": {
    "name": "ipython",
    "version": 3
   },
   "file_extension": ".py",
   "mimetype": "text/x-python",
   "name": "python",
   "nbconvert_exporter": "python",
   "pygments_lexer": "ipython3",
   "version": "3.7.9"
  },
  "orig_nbformat": 4
 },
 "nbformat": 4,
 "nbformat_minor": 2
}
