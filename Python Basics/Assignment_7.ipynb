{
 "cells": [
  {
   "cell_type": "code",
   "execution_count": 1,
   "metadata": {},
   "outputs": [],
   "source": [
    "import re"
   ]
  },
  {
   "attachments": {},
   "cell_type": "markdown",
   "metadata": {},
   "source": [
    "```\n",
    "1. What is the name of the feature responsible for generating Regex objects?\n",
    "```\n",
    "\n",
    "### Ans.\n",
    "\n",
    "`compile()` from `re` module is the feature responsible for generating regex object.\n",
    "\n",
    "---\n"
   ]
  },
  {
   "attachments": {},
   "cell_type": "markdown",
   "metadata": {},
   "source": [
    "```\n",
    "2. Why do raw strings often appear in Regex objects?\n",
    "```\n",
    "\n",
    "### Ans.\n",
    "\n",
    "In raw strings, `\\` is considered as a normal character while in normal strings it is used as a special character\n",
    "\n",
    "---\n"
   ]
  },
  {
   "attachments": {},
   "cell_type": "markdown",
   "metadata": {},
   "source": [
    "```\n",
    "3. What is the return value of the search() method?\n",
    "```\n",
    "\n",
    "### Ans.\n",
    "\n",
    "It returns a `re.Match` object that contains the first location where regular expression pattern produces a match if there is a match and `None` is there is no match\n",
    "\n",
    "---\n"
   ]
  },
  {
   "attachments": {},
   "cell_type": "markdown",
   "metadata": {},
   "source": [
    "```\n",
    "4. From a Match item, how do you get the actual strings that match the pattern?\n",
    "```\n",
    "\n",
    "### Ans.\n",
    "\n",
    "The matched strings are obtained by using `.group()` method os the resultant `re.Match` object that is obtained after `re.search`"
   ]
  },
  {
   "cell_type": "code",
   "execution_count": 2,
   "metadata": {},
   "outputs": [
    {
     "name": "stdout",
     "output_type": "stream",
     "text": [
      "Hi\n"
     ]
    }
   ],
   "source": [
    "result = re.search(r\"Hi\", \"Hi\\nHe Hillo\")\n",
    "print(result.group())"
   ]
  },
  {
   "attachments": {},
   "cell_type": "markdown",
   "metadata": {},
   "source": [
    "---"
   ]
  },
  {
   "attachments": {},
   "cell_type": "markdown",
   "metadata": {},
   "source": [
    "```\n",
    "5. In the regex which created from the r'(\\d\\d\\d)-(\\d\\d\\d-\\d\\d\\d\\d)', what does group zero cover? Group 2? Group 1?\n",
    "```\n",
    "\n",
    "### Ans.\n",
    "\n",
    "Group 0 covers the entire pattern match : (\\d\\d\\d)-(\\d\\d\\d-\\d\\d\\d\\d)\n",
    "\n",
    "Group 1 covers the pattern in the first bracket : (\\d\\d\\d)\n",
    "\n",
    "Group 2 covers the pattern in the second bracket : (\\d\\d\\d-\\d\\d\\d\\d)\n",
    "\n",
    "---\n"
   ]
  },
  {
   "attachments": {},
   "cell_type": "markdown",
   "metadata": {},
   "source": [
    "```\n",
    "6. In standard expression syntax, parentheses and intervals have distinct meanings. How can you tell a regex that you want it to fit real parentheses and periods?\n",
    "```\n",
    "\n",
    "### Ans.\n",
    "\n",
    "To fit real patentheses, we use `\\(` and `\\)`\n",
    "\n",
    "To fit real intervals, we use `\\.`\n",
    "\n",
    "---\n"
   ]
  },
  {
   "attachments": {},
   "cell_type": "markdown",
   "metadata": {},
   "source": [
    "```\n",
    "7. The findall() method returns a string list or a list of string tuples. What causes it to return one of the two options?\n",
    "```\n",
    "\n",
    "### Ans.\n",
    "\n",
    "A string list is returned if regex patterns has no groups\n",
    "\n",
    "A list of string tuples is returned if pattern has gropus\n",
    "\n",
    "---\n"
   ]
  },
  {
   "attachments": {},
   "cell_type": "markdown",
   "metadata": {},
   "source": [
    "```\n",
    "8. In standard expressions, what does the | character mean?\n",
    "```\n",
    "\n",
    "### Ans.\n",
    "\n",
    "`|` means 'or' operator\n",
    "\n",
    "---\n"
   ]
  },
  {
   "attachments": {},
   "cell_type": "markdown",
   "metadata": {},
   "source": [
    "```\n",
    "9. In regular expressions, what does the ? character stand for?\n",
    "```\n",
    "\n",
    "### Ans.\n",
    "\n",
    "It is used to represent zero or one match of the preceeding group"
   ]
  },
  {
   "cell_type": "code",
   "execution_count": 3,
   "metadata": {},
   "outputs": [
    {
     "name": "stdout",
     "output_type": "stream",
     "text": [
      "book\n",
      "books\n"
     ]
    }
   ],
   "source": [
    "print(re.search(r\"book(s)?\", \"There is one book\").group())\n",
    "print(re.search(r\"book(s)?\", \"There are many books\").group()) "
   ]
  },
  {
   "attachments": {},
   "cell_type": "markdown",
   "metadata": {},
   "source": [
    "---"
   ]
  },
  {
   "attachments": {},
   "cell_type": "markdown",
   "metadata": {},
   "source": [
    "```\n",
    "10.In regular expressions, what is the difference between the + and * characters?\n",
    "```\n",
    "\n",
    "### Ans.\n",
    "\n",
    "`*` represents zero or more occurances of the preceeding group\n",
    "\n",
    "`+` represents one or more occurances of the preceeding group\n",
    "\n",
    "---\n"
   ]
  },
  {
   "attachments": {},
   "cell_type": "markdown",
   "metadata": {},
   "source": [
    "```\n",
    "11. What is the difference between {4} and {4,5} in regular expression?\n",
    "```\n",
    "\n",
    "### Ans.\n",
    "\n",
    "`{4}` means the preceeding group should repeat 4 times\n",
    "\n",
    "`{4,5}` means the preceeding group should repeat minimum 4 times and maximum 5 times"
   ]
  },
  {
   "cell_type": "code",
   "execution_count": null,
   "metadata": {},
   "outputs": [],
   "source": [
    "print(re.search(r\"(a){4}\", \"Haaaa is one book\").group()) \n",
    "print(re.search(r\"(a){3}\", \"Haaaa is one book\").group()) \n",
    "print(re.search(r\"(a){4,6}\", \"Haaaaa are many books\").group()) "
   ]
  },
  {
   "attachments": {},
   "cell_type": "markdown",
   "metadata": {},
   "source": [
    "---"
   ]
  },
  {
   "attachments": {},
   "cell_type": "markdown",
   "metadata": {},
   "source": [
    "```\n",
    "12. What do you mean by the \\d, \\w, and \\s shorthand character classes signify in regular\n",
    "expressions?\n",
    "```\n",
    "\n",
    "### Ans.\n",
    "\n",
    "`\\d` matches digit characters ( `[0-9]` ) and other digit characters for example eastern arabic numerals `٠١٢٣٤٥٦٧٨٩`. It can be set to only match `[0-9]` by using a flag"
   ]
  },
  {
   "cell_type": "code",
   "execution_count": 4,
   "metadata": {},
   "outputs": [
    {
     "name": "stdout",
     "output_type": "stream",
     "text": [
      "٢\n",
      "4\n"
     ]
    }
   ],
   "source": [
    "print(re.search(r\"\\d\", \"٢٣٤٥٦\").group()) \n",
    "print(re.search(r\"\\d\", \"٢٣٤٦463\", flags=re.ASCII).group()) "
   ]
  },
  {
   "attachments": {},
   "cell_type": "markdown",
   "metadata": {},
   "source": [
    "`\\w` matches a word character which can be either `[a-z]`, or `[A-Z]` or `[0-9]` or `_`. i.e. alphabets, numbers and underscores"
   ]
  },
  {
   "cell_type": "code",
   "execution_count": 5,
   "metadata": {},
   "outputs": [
    {
     "name": "stdout",
     "output_type": "stream",
     "text": [
      "٢\n",
      "D\n"
     ]
    }
   ],
   "source": [
    "print(re.search(r\"\\w\", \"٢٣٤٦\").group()) \n",
    "print(re.search(r\"\\w\", \"٢٣٤٦D\", flags=re.ASCII).group()) "
   ]
  },
  {
   "attachments": {},
   "cell_type": "markdown",
   "metadata": {},
   "source": [
    "`\\s` matches a whitespace character which may be space, tab or newlinee"
   ]
  },
  {
   "attachments": {},
   "cell_type": "markdown",
   "metadata": {},
   "source": [
    "---"
   ]
  },
  {
   "attachments": {},
   "cell_type": "markdown",
   "metadata": {},
   "source": [
    "```\n",
    "13. What do means by \\D, \\W, and \\S shorthand character classes signify in regular expressions?\n",
    "```\n",
    "\n",
    "### Ans.\n",
    "\n",
    "`\\D` matches any non-digit characters which is the opposite of `\\d`\n",
    "\n",
    "`\\W` matches any non word characters, opposite of `\\w`\n",
    "\n",
    "`\\S` matches any non whitespace characters\n",
    "\n",
    "---\n"
   ]
  },
  {
   "attachments": {},
   "cell_type": "markdown",
   "metadata": {},
   "source": [
    "```\n",
    "14. What is the difference between .*? and .*\n",
    "```\n",
    "\n",
    "### Ans.\n",
    "\n",
    "`.*` returns the longest string that meets the condition\n",
    "\n",
    "`.*?` returns the shortest string that meets the condition"
   ]
  },
  {
   "cell_type": "code",
   "execution_count": 7,
   "metadata": {},
   "outputs": [
    {
     "name": "stdout",
     "output_type": "stream",
     "text": [
      "1010000000001\n",
      "101\n"
     ]
    }
   ],
   "source": [
    "print(re.search(r\"1.*1\", \"101000000000100\").group())\n",
    "print(re.search(r\"1.*?1\", \"101000000000100\").group())"
   ]
  },
  {
   "attachments": {},
   "cell_type": "markdown",
   "metadata": {},
   "source": [
    "---"
   ]
  },
  {
   "attachments": {},
   "cell_type": "markdown",
   "metadata": {},
   "source": [
    "```\n",
    "15. What is the syntax for matching both numbers and lowercase letters with a character class?\n",
    "```\n",
    "\n",
    "### Ans.\n",
    "\n",
    "`[a-z0-9]`\n",
    "\n",
    "---"
   ]
  },
  {
   "attachments": {},
   "cell_type": "markdown",
   "metadata": {},
   "source": [
    "```\n",
    "16. What is the procedure for making a normal expression in regax case insensitive?\n",
    "```\n",
    "\n",
    "### Ans.\n",
    "\n",
    "By passing in a flag\n",
    "\n",
    "`re.search(pattern, string, flags=re.IGNORECASE)`\n",
    "\n",
    "---"
   ]
  },
  {
   "attachments": {},
   "cell_type": "markdown",
   "metadata": {},
   "source": [
    "```\n",
    "17. What does the . character normally match? What does it match if re.DOTALL is passed as 2nd argument in re.compile()?\n",
    "```\n",
    "\n",
    "### Ans.\n",
    "\n",
    "`.` character matches everything except newline character. If `re.DOTALL` is passed as second argument in `re.compile()`, then `.` matches every character including newline character. \n",
    "\n",
    "---\n"
   ]
  },
  {
   "attachments": {},
   "cell_type": "markdown",
   "metadata": {},
   "source": [
    "```\n",
    "18. If numReg = re.compile(r'\\d+'), what will numRegex.sub('X', '11 drummers, 10 pipers, five rings, 4hen') return?\n",
    "```\n",
    "\n",
    "### Ans.\n",
    "\n",
    "`'X drummers, X pipers, five rings, Xhen'`\n",
    "\n",
    "---\n"
   ]
  },
  {
   "attachments": {},
   "cell_type": "markdown",
   "metadata": {},
   "source": [
    "```\n",
    "19. What does passing re.VERBOSE as the 2nd argument to re.compile() allow to do?\n",
    "```\n",
    "\n",
    "### Ans.\n",
    "\n",
    "`re.VERBOSE` will allow us to add spaces, comments and newline characters to the pattern passed to `re.compile()` \n",
    "\n",
    "---\n"
   ]
  },
  {
   "attachments": {},
   "cell_type": "markdown",
   "metadata": {},
   "source": [
    "```\n",
    "20. How would you write a regex that match a number with comma for every three digits? It must match the given following:\n",
    "'42'\n",
    "'1,234'\n",
    "'6,368,745'\n",
    "\n",
    "but not the following:\n",
    "'12,34,567' (which has only two digits between the commas)\n",
    "'1234' (which lacks commas)\n",
    "```\n",
    "\n",
    "### Ans."
   ]
  },
  {
   "cell_type": "code",
   "execution_count": 8,
   "metadata": {},
   "outputs": [],
   "source": [
    "reg_pattern = re.compile(r\"^\\d{1,3}(,\\d{3})*$\")"
   ]
  },
  {
   "attachments": {},
   "cell_type": "markdown",
   "metadata": {},
   "source": [
    "---"
   ]
  },
  {
   "attachments": {},
   "cell_type": "markdown",
   "metadata": {},
   "source": [
    "```\n",
    "21. How would you write a regex that matches the full name of someone whose last name is Watanabe? You can assume that the first name that comes before it will always be one word that begins with a capital letter. The regex must match the following:\n",
    "'Haruto Watanabe'\n",
    "'Alice Watanabe'\n",
    "'RoboCop Watanabe'\n",
    "but not the following:\n",
    "'haruto Watanabe' (where the first name is not capitalized)\n",
    "'Mr. Watanabe' (where the preceding word has a nonletter character)\n",
    "'Watanabe' (which has no first name)\n",
    "'Haruto watanabe' (where Watanabe is not capitalized)\n",
    "```\n",
    "\n",
    "### Ans."
   ]
  },
  {
   "cell_type": "code",
   "execution_count": 9,
   "metadata": {},
   "outputs": [],
   "source": [
    "reg_pattern = re.compile(r\"[A-Z]{1}[a-z]*\\sWatanabe\")"
   ]
  },
  {
   "attachments": {},
   "cell_type": "markdown",
   "metadata": {},
   "source": [
    "---"
   ]
  },
  {
   "attachments": {},
   "cell_type": "markdown",
   "metadata": {},
   "source": [
    "```\n",
    "22. How would you write a regex that matches a sentence where the first word is either Alice, Bob, or Carol; the second word is either eats, pets, or throws; the third word is apples, cats, or baseballs; and the sentence ends with a period? This regex should be case-insensitive. It must match the following:\n",
    "'Alice eats apples.'\n",
    "'Bob pets cats.'\n",
    "'Carol throws baseballs.'\n",
    "'Alice throws Apples.'\n",
    "'BOB EATS CATS.'\n",
    "but not the following:\n",
    "'RoboCop eats apples.'\n",
    "'ALICE THROWS FOOTBALLS.'\n",
    "'Carol eats 7 cats.'\n",
    "```\n",
    "\n",
    "### Ans."
   ]
  },
  {
   "cell_type": "code",
   "execution_count": 12,
   "metadata": {},
   "outputs": [],
   "source": [
    "reg_pattern = re.compile(r\"(Alice|Bob|Carol)\\s(eats|pets|throws)\\s(apples|cats|baseballs).$\",flags=re.IGNORECASE)"
   ]
  },
  {
   "attachments": {},
   "cell_type": "markdown",
   "metadata": {},
   "source": [
    "---"
   ]
  }
 ],
 "metadata": {
  "kernelspec": {
   "display_name": "fsds",
   "language": "python",
   "name": "python3"
  },
  "language_info": {
   "codemirror_mode": {
    "name": "ipython",
    "version": 3
   },
   "file_extension": ".py",
   "mimetype": "text/x-python",
   "name": "python",
   "nbconvert_exporter": "python",
   "pygments_lexer": "ipython3",
   "version": "3.7.9"
  },
  "orig_nbformat": 4
 },
 "nbformat": 4,
 "nbformat_minor": 2
}
