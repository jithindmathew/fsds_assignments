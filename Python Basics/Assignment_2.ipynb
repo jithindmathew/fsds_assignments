{
 "cells": [
  {
   "attachments": {},
   "cell_type": "markdown",
   "metadata": {},
   "source": [
    "```\n",
    "1.What are the two values of the Boolean data type? How do you write them?\n",
    "```\n",
    "\n",
    "### Ans. \n",
    "\n",
    "The two values of the Boolean data type are true/false or on/off. We write them as `True` and `False`\n",
    "\n",
    "---"
   ]
  },
  {
   "attachments": {},
   "cell_type": "markdown",
   "metadata": {},
   "source": [
    "```\n",
    "2. What are the three different types of Boolean operators?\n",
    "```\n",
    "\n",
    "### Ans.\n",
    "\n",
    "The three different boolean operators are \n",
    "- `and`\n",
    "- `or`\n",
    "- `not`\n",
    "\n",
    "---"
   ]
  },
  {
   "attachments": {},
   "cell_type": "markdown",
   "metadata": {},
   "source": [
    "```\n",
    "3. Make a list of each Boolean operator&#39;s truth tables (i.e. every possible combination of Boolean\n",
    "values for the operator and what it evaluate ).\n",
    "```\n",
    "### Ans.\n",
    "\n",
    "\\begin{array} {|r|r|r|} \n",
    "  \\hline \n",
    "  A & B & or \\\\ \n",
    "  \\hline\n",
    "  0 & 0 & 0 \\\\ \n",
    "  \\hline\n",
    "  0 & 1 & 1 \\\\ \n",
    "  \\hline\n",
    "  1 &0 & 1 \\\\ \n",
    "  \\hline\n",
    "  1 & 1 & 1 \\\\ \n",
    "  \\hline\n",
    "\\end{array}\n",
    "\n",
    "\\begin{array} {|r|r|r|} \n",
    "\\hline \n",
    "  A & B & and \\\\ \n",
    "  \\hline\n",
    "  0 & 0 & 0 \\\\ \n",
    "  \\hline\n",
    "  0 & 1 & 0 \\\\ \n",
    "  \\hline\n",
    "  1 & 0 & 0 \\\\ \n",
    "  \\hline\n",
    "  1 & 1 & 1 \\\\ \n",
    "  \\hline\n",
    "\\end{array}\n",
    "\n",
    "\\begin{array} {|r|r|r|} \n",
    "\\hline \n",
    "  A & not \\\\ \n",
    "  \\hline\n",
    "  0 & 1 \\\\ \n",
    "  \\hline\n",
    "  1 & 0 \\\\ \n",
    "  \\hline\n",
    "\\end{array}\n",
    "\n",
    "---"
   ]
  },
  {
   "attachments": {},
   "cell_type": "markdown",
   "metadata": {},
   "source": [
    "```\n",
    "4. What are the values of the following expressions?\n",
    "(5 > 4) and (3 == 5)\n",
    "not (5 > 4)\n",
    "(5 > 4) or (3 == 5)\n",
    "not ((5 > 4) or (3 == 5))\n",
    "(True and True) and (True == False)\n",
    "(not False) or (not True)\n",
    "```\n",
    "\n",
    "### Ans.\n",
    "\n",
    "`(5 > 4) and (3 == 5)` : `False`\n",
    "\n",
    "`not (5 > 4)` : `False`\n",
    "\n",
    "`(5 > 4) or (3 == 5)` : `True`\n",
    "\n",
    "`not ((5 > 4) or (3 == 5))` : `False`\n",
    "\n",
    "`(True and True) and (True == False)` : `False`\n",
    "\n",
    "`(not False) or (not True)` : `True`\n",
    "\n",
    "---\n"
   ]
  },
  {
   "attachments": {},
   "cell_type": "markdown",
   "metadata": {},
   "source": [
    "```\n",
    "5. What are the six comparison operators?\n",
    "```\n",
    "\n",
    "### Ans.\n",
    "\n",
    "The six comparison operators are:\n",
    "1) `==` : Equal to \n",
    "\n",
    "2) `!=` : Not equal to\n",
    "\n",
    "3) `>` : Greater than\n",
    "\n",
    "4) `<` : Less than\n",
    "\n",
    "5) `>=` : Greater than or equal to\n",
    "\n",
    "6) `<=` : Less than or equal to \n",
    "\n",
    "---"
   ]
  },
  {
   "attachments": {},
   "cell_type": "markdown",
   "metadata": {},
   "source": [
    "```\n",
    "6. How do you tell the difference between the equal to and assignment operators?Describe a\n",
    "condition and when you would use one.\n",
    "```\n",
    "\n",
    "### Ans.\n",
    "\n",
    "Equal to operator : `==`\n",
    "\n",
    "Eg: 2 == (6 // 2)\n",
    "\n",
    "Assignment operator : `=`\n",
    "\n",
    "Eg: x = 10\n",
    "\n",
    "\n",
    "---\n"
   ]
  },
  {
   "attachments": {},
   "cell_type": "markdown",
   "metadata": {},
   "source": [
    "```\n",
    "7. Identify the three blocks in this code:\n",
    "spam = 0\n",
    "if spam == 10:\n",
    "print('eggs')\n",
    "if spam > 5:\n",
    "print('bacon')\n",
    "else:\n",
    "print('ham')\n",
    "print('spam')\n",
    "print('spam')\n",
    "```\n",
    "\n",
    "### Ans.\n",
    "\n",
    "```\n",
    "spam = 0\n",
    "if spam == 10:\n",
    "    print('eggs')\n",
    "    if spam > 5:\n",
    "        print('bacon')\n",
    "    else:\n",
    "        print('ham')\n",
    "print('spam')\n",
    "print('spam')\n",
    "```\n",
    "---"
   ]
  },
  {
   "attachments": {},
   "cell_type": "markdown",
   "metadata": {},
   "source": [
    "```\n",
    "8. Write code that prints Hello if 1 is stored in spam, prints Howdy if 2 is stored in spam, and prints\n",
    "Greetings! if anything else is stored in spam.\n",
    "```\n",
    "### Ans.\n",
    "\n",
    "```\n",
    "if spam == 1:\n",
    "    print(\"Hello\")\n",
    "elif spam == 2:\n",
    "    print(\"Howdy\")\n",
    "else:\n",
    "    print(\"Greetings!\")\n",
    "```\n",
    "\n",
    "---"
   ]
  },
  {
   "attachments": {},
   "cell_type": "markdown",
   "metadata": {},
   "source": [
    "```\n",
    "9.If your programme is stuck in an endless loop, what keys you’ll press?\n",
    "```\n",
    "\n",
    "### Ans.\n",
    "\n",
    "`ctrl + c` to stop the execution of the program\n",
    "\n",
    "---"
   ]
  },
  {
   "attachments": {},
   "cell_type": "markdown",
   "metadata": {},
   "source": [
    "```\n",
    "10. How can you tell the difference between break and continue?\n",
    "```\n",
    "\n",
    "### Ans.\n",
    "\n",
    "`break` keyword terminates the current loop that is running whereas `continue` keyword skips the current iteration of the loop.\n",
    "\n",
    "---"
   ]
  },
  {
   "attachments": {},
   "cell_type": "markdown",
   "metadata": {},
   "source": [
    "```\n",
    "11. In a for loop, what is the difference between range(10), range(0, 10), and range(0, 10, 1)?\n",
    "```\n",
    "\n",
    "### Ans. \n",
    "\n",
    "All these 3 are the same\n",
    "\n",
    "---"
   ]
  },
  {
   "attachments": {},
   "cell_type": "markdown",
   "metadata": {},
   "source": [
    "```\n",
    "12. Write a short program that prints the numbers 1 to 10 using a for loop. Then write an equivalent\n",
    "program that prints the numbers 1 to 10 using a while loop."
   ]
  },
  {
   "cell_type": "code",
   "execution_count": 16,
   "metadata": {},
   "outputs": [
    {
     "name": "stdout",
     "output_type": "stream",
     "text": [
      "1\n",
      "2\n",
      "3\n",
      "4\n",
      "5\n",
      "6\n",
      "7\n",
      "8\n",
      "9\n",
      "10\n"
     ]
    }
   ],
   "source": [
    "for i in range(1, 11):\n",
    "    print(i)"
   ]
  },
  {
   "cell_type": "code",
   "execution_count": 17,
   "metadata": {},
   "outputs": [
    {
     "name": "stdout",
     "output_type": "stream",
     "text": [
      "1\n",
      "2\n",
      "3\n",
      "4\n",
      "5\n",
      "6\n",
      "7\n",
      "8\n",
      "9\n",
      "10\n"
     ]
    }
   ],
   "source": [
    "i = 1\n",
    "while i <= 10:\n",
    "    print(i)\n",
    "    i += 1"
   ]
  },
  {
   "attachments": {},
   "cell_type": "markdown",
   "metadata": {},
   "source": [
    "---"
   ]
  },
  {
   "attachments": {},
   "cell_type": "markdown",
   "metadata": {},
   "source": [
    "```\n",
    "13. If you had a function named bacon() inside a module named spam, how would you call it after importing spam?\n",
    "```\n",
    "\n",
    "### Ans.\n",
    "\n",
    "```\n",
    "spam.bacon()\n",
    "```\n",
    "\n",
    "---"
   ]
  }
 ],
 "metadata": {
  "kernelspec": {
   "display_name": "fsds",
   "language": "python",
   "name": "python3"
  },
  "language_info": {
   "codemirror_mode": {
    "name": "ipython",
    "version": 3
   },
   "file_extension": ".py",
   "mimetype": "text/x-python",
   "name": "python",
   "nbconvert_exporter": "python",
   "pygments_lexer": "ipython3",
   "version": "3.7.9"
  },
  "orig_nbformat": 4,
  "vscode": {
   "interpreter": {
    "hash": "69c81a78582b4dbd07afc1f7479108ffee392732560c6594404b549ac30e6d77"
   }
  }
 },
 "nbformat": 4,
 "nbformat_minor": 2
}
