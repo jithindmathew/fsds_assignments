{
 "cells": [
  {
   "attachments": {},
   "cell_type": "markdown",
   "metadata": {},
   "source": [
    "```\n",
    "Question 1\n",
    "```"
   ]
  },
  {
   "cell_type": "code",
   "execution_count": 2,
   "metadata": {},
   "outputs": [
    {
     "name": "stdout",
     "output_type": "stream",
     "text": [
      "0,7,14,21,28,35,42,49,56,63\n"
     ]
    }
   ],
   "source": [
    "from typing import Generator\n",
    "\n",
    "class GeneratorClass:\n",
    "    def __init__(self) -> None:\n",
    "        pass\n",
    "\n",
    "    def generate(self, n: int) -> Generator[int, None, None]:\n",
    "        for i in range(0, n + 1, 7):\n",
    "            yield i\n",
    "\n",
    "g = GeneratorClass()\n",
    "\n",
    "print(*g.generate(66), sep=\",\")"
   ]
  },
  {
   "attachments": {},
   "cell_type": "markdown",
   "metadata": {},
   "source": [
    "```\n",
    "Question 2\n",
    "```"
   ]
  },
  {
   "cell_type": "code",
   "execution_count": 9,
   "metadata": {},
   "outputs": [
    {
     "name": "stdout",
     "output_type": "stream",
     "text": [
      "2:2\n",
      "3.:1\n",
      "3?:1\n",
      "New:1\n",
      "Python:5\n",
      "Read:1\n",
      "and:1\n",
      "between:1\n",
      "choosing:1\n",
      "or:2\n",
      "to:1\n"
     ]
    }
   ],
   "source": [
    "from collections import Counter\n",
    "\n",
    "words = input()\n",
    "words_dict = Counter(words.split(\" \"))\n",
    "\n",
    "for i in sorted(words_dict.keys()):\n",
    "    print(i, \":\", words_dict.get(i), sep=\"\")"
   ]
  },
  {
   "attachments": {},
   "cell_type": "markdown",
   "metadata": {},
   "source": [
    "```\n",
    "Question 3\n",
    "```"
   ]
  },
  {
   "cell_type": "code",
   "execution_count": 11,
   "metadata": {},
   "outputs": [
    {
     "name": "stdout",
     "output_type": "stream",
     "text": [
      "Undefined\n",
      "Male\n",
      "Female\n"
     ]
    }
   ],
   "source": [
    "class Person:\n",
    "    def __init__(self) -> None:\n",
    "        self.gender = \"Undefined\"\n",
    "\n",
    "    def getGender(self) -> None:\n",
    "        print(self.gender)\n",
    "\n",
    "class Male(Person):\n",
    "    def __init__(self) -> None:\n",
    "        super().__init__()\n",
    "        self.gender = \"Male\"\n",
    "\n",
    "class Female(Person):\n",
    "    def __init__(self) -> None:\n",
    "        super().__init__()\n",
    "        self.gender = \"Female\"\n",
    "\n",
    "p = Person()\n",
    "m = Male()\n",
    "f = Female()\n",
    "\n",
    "p.getGender()\n",
    "m.getGender()\n",
    "f.getGender()"
   ]
  },
  {
   "attachments": {},
   "cell_type": "markdown",
   "metadata": {},
   "source": [
    "```\n",
    "Question 4\n",
    "```"
   ]
  },
  {
   "cell_type": "code",
   "execution_count": 33,
   "metadata": {},
   "outputs": [
    {
     "data": {
      "text/plain": [
       "['I Play Hockey',\n",
       " 'I Play Football',\n",
       " 'I Love Hockey',\n",
       " 'I Love Football',\n",
       " 'You Play Hockey',\n",
       " 'You Play Football',\n",
       " 'You Love Hockey',\n",
       " 'You Love Football']"
      ]
     },
     "execution_count": 33,
     "metadata": {},
     "output_type": "execute_result"
    }
   ],
   "source": [
    "from itertools import product\n",
    "\n",
    "subject = [\"I\", \"You\"]\n",
    "verb = [\"Play\", \"Love\"]\n",
    "object = [\"Hockey\", \"Football\"]\n",
    "\n",
    "[\" \".join(i) for i in list(product(subject, verb, object))]\n"
   ]
  },
  {
   "attachments": {},
   "cell_type": "markdown",
   "metadata": {},
   "source": [
    "```\n",
    "Question 5\n",
    "```"
   ]
  },
  {
   "cell_type": "code",
   "execution_count": 35,
   "metadata": {},
   "outputs": [],
   "source": [
    "string = \"hello world!hello world!hello world!hello world!\"\n",
    "\n",
    "compressed = string[:12]\n",
    "decompressed = compressed * 3"
   ]
  },
  {
   "attachments": {},
   "cell_type": "markdown",
   "metadata": {},
   "source": [
    "```\n",
    "Question 6\n",
    "```"
   ]
  },
  {
   "cell_type": "code",
   "execution_count": 39,
   "metadata": {},
   "outputs": [
    {
     "name": "stdout",
     "output_type": "stream",
     "text": [
      "Index : 5\n"
     ]
    }
   ],
   "source": [
    "from typing import List\n",
    "\n",
    "def binary_search(arr: List[int], target: int) -> int:\n",
    "    \"\"\"\n",
    "    Assuming target exists in the given list\n",
    "    \"\"\"\n",
    "    l = 0\n",
    "    r = len(arr) - 1\n",
    "\n",
    "    while l <= r:\n",
    "        m = (l + r) // 2\n",
    "        if arr[m] == target:\n",
    "            return m\n",
    "        elif arr[m] < target:\n",
    "            l = m + 1\n",
    "        else:\n",
    "            r = m - 1\n",
    "\n",
    "    return m\n",
    "\n",
    "print(\"Index :\", binary_search([2, 3, 4, 7, 9, 10, 13, 23, 34, 40], 10))"
   ]
  }
 ],
 "metadata": {
  "kernelspec": {
   "display_name": "fsds",
   "language": "python",
   "name": "python3"
  },
  "language_info": {
   "codemirror_mode": {
    "name": "ipython",
    "version": 3
   },
   "file_extension": ".py",
   "mimetype": "text/x-python",
   "name": "python",
   "nbconvert_exporter": "python",
   "pygments_lexer": "ipython3",
   "version": "3.7.9"
  },
  "orig_nbformat": 4,
  "vscode": {
   "interpreter": {
    "hash": "69c81a78582b4dbd07afc1f7479108ffee392732560c6594404b549ac30e6d77"
   }
  }
 },
 "nbformat": 4,
 "nbformat_minor": 2
}
