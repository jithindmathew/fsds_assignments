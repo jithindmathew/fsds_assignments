{
 "cells": [
  {
   "attachments": {},
   "cell_type": "markdown",
   "metadata": {},
   "source": [
    "```\n",
    "1. What advantages do Excel spreadsheets have over CSV spreadsheets?\n",
    "```\n",
    "\n",
    "### Ans.\n",
    "\n",
    "Excel allows conditional formatting, filters, sorting and grouping.\n",
    "\n",
    "Excel provides many functions and features for data validation like data types, data validation rules\n",
    "\n",
    "Excel supports metadata like sheet names, headers and footers\n",
    "\n",
    "---"
   ]
  },
  {
   "attachments": {},
   "cell_type": "markdown",
   "metadata": {},
   "source": [
    "```\n",
    "2. What do you pass to csv.reader() and csv.writer() to create reader and writer objects?\n",
    "```\n",
    "\n",
    "### Ans.\n",
    "\n",
    "`csv.reader()` takes in any object which supports the iterator protocol and returns a string each time its `__next__()` method is called.\n",
    "\n",
    "`csv.writer()` takes in any object with a `write()` method.\n",
    "\n",
    "---"
   ]
  },
  {
   "attachments": {},
   "cell_type": "markdown",
   "metadata": {},
   "source": [
    "```\n",
    "3. What modes do File objects for reader and writer objects need to be opened in?\n",
    "```\n",
    "\n",
    "### Ans.\n",
    "\n",
    "file object for reader need to be opened in read (`r`) mode \n",
    "\n",
    "file object for reader need to be opened in write (`w`) mode \n",
    "\n",
    "---"
   ]
  },
  {
   "attachments": {},
   "cell_type": "markdown",
   "metadata": {},
   "source": [
    "```\n",
    "4. What method takes a list argument and writes it to a CSV file?\n",
    "```\n",
    "\n",
    "### Ans.\n",
    "\n",
    "`writer.writerow()` takes in a 1-dimensional list.\n",
    "    \n",
    "`writer.writerows()` takes in multi-dimensional list.\n",
    "\n",
    "---"
   ]
  },
  {
   "attachments": {},
   "cell_type": "markdown",
   "metadata": {},
   "source": [
    "```\n",
    "5. What do the keyword arguments delimiter and line terminator do?\n",
    "```\n",
    "\n",
    "### Ans.\n",
    "\n",
    "`delimiter` is a one-character string used to seperate fields. Defalt is `','`\n",
    "\n",
    "`lineterminator` is the string used to terminate lines produced by the writer. Default is `'\\r\\n'`\n",
    "\n",
    "---"
   ]
  },
  {
   "attachments": {},
   "cell_type": "markdown",
   "metadata": {},
   "source": [
    "```\n",
    "6. What function takes a string of JSON data and returns a Python data structure?\n",
    "```\n",
    "\n",
    "### Ans.\n",
    "\n",
    "`loads()` from `json` module takes in a string and returns a python `dict`.\n",
    "\n",
    "---"
   ]
  },
  {
   "attachments": {},
   "cell_type": "markdown",
   "metadata": {},
   "source": [
    "```\n",
    "7. What function takes a Python data structure and returns a string of JSON data?\n",
    "```\n",
    "\n",
    "### Ans.\n",
    "\n",
    "`dumps()` from `json` module takes in a `dict` and returns a `str`.\n",
    "\n",
    "---"
   ]
  }
 ],
 "metadata": {
  "kernelspec": {
   "display_name": "fsds",
   "language": "python",
   "name": "python3"
  },
  "language_info": {
   "codemirror_mode": {
    "name": "ipython",
    "version": 3
   },
   "file_extension": ".py",
   "mimetype": "text/x-python",
   "name": "python",
   "nbconvert_exporter": "python",
   "pygments_lexer": "ipython3",
   "version": "3.7.9"
  },
  "orig_nbformat": 4
 },
 "nbformat": 4,
 "nbformat_minor": 2
}
