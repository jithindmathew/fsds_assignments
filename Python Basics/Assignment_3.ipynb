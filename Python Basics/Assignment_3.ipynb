{
 "cells": [
  {
   "attachments": {},
   "cell_type": "markdown",
   "metadata": {},
   "source": [
    "```\n",
    "1. Why are functions advantageous to have in your programs?\n",
    "```\n",
    "\n",
    "### Ans.\n",
    "\n",
    "Functions eliminate the need of writing the same code multiple times.\n",
    "\n",
    "Same functions can be imported to multiple programs.\n",
    "\n",
    "---"
   ]
  },
  {
   "attachments": {},
   "cell_type": "markdown",
   "metadata": {},
   "source": [
    "```\n",
    "2. When does the code in a function run: when it's specified or when it's called?\n",
    "```\n",
    "\n",
    "### Ans.\n",
    "\n",
    "When it's called\n",
    "\n",
    "---"
   ]
  },
  {
   "attachments": {},
   "cell_type": "markdown",
   "metadata": {},
   "source": [
    "```\n",
    "3. What statement creates a function?\n",
    "```\n",
    "\n",
    "### Ans.\n",
    "\n",
    "`def` keyword is used to create a function\n",
    "\n",
    "```\n",
    "def sample_function():\n",
    "    print(\"do something\")\n",
    "```\n",
    "---"
   ]
  },
  {
   "attachments": {},
   "cell_type": "markdown",
   "metadata": {},
   "source": [
    "```\n",
    "4. What is the difference between a function and a function call?\n",
    "```\n",
    "\n",
    "### Ans.\n",
    "\n",
    "A function is a block of code that does some particular operations and returns a result.\n",
    "\n",
    "A function call is a statement that runs the function\n",
    "\n",
    "---"
   ]
  },
  {
   "attachments": {},
   "cell_type": "markdown",
   "metadata": {},
   "source": [
    "```\n",
    "5. How many global scopes are there in a Python program? How many local scopes?\n",
    "```\n",
    "\n",
    "### Ans.\n",
    "\n",
    "There is only one global python scopes per program execution.\n",
    "\n",
    "There can be as many local scopes in a python program as we want.\n",
    "\n",
    "---"
   ]
  },
  {
   "attachments": {},
   "cell_type": "markdown",
   "metadata": {},
   "source": [
    "```\n",
    "6. What happens to variables in a local scope when the function call returns?\n",
    "```\n",
    "\n",
    "### Ans.\n",
    "\n",
    "The variables in local scope are deleted in python by the garbage collector when the function call returns\n",
    "\n",
    "---"
   ]
  },
  {
   "attachments": {},
   "cell_type": "markdown",
   "metadata": {},
   "source": [
    "```\n",
    "7. What is the concept of a return value? Is it possible to have a return value in an expression?\n",
    "```\n",
    "\n",
    "### Ans.\n",
    "\n",
    "Return value is a value that is returned by a function. Yes. it is possible to have a return value in an expression\n",
    "\n",
    "---"
   ]
  },
  {
   "attachments": {},
   "cell_type": "markdown",
   "metadata": {},
   "source": [
    "```\n",
    "8. If a function does not have a return statement, what is the return value of a call to that function?\n",
    "```\n",
    "\n",
    "### Ans.\n",
    "\n",
    "None\n",
    "\n",
    "---"
   ]
  },
  {
   "attachments": {},
   "cell_type": "markdown",
   "metadata": {},
   "source": [
    "```\n",
    "9. How do you make a function variable refer to the global variable?\n",
    "```\n",
    "\n",
    "### Ans.\n",
    "\n",
    "using `global` keyword. e.g.\n",
    "\n",
    "```\n",
    "global_variable = 5\n",
    "\n",
    "def function1():\n",
    "    global global_variable\n",
    "    global_variable = 7\n",
    "    return\n",
    "\n",
    "function1()\n",
    "\n",
    "print(global_variable)  # results in printing 7 instead of 5\n",
    "\n",
    "```\n",
    "\n",
    "---"
   ]
  },
  {
   "attachments": {},
   "cell_type": "markdown",
   "metadata": {},
   "source": [
    "```\n",
    "10. What is the data type of None?\n",
    "```\n",
    "\n",
    "### Ans.\n",
    "\n",
    "NoneType\n",
    "\n",
    "---"
   ]
  },
  {
   "attachments": {},
   "cell_type": "markdown",
   "metadata": {},
   "source": [
    "```\n",
    "11. What does the sentence import areallyourpetsnamederic do?\n",
    "```\n",
    "\n",
    "### Ans.\n",
    "\n",
    "it imports the module named areallyourpetsnamederic.\n",
    "\n",
    "---"
   ]
  },
  {
   "attachments": {},
   "cell_type": "markdown",
   "metadata": {},
   "source": [
    "```\n",
    "12. If you had a bacon() feature in a spam module, what would you call it after importing spam?\n",
    "```\n",
    "\n",
    "### Ans.\n",
    "\n",
    "It can be used by \n",
    "```\n",
    "spam.bacon()\n",
    "```\n",
    "\n",
    "---"
   ]
  },
  {
   "attachments": {},
   "cell_type": "markdown",
   "metadata": {},
   "source": [
    "```\n",
    "13. What can you do to save a programme from crashing if it encounters an error?\n",
    "```\n",
    "\n",
    "### Ans.\n",
    "\n",
    "We can use check whether the program crashes because of an error with a `try` clause.\n",
    "\n",
    "---"
   ]
  },
  {
   "attachments": {},
   "cell_type": "markdown",
   "metadata": {},
   "source": [
    "```\n",
    "14. What is the purpose of the try clause? What is the purpose of the except clause?\n",
    "```\n",
    "\n",
    "### Ans.\n",
    "\n",
    "`try` clause is used to check if the block of code has errors that crashes the program.\n",
    "\n",
    "`except` clause is used to handle the error so that the program does not crashes. \n",
    "\n",
    "---"
   ]
  }
 ],
 "metadata": {
  "kernelspec": {
   "display_name": "fsds",
   "language": "python",
   "name": "python3"
  },
  "language_info": {
   "codemirror_mode": {
    "name": "ipython",
    "version": 3
   },
   "file_extension": ".py",
   "mimetype": "text/x-python",
   "name": "python",
   "nbconvert_exporter": "python",
   "pygments_lexer": "ipython3",
   "version": "3.7.9 (tags/v3.7.9:13c94747c7, Aug 17 2020, 18:58:18) [MSC v.1900 64 bit (AMD64)]"
  },
  "orig_nbformat": 4,
  "vscode": {
   "interpreter": {
    "hash": "69c81a78582b4dbd07afc1f7479108ffee392732560c6594404b549ac30e6d77"
   }
  }
 },
 "nbformat": 4,
 "nbformat_minor": 2
}
