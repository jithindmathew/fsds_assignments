{
 "cells": [
  {
   "attachments": {},
   "cell_type": "markdown",
   "metadata": {},
   "source": [
    "```\n",
    "Question 1\n",
    "```"
   ]
  },
  {
   "cell_type": "code",
   "execution_count": 2,
   "metadata": {},
   "outputs": [
    {
     "name": "stdout",
     "output_type": "stream",
     "text": [
      "0,35,70\n"
     ]
    }
   ],
   "source": [
    "from typing import Generator\n",
    "\n",
    "n = int(input(\"Enter n : \"))\n",
    "\n",
    "def print_numbers(n: int) -> Generator[int, None, None]:\n",
    "    for i in range(0, n + 1, 5 * 7):\n",
    "        yield i\n",
    "\n",
    "print(*print_numbers(n), sep=\",\")"
   ]
  },
  {
   "attachments": {},
   "cell_type": "markdown",
   "metadata": {},
   "source": [
    "```\n",
    "Question 2\n",
    "```"
   ]
  },
  {
   "cell_type": "code",
   "execution_count": 3,
   "metadata": {},
   "outputs": [
    {
     "name": "stdout",
     "output_type": "stream",
     "text": [
      "0,2,4,6,8,10\n"
     ]
    }
   ],
   "source": [
    "from typing import Generator\n",
    "n = int(input(\"Enter n : \"))\n",
    "\n",
    "def print_numbers(n: int) -> Generator[int, None, None]:\n",
    "    for i in range(0, n + 1, 2):\n",
    "        yield i\n",
    "\n",
    "print(*print_numbers(n), sep=\",\")"
   ]
  },
  {
   "attachments": {},
   "cell_type": "markdown",
   "metadata": {},
   "source": [
    "```\n",
    "Question 3\n",
    "```"
   ]
  },
  {
   "cell_type": "code",
   "execution_count": 4,
   "metadata": {},
   "outputs": [
    {
     "name": "stdout",
     "output_type": "stream",
     "text": [
      "0,1,1,2,3,5,8,13\n"
     ]
    }
   ],
   "source": [
    "n = int(input(\"ENter n : \"))\n",
    "\n",
    "series = [0, 1]\n",
    "[series.append(series[k - 1] +series[k - 2]) for k in range(2, n + 1)]\n",
    "\n",
    "print(*series, sep=\",\")\n"
   ]
  },
  {
   "attachments": {},
   "cell_type": "markdown",
   "metadata": {},
   "source": [
    "```\n",
    "Question 4\n",
    "```"
   ]
  },
  {
   "cell_type": "code",
   "execution_count": 5,
   "metadata": {},
   "outputs": [
    {
     "name": "stdout",
     "output_type": "stream",
     "text": [
      "john\n"
     ]
    }
   ],
   "source": [
    "email = input(\"Enter the email : \")\n",
    "print(email.split('@')[0])"
   ]
  },
  {
   "attachments": {},
   "cell_type": "markdown",
   "metadata": {},
   "source": [
    "```\n",
    "Question 5\n",
    "```"
   ]
  },
  {
   "cell_type": "code",
   "execution_count": 6,
   "metadata": {},
   "outputs": [
    {
     "name": "stdout",
     "output_type": "stream",
     "text": [
      "0\n",
      "64\n"
     ]
    }
   ],
   "source": [
    "class Shape:\n",
    "    def __init__(self) -> None:\n",
    "        self.AREA = 0\n",
    "\n",
    "    def area(self) -> None:\n",
    "        print(self.AREA)\n",
    "\n",
    "class Square(Shape):\n",
    "    def __init__(self, length) -> None:\n",
    "        super().__init__()\n",
    "        self.length = length\n",
    "        self.AREA = length ** 2\n",
    "\n",
    "s1 = Shape()\n",
    "s2 = Square(8)\n",
    "\n",
    "s1.area()\n",
    "s2.area()"
   ]
  }
 ],
 "metadata": {
  "kernelspec": {
   "display_name": "fsds",
   "language": "python",
   "name": "python3"
  },
  "language_info": {
   "codemirror_mode": {
    "name": "ipython",
    "version": 3
   },
   "file_extension": ".py",
   "mimetype": "text/x-python",
   "name": "python",
   "nbconvert_exporter": "python",
   "pygments_lexer": "ipython3",
   "version": "3.7.9 (tags/v3.7.9:13c94747c7, Aug 17 2020, 18:58:18) [MSC v.1900 64 bit (AMD64)]"
  },
  "orig_nbformat": 4,
  "vscode": {
   "interpreter": {
    "hash": "69c81a78582b4dbd07afc1f7479108ffee392732560c6594404b549ac30e6d77"
   }
  }
 },
 "nbformat": 4,
 "nbformat_minor": 2
}
