{
 "cells": [
  {
   "attachments": {},
   "cell_type": "markdown",
   "metadata": {},
   "source": [
    "```\n",
    "1. What are escape characters, and how do you use them?\n",
    "```\n",
    "\n",
    "### Ans.\n",
    "\n",
    "Escape charatcer is a backslash `\\` followed by different characters\n",
    "\n",
    "---"
   ]
  },
  {
   "attachments": {},
   "cell_type": "markdown",
   "metadata": {},
   "source": [
    "```\n",
    "2. What do the escape characters n and t stand for?\n",
    "```\n",
    "\n",
    "### Ans.\n",
    "\n",
    "- `\\n` stands for new line\n",
    "- `\\t` stands for tab space\n",
    "\n",
    "---"
   ]
  },
  {
   "attachments": {},
   "cell_type": "markdown",
   "metadata": {},
   "source": [
    "```\n",
    "3. What is the way to include backslash characters in a string?\n",
    "```\n",
    "\n",
    "### Ans.\n",
    "\n",
    "Use two backslash characters like `\\\\`\n",
    "\n",
    "---"
   ]
  },
  {
   "attachments": {},
   "cell_type": "markdown",
   "metadata": {},
   "source": [
    "```\n",
    "4. The string \"Howl's Moving Castle\" is a correct value. Why isn't the single quote character in the word Howl's not escaped a problem?\n",
    "```\n",
    "\n",
    "### Ans.\n",
    "\n",
    "Because we are using `\"` for string declaration and `'` inside string\n",
    "\n",
    "---"
   ]
  },
  {
   "attachments": {},
   "cell_type": "markdown",
   "metadata": {},
   "source": [
    "```\n",
    "5. How do you write a string of newlines if you don't want to use the n character?\n",
    "```\n",
    "---"
   ]
  },
  {
   "attachments": {},
   "cell_type": "markdown",
   "metadata": {},
   "source": [
    "```\n",
    "6. What are the values of the given expressions?\n",
    "'Hello, world!'[1]\n",
    "'Hello, world!'[0:5]\n",
    "'Hello, world!'[:5]\n",
    "'Hello, world!'[3:]\n",
    "```\n",
    "\n",
    "### Ans.\n",
    "\n",
    "- `'Hello, world!'[1] = \"e\"`\n",
    "- `'Hello, world!'[0:5] = \"Hello\"`\n",
    "- `'Hello, world!'[:5] = \"Hello\"`\n",
    "- `'Hello, world!'[3:] = \"lo, world!\"`\n",
    "\n",
    "\n",
    "---"
   ]
  },
  {
   "attachments": {},
   "cell_type": "markdown",
   "metadata": {},
   "source": [
    "```\n",
    "7. What are the values of the following expressions?\n",
    "'Hello'.upper()\n",
    "'Hello'.upper().isupper()\n",
    "'Hello'.upper().lower()\n",
    "```\n",
    "\n",
    "### Ans.\n",
    "\n",
    "- `'Hello'.upper() = \"HELLO\"`\n",
    "- `'Hello'.upper().isupper() = True`\n",
    "- `'Hello'.upper().lower() = \"hello\"`\n",
    "\n",
    "---"
   ]
  },
  {
   "attachments": {},
   "cell_type": "markdown",
   "metadata": {},
   "source": [
    "```\n",
    "8. What are the values of the following expressions?\n",
    "'Remember, remember, the fifth of July.'.split()\n",
    "'-'.join('There can only one.'.split())\n",
    "```\n",
    "\n",
    "### Ans.\n",
    "\n",
    "- `'Remember, remember, the fifth of July.'.split() = ['Remember,', 'remember,', 'the', 'fifth', 'of', 'July.']`\n",
    "- `'-'.join('There can only one.'.split()) = 'There-can-only-one.'`\n",
    "---"
   ]
  },
  {
   "attachments": {},
   "cell_type": "markdown",
   "metadata": {},
   "source": [
    "```\n",
    "9. What are the methods for right-justifying, left-justifying, and centering a string?\n",
    "```\n",
    "\n",
    "### Ans.\n",
    "\n",
    "- right-justifying : `\"text\".rjust(20)`\n",
    "- left-justifying : `\"text\".ljust(20)`\n",
    "- centering : `\"text\".center(20)`\n",
    "\n",
    "---"
   ]
  },
  {
   "attachments": {},
   "cell_type": "markdown",
   "metadata": {},
   "source": [
    "```\n",
    "10. What is the best way to remove whitespace characters from the start or end?\n",
    "```\n",
    "\n",
    "### Ans.\n",
    "\n",
    "using `text.strip(\" \")`\n",
    "\n",
    "---"
   ]
  }
 ],
 "metadata": {
  "kernelspec": {
   "display_name": "fsds",
   "language": "python",
   "name": "python3"
  },
  "language_info": {
   "codemirror_mode": {
    "name": "ipython",
    "version": 3
   },
   "file_extension": ".py",
   "mimetype": "text/x-python",
   "name": "python",
   "nbconvert_exporter": "python",
   "pygments_lexer": "ipython3",
   "version": "3.7.9"
  },
  "orig_nbformat": 4,
  "vscode": {
   "interpreter": {
    "hash": "69c81a78582b4dbd07afc1f7479108ffee392732560c6594404b549ac30e6d77"
   }
  }
 },
 "nbformat": 4,
 "nbformat_minor": 2
}
