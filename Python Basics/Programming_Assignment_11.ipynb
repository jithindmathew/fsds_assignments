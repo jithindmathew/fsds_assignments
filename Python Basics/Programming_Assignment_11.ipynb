{
 "cells": [
  {
   "attachments": {},
   "cell_type": "markdown",
   "metadata": {},
   "source": [
    "```\n",
    "1. Write a Python program to find words which are greater than given length k?\n",
    "```"
   ]
  },
  {
   "cell_type": "code",
   "execution_count": 60,
   "metadata": {},
   "outputs": [
    {
     "name": "stdout",
     "output_type": "stream",
     "text": [
      "Words that are greater than length 6 = ['program', 'greater', 'character']\n"
     ]
    }
   ],
   "source": [
    "from functools import reduce\n",
    "\n",
    "list_1 = ['python', 'program', 'word', 'greater', 'length', 'given', 'character', 'string']\n",
    "k = 6\n",
    "\n",
    "result = list(filter(lambda x: len(x) > k, list_1))\n",
    "\n",
    "print(f\"Words that are greater than length {k} : {result}\")"
   ]
  },
  {
   "attachments": {},
   "cell_type": "markdown",
   "metadata": {},
   "source": [
    "```\n",
    "2. Write a Python program for removing i-th character from a string?\n",
    "```"
   ]
  },
  {
   "cell_type": "code",
   "execution_count": 61,
   "metadata": {},
   "outputs": [
    {
     "name": "stdout",
     "output_type": "stream",
     "text": [
      "'character' after removing 5th character = 'charater'\n"
     ]
    }
   ],
   "source": [
    "string = \"character\"\n",
    "i = 5\n",
    "\n",
    "result = string[:i] + string[i + 1:]\n",
    "\n",
    "print(f\"'{string}' after removing {i}th character : '{result}'\")"
   ]
  },
  {
   "attachments": {},
   "cell_type": "markdown",
   "metadata": {},
   "source": [
    "```\n",
    "3. Write a Python program to split and join a string?\n",
    "```"
   ]
  },
  {
   "cell_type": "code",
   "execution_count": 62,
   "metadata": {},
   "outputs": [
    {
     "name": "stdout",
     "output_type": "stream",
     "text": [
      "String after splitting ['Write', 'a', 'Python', 'program', 'to', 'split', 'and', 'join', 'a', 'string']\n",
      "String after joining Write<=>a<=>Python<=>program<=>to<=>split<=>and<=>join<=>a<=>string\n"
     ]
    }
   ],
   "source": [
    "string = \"Write a Python program to split and join a string\"\n",
    "\n",
    "splitted = string.split(\" \")\n",
    "\n",
    "print(f\"String after splitting : {splitted}\")\n",
    "\n",
    "joined = \"<=>\".join(splitted)\n",
    "\n",
    "print(f\"String after joining : {joined}\")"
   ]
  },
  {
   "attachments": {},
   "cell_type": "markdown",
   "metadata": {},
   "source": [
    "```\n",
    "4. Write a Python to check if a given string is binary string or not?\n",
    "```"
   ]
  },
  {
   "cell_type": "code",
   "execution_count": 63,
   "metadata": {},
   "outputs": [
    {
     "name": "stdout",
     "output_type": "stream",
     "text": [
      "Given String 0101110100101010101010101010101001001 is binary\n"
     ]
    }
   ],
   "source": [
    "string = \"0101110100101010101010101010101001001\"\n",
    "\n",
    "result = len(list(filter(lambda x: x not in (\"0\", \"1\"), string)))\n",
    "\n",
    "if result == 0:\n",
    "    print(f\"Given String : {string} is binary\")\n",
    "else:\n",
    "    print(f\"Given String : {string} is not binary\")\n"
   ]
  },
  {
   "attachments": {},
   "cell_type": "markdown",
   "metadata": {},
   "source": [
    "```\n",
    "5. Write a Python program to find uncommon words from two Strings?\n",
    "```"
   ]
  },
  {
   "cell_type": "code",
   "execution_count": 64,
   "metadata": {},
   "outputs": [
    {
     "name": "stdout",
     "output_type": "stream",
     "text": [
      "Uncommon words : {'two', 'programme', 'three', 'program'}\n"
     ]
    }
   ],
   "source": [
    "string_1 = \"Write a Python program to find uncommon words from two Strings\"\n",
    "string_2 = \"Write a Python programme to find uncommon words from three Strings\"\n",
    "\n",
    "string_1 = set(string_1.split(\" \"))\n",
    "string_2 = set(string_2.split(\" \"))\n",
    "\n",
    "result = string_2.difference(string_1).union(string_1.difference(string_2))\n",
    "\n",
    "print(f\"Uncommon words : {result}\")"
   ]
  },
  {
   "attachments": {},
   "cell_type": "markdown",
   "metadata": {},
   "source": [
    "```\n",
    "6. Write a Python to find all duplicate characters in string?\n",
    "```"
   ]
  },
  {
   "cell_type": "code",
   "execution_count": 65,
   "metadata": {},
   "outputs": [
    {
     "name": "stdout",
     "output_type": "stream",
     "text": [
      "All duplicate characters in the string : {'t', 'e', 'o', 'd', 'a', 'c', 'l', 'r', 'h', 'i', 'n', 's', ' '}\n"
     ]
    }
   ],
   "source": [
    "string = \"Write a Python to find all duplicate characters in string\"\n",
    "\n",
    "result = set(filter(lambda x: string.count(x) >= 2, string))\n",
    "\n",
    "print(f\"All duplicate characters in the string : {result}\")"
   ]
  },
  {
   "attachments": {},
   "cell_type": "markdown",
   "metadata": {},
   "source": [
    "```\n",
    "7. Write a Python Program to check if a string contains any special character?\n",
    "```"
   ]
  },
  {
   "cell_type": "code",
   "execution_count": 66,
   "metadata": {},
   "outputs": [
    {
     "name": "stdout",
     "output_type": "stream",
     "text": [
      "String contains these special characters [';', '{', '?', '*', '@']\n"
     ]
    }
   ],
   "source": [
    "import string\n",
    "special_characters = set(string.punctuation)\n",
    "\n",
    "stringg = \"Python Program to check ;if a string conta{?ins any special characte*@r\"\n",
    "result = []\n",
    "\n",
    "for i in stringg:\n",
    "    if i in special_characters:\n",
    "        result.append(i)\n",
    "\n",
    "if result:\n",
    "    print(f\"String contains these special characters : {result}\")\n",
    "else:\n",
    "    print(\"The string does not contain special characters\")"
   ]
  }
 ],
 "metadata": {
  "kernelspec": {
   "display_name": "fsds",
   "language": "python",
   "name": "python3"
  },
  "language_info": {
   "codemirror_mode": {
    "name": "ipython",
    "version": 3
   },
   "file_extension": ".py",
   "mimetype": "text/x-python",
   "name": "python",
   "nbconvert_exporter": "python",
   "pygments_lexer": "ipython3",
   "version": "3.7.9 (tags/v3.7.9:13c94747c7, Aug 17 2020, 18:58:18) [MSC v.1900 64 bit (AMD64)]"
  },
  "orig_nbformat": 4,
  "vscode": {
   "interpreter": {
    "hash": "69c81a78582b4dbd07afc1f7479108ffee392732560c6594404b549ac30e6d77"
   }
  }
 },
 "nbformat": 4,
 "nbformat_minor": 2
}
