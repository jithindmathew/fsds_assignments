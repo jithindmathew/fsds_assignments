{
 "cells": [
  {
   "cell_type": "code",
   "execution_count": 18,
   "metadata": {},
   "outputs": [],
   "source": [
    "from typing import List, Union"
   ]
  },
  {
   "attachments": {},
   "cell_type": "markdown",
   "metadata": {},
   "source": [
    "```\n",
    "1. Write a Python Program to Add Two Matrices?\n",
    "```"
   ]
  },
  {
   "cell_type": "code",
   "execution_count": 19,
   "metadata": {},
   "outputs": [
    {
     "name": "stdout",
     "output_type": "stream",
     "text": [
      "Result after addition : [[6, -1, -4], [4, 13, -4], [9, 10, 5], [-7, -3, 11]]\n"
     ]
    }
   ],
   "source": [
    "mat_1 = [\n",
    "    [2, -3, 5],\n",
    "    [3, 6, -7],\n",
    "    [9, 8, 8],\n",
    "    [0, -5, 6]\n",
    "]\n",
    "\n",
    "mat_2 = [\n",
    "    [4, 2, -9],\n",
    "    [1, 7, 3],\n",
    "    [0, 2, -3],\n",
    "    [-7, 2, 5]\n",
    "]\n",
    "\n",
    "def add(mat_1: List[List[int]], mat_2: List[List[int]]) -> Union[List[List[int]], None]:\n",
    "    m_1, n_1 = len(mat_1), len(mat_1[0])\n",
    "    m_2, n_2 = len(mat_2), len(mat_2[0])\n",
    "    \n",
    "    if m_1 != m_2 or \\\n",
    "       n_1 != n_2:\n",
    "        print(\"Matrix dimensions are different\")\n",
    "        return\n",
    "    \n",
    "    for i in range(m_1):\n",
    "        for j in range(n_1):\n",
    "            mat_1[i][j] += mat_2[i][j]\n",
    "\n",
    "    return mat_1\n",
    "\n",
    "print(f\"Result after addition : {add(mat_1, mat_2)}\")"
   ]
  },
  {
   "attachments": {},
   "cell_type": "markdown",
   "metadata": {},
   "source": [
    "```\n",
    "2. Write a Python Program to Multiply Two Matrices?\n",
    "```"
   ]
  },
  {
   "cell_type": "code",
   "execution_count": 21,
   "metadata": {},
   "outputs": [
    {
     "name": "stdout",
     "output_type": "stream",
     "text": [
      "Result after Multiplication : [[5, -7], [18, 34], [44, 90], [-5, -23]]\n"
     ]
    }
   ],
   "source": [
    "mat_1 = [\n",
    "    [2, -3, 5],\n",
    "    [3, 6, -7],\n",
    "    [9, 8, 8],\n",
    "    [0, -5, 6]\n",
    "]\n",
    "\n",
    "mat_2 = [\n",
    "    [4, 2],\n",
    "    [1, 7],\n",
    "    [0, 2]\n",
    "]\n",
    "\n",
    "def multiply(mat_1: List[List[int]], mat_2: List[List[int]]) -> List[List[int]]:\n",
    "    m_1, n_1 = len(mat_1), len(mat_1[0])\n",
    "    m_2, n_2 = len(mat_2), len(mat_2[0])\n",
    "\n",
    "    if n_1 != m_2:\n",
    "        print(\"Matrix dimensions are different\")\n",
    "        return\n",
    "\n",
    "    ans = [[0] * n_2 for _ in range(m_1)]\n",
    "    \n",
    "    for i in range(m_1):\n",
    "        for j in range(n_2):\n",
    "            for k in range(m_2):\n",
    "                ans[i][j] += mat_1[i][k] * mat_2[k][j]\n",
    "    \n",
    "    return ans\n",
    "\n",
    "print(f\"Result after Multiplication : {multiply(mat_1, mat_2)}\")"
   ]
  },
  {
   "attachments": {},
   "cell_type": "markdown",
   "metadata": {},
   "source": [
    "```\n",
    "3. Write a Python Program to Transpose a Matrix?\n",
    "```"
   ]
  },
  {
   "cell_type": "code",
   "execution_count": 22,
   "metadata": {},
   "outputs": [
    {
     "name": "stdout",
     "output_type": "stream",
     "text": [
      "[[2, 3, 3, 1], [-3, 6, 7, -2], [5, -7, 9, 4]]\n"
     ]
    }
   ],
   "source": [
    "mat = [\n",
    "    [2, -3, 5],\n",
    "    [3, 6, -7],\n",
    "    [3, 7, 9],\n",
    "    [1, -2, 4]\n",
    "]\n",
    "\n",
    "m, n = len(mat), len(mat[0])\n",
    "\n",
    "ans = [[0] * m for _ in range(n)]\n",
    "\n",
    "for i in range(m):\n",
    "    for j in range(n):\n",
    "        ans[j][i] = mat[i][j]\n",
    "\n",
    "print(ans)"
   ]
  },
  {
   "attachments": {},
   "cell_type": "markdown",
   "metadata": {},
   "source": [
    "```\n",
    "4. Write a Python Program to Sort Words in Alphabetic Order?\n",
    "```"
   ]
  },
  {
   "cell_type": "code",
   "execution_count": 23,
   "metadata": {},
   "outputs": [
    {
     "name": "stdout",
     "output_type": "stream",
     "text": [
      "assignment\n",
      "code\n",
      "error\n",
      "matrix\n",
      "order\n",
      "python\n",
      "the\n",
      "zomato\n"
     ]
    }
   ],
   "source": [
    "words = [\n",
    "    'the',\n",
    "    'python',\n",
    "    'code',\n",
    "    'zomato',\n",
    "    'assignment',\n",
    "    'matrix',\n",
    "    'error',\n",
    "    'order'\n",
    "]\n",
    "\n",
    "words.sort()\n",
    "\n",
    "for i in words:\n",
    "    print(i)"
   ]
  },
  {
   "attachments": {},
   "cell_type": "markdown",
   "metadata": {},
   "source": [
    "```\n",
    "5. Write a Python Program to Remove Punctuation From a String?\n",
    "```"
   ]
  },
  {
   "cell_type": "code",
   "execution_count": 24,
   "metadata": {},
   "outputs": [
    {
     "name": "stdout",
     "output_type": "stream",
     "text": [
      "Before removing Punctuation : Hello!, How are you? I am fine. Thank you.    \n",
      "After removing Punctuation : Hello How are you I am fine Thank you\n"
     ]
    }
   ],
   "source": [
    "import string\n",
    "\n",
    "text = 'Hello!, How are you? I am fine. Thank you.'\n",
    "\n",
    "sentence = 'Hello!, How are you? I am fine. Thank you.'\n",
    "\n",
    "table = sentence.maketrans(string.punctuation, \" \" * len(string.punctuation))\n",
    "\n",
    "sentence = ' '.join(sentence.translate(table).split())\n",
    "\n",
    "print(f\"Before removing Punctuation : {text}\\\n",
    "    \\nAfter removing Punctuation : {sentence}\")"
   ]
  }
 ],
 "metadata": {
  "kernelspec": {
   "display_name": "fsds",
   "language": "python",
   "name": "python3"
  },
  "language_info": {
   "codemirror_mode": {
    "name": "ipython",
    "version": 3
   },
   "file_extension": ".py",
   "mimetype": "text/x-python",
   "name": "python",
   "nbconvert_exporter": "python",
   "pygments_lexer": "ipython3",
   "version": "3.7.9"
  },
  "orig_nbformat": 4,
  "vscode": {
   "interpreter": {
    "hash": "69c81a78582b4dbd07afc1f7479108ffee392732560c6594404b549ac30e6d77"
   }
  }
 },
 "nbformat": 4,
 "nbformat_minor": 2
}
