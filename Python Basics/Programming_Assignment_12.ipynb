{
 "cells": [
  {
   "attachments": {},
   "cell_type": "markdown",
   "metadata": {},
   "source": [
    "```\n",
    "1. Write a Python program to Extract Unique values dictionary values?\n",
    "```"
   ]
  },
  {
   "cell_type": "code",
   "execution_count": 42,
   "metadata": {},
   "outputs": [
    {
     "name": "stdout",
     "output_type": "stream",
     "text": [
      "Unique values in dictionary values : {0, 1, 2, 3, 4, 5, 6, 7, 8, 9}\n"
     ]
    }
   ],
   "source": [
    "from itertools import chain\n",
    "\n",
    "dictt = {\n",
    "    \"key1\": [2, 4, 3, 3, 4, 7],\n",
    "    \"key2\": [1, 3, 2, 4, 2],\n",
    "    \"key3\": [0, 9, 8],\n",
    "    \"key4\": [7, 6, 5, 3],\n",
    "    \"key5\": [8, 6, 7, 9]\n",
    "}\n",
    "\n",
    "result = set(chain(*dictt.values()))\n",
    "\n",
    "print(f\"Unique values in dictionary values : {result}\")"
   ]
  },
  {
   "attachments": {},
   "cell_type": "markdown",
   "metadata": {},
   "source": [
    "```\n",
    "2. Write a Python program to find the sum of all items in a dictionary?\n",
    "```"
   ]
  },
  {
   "cell_type": "code",
   "execution_count": 43,
   "metadata": {},
   "outputs": [
    {
     "name": "stdout",
     "output_type": "stream",
     "text": [
      "Sum of all items in a dictionary : 556\n"
     ]
    }
   ],
   "source": [
    "dictt = {\n",
    "    \"key1\": 23,\n",
    "    \"key2\": 34,\n",
    "    \"key3\": 200,\n",
    "    \"key4\": 1,\n",
    "    \"key5\": 298\n",
    "}\n",
    "\n",
    "result = sum(dictt.values())\n",
    "\n",
    "print(f\"Sum of all items in a dictionary : {result}\")"
   ]
  },
  {
   "attachments": {},
   "cell_type": "markdown",
   "metadata": {},
   "source": [
    "```\n",
    "3. Write a Python program to Merging two Dictionaries?\n",
    "```"
   ]
  },
  {
   "cell_type": "code",
   "execution_count": 44,
   "metadata": {},
   "outputs": [
    {
     "name": "stdout",
     "output_type": "stream",
     "text": [
      "Merged dictionary : {'key1': 34, 'key2': 2, 'key3': 4, 'key4': 674, 'key5': 90, 'key6': 89, 'key7': 3, 'key8': 9}\n"
     ]
    }
   ],
   "source": [
    "dict_1 = {\n",
    "    'key1': 34,\n",
    "    'key2': 2,\n",
    "    'key3': 4,\n",
    "    'key4': 674,\n",
    "}\n",
    "\n",
    "dict_2 = {\n",
    "    'key5': 90,\n",
    "    'key6': 89,\n",
    "    'key7': 3,\n",
    "    'key8': 9,\n",
    "}\n",
    "\n",
    "dict_1.update(dict_2)\n",
    "\n",
    "print(f\"Merged dictionary : {dict_1}\")"
   ]
  },
  {
   "attachments": {},
   "cell_type": "markdown",
   "metadata": {},
   "source": [
    "```\n",
    "4. Write a Python program to convert key-values list to flat dictionary?\n",
    "```"
   ]
  },
  {
   "cell_type": "code",
   "execution_count": 45,
   "metadata": {},
   "outputs": [
    {
     "name": "stdout",
     "output_type": "stream",
     "text": [
      "Flat dictionary : {'key1': 3, 'key2': 54, 'key3': 67, 'key4': 98, 'key5': 100}\n"
     ]
    }
   ],
   "source": [
    "keys = ['key1', 'key2', 'key3', 'key4', 'key5']\n",
    "values = [3, 54, 67, 98, 100]\n",
    "\n",
    "result = dict(zip(keys, values))\n",
    "print(f\"Flat dictionary : {result}\")"
   ]
  },
  {
   "attachments": {},
   "cell_type": "markdown",
   "metadata": {},
   "source": [
    "```\n",
    "5. Write a Python program to insertion at the beginning in OrderedDict?\n",
    "```"
   ]
  },
  {
   "cell_type": "code",
   "execution_count": 46,
   "metadata": {},
   "outputs": [
    {
     "name": "stdout",
     "output_type": "stream",
     "text": [
      "OrderedDict with insertion at begining : OrderedDict([('key0', 88), ('key1', 89), ('key2', 34), ('key3', 2)])\n"
     ]
    }
   ],
   "source": [
    "from collections import OrderedDict\n",
    "\n",
    "dictt = OrderedDict([\n",
    "    (\"key1\", 89),\n",
    "    (\"key2\", 34),\n",
    "    (\"key3\", 2)\n",
    "])\n",
    "\n",
    "dictt.update({\"key0\": 88})\n",
    "dictt.move_to_end(\"key0\", last=False)\n",
    "\n",
    "print(f\"OrderedDict with insertion at begining : {dictt}\")"
   ]
  },
  {
   "attachments": {},
   "cell_type": "markdown",
   "metadata": {},
   "source": [
    "```\n",
    "6. Write a Python program to check order of character in string using OrderedDict()?\n",
    "```"
   ]
  },
  {
   "cell_type": "code",
   "execution_count": 47,
   "metadata": {},
   "outputs": [
    {
     "name": "stdout",
     "output_type": "stream",
     "text": [
      "Order 'er' is followed in 'engineers rock'\n"
     ]
    }
   ],
   "source": [
    "from collections import OrderedDict\n",
    "\n",
    "string = \"engineers rock\"\n",
    "pattern = \"er\"\n",
    "\n",
    "dictt = OrderedDict.fromkeys(string)\n",
    "pi = 0\n",
    "\n",
    "for k, v in dictt.items():\n",
    "    if k == pattern[pi]:\n",
    "        pi += 1\n",
    "\n",
    "    if pi == len(pattern):\n",
    "        print(f\"Order '{pattern}' is followed in '{string}'\")\n",
    "        break\n",
    "    \n",
    "else:\n",
    "    print(f\"Order '{pattern}' is not followed in '{string}'\")"
   ]
  },
  {
   "attachments": {},
   "cell_type": "markdown",
   "metadata": {},
   "source": [
    "```\n",
    "7. Write a Python program to sort Python Dictionaries by Key or Value?\n",
    "```"
   ]
  },
  {
   "cell_type": "code",
   "execution_count": 48,
   "metadata": {},
   "outputs": [
    {
     "name": "stdout",
     "output_type": "stream",
     "text": [
      "Sorted by Key : {'a': 90, 'e': 3, 'k': 89, 'z': 9}\n",
      "Sorted by Values : {'e': 3, 'z': 9, 'k': 89, 'a': 90}\n"
     ]
    }
   ],
   "source": [
    "dictt = {\n",
    "    'a': 90,\n",
    "    'k': 89,\n",
    "    'e': 3,\n",
    "    'z': 9,\n",
    "}\n",
    "print(f\"Sorted by Key : {dict(sorted(dictt.items(), key=lambda kv: kv[0]))}\")\n",
    "print(f\"Sorted by Values : {dict(sorted(dictt.items(), key=lambda kv: kv[1]))}\")\n"
   ]
  }
 ],
 "metadata": {
  "kernelspec": {
   "display_name": "fsds",
   "language": "python",
   "name": "python3"
  },
  "language_info": {
   "codemirror_mode": {
    "name": "ipython",
    "version": 3
   },
   "file_extension": ".py",
   "mimetype": "text/x-python",
   "name": "python",
   "nbconvert_exporter": "python",
   "pygments_lexer": "ipython3",
   "version": "3.7.9 (tags/v3.7.9:13c94747c7, Aug 17 2020, 18:58:18) [MSC v.1900 64 bit (AMD64)]"
  },
  "orig_nbformat": 4,
  "vscode": {
   "interpreter": {
    "hash": "69c81a78582b4dbd07afc1f7479108ffee392732560c6594404b549ac30e6d77"
   }
  }
 },
 "nbformat": 4,
 "nbformat_minor": 2
}
