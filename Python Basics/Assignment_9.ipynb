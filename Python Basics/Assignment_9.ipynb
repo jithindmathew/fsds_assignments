{
 "cells": [
  {
   "attachments": {},
   "cell_type": "markdown",
   "metadata": {},
   "source": [
    "```\n",
    "1. To what does a relative path refer?\n",
    "```\n",
    "\n",
    "### Ans.\n",
    "\n",
    "It refers to location of file/directory relative to the entry point when the script is run\n",
    "\n",
    "---"
   ]
  },
  {
   "attachments": {},
   "cell_type": "markdown",
   "metadata": {},
   "source": [
    "```\n",
    "2. What does an absolute path start with your operating system?\n",
    "```\n",
    "\n",
    "### Ans.\n",
    "\n",
    "Ir starts with `'C:\\'`\n",
    "\n",
    "---"
   ]
  },
  {
   "attachments": {},
   "cell_type": "markdown",
   "metadata": {},
   "source": [
    "```\n",
    "3. What do the functions os.getcwd() and os.chdir() do?\n",
    "```\n",
    "\n",
    "### Ans.\n",
    "\n",
    "`os.getcwd()` returns the absolute path of current working directory\n",
    "\n",
    "`os.chdir()` takes in a `path` as string and changes the working directory to given `path`\n",
    "\n",
    "---"
   ]
  },
  {
   "attachments": {},
   "cell_type": "markdown",
   "metadata": {},
   "source": [
    "```\n",
    "4. What are the . and .. folders?\n",
    "```\n",
    "\n",
    "### Ans.\n",
    "\n",
    "`.` is the current folder\n",
    "\n",
    "`..` is the parent folder\n",
    "\n",
    "---"
   ]
  },
  {
   "attachments": {},
   "cell_type": "markdown",
   "metadata": {},
   "source": [
    "```\n",
    "5. In C:\\bacon\\eggs\\spam.txt, which part is the dir name, and which part is the base name?\n",
    "```\n",
    "\n",
    "### Ans.\n",
    "\n",
    "dir name is `C:\\bacon\\eggs`\n",
    "\n",
    "base name is `spam.txt`\n",
    "\n",
    "---"
   ]
  },
  {
   "attachments": {},
   "cell_type": "markdown",
   "metadata": {},
   "source": [
    "```\n",
    "6. What are the three “mode” arguments that can be passed to the open() function?\n",
    "```\n",
    "\n",
    "### Ans.\n",
    "\n",
    "3 modes are `r` : read, `w` : write, `a` : append\n",
    "\n",
    "---"
   ]
  },
  {
   "attachments": {},
   "cell_type": "markdown",
   "metadata": {},
   "source": [
    "```\n",
    "7. What happens if an existing file is opened in write mode?\n",
    "```\n",
    "\n",
    "### Ans.\n",
    "\n",
    "The existing contents of the file are deleted and the file is opened as an empty file\n",
    "\n",
    "---"
   ]
  },
  {
   "attachments": {},
   "cell_type": "markdown",
   "metadata": {},
   "source": [
    "```\n",
    "8. How do you tell the difference between read() and readlines()?\n",
    "```\n",
    "\n",
    "### Ans.\n",
    "\n",
    "`read()` returns the entire contents of the file as a single string\n",
    "\n",
    "`readline()` returns the entire content of the file as a list of strings\n",
    "\n",
    "---"
   ]
  },
  {
   "attachments": {},
   "cell_type": "markdown",
   "metadata": {},
   "source": [
    "```\n",
    "9. What data structure does a shelf value resemble?\n",
    "```\n",
    "\n",
    "### Ans.\n",
    "\n",
    "A dictionary with key-value pairs\n",
    "\n",
    "---"
   ]
  }
 ],
 "metadata": {
  "kernelspec": {
   "display_name": "fsds",
   "language": "python",
   "name": "python3"
  },
  "language_info": {
   "codemirror_mode": {
    "name": "ipython",
    "version": 3
   },
   "file_extension": ".py",
   "mimetype": "text/x-python",
   "name": "python",
   "nbconvert_exporter": "python",
   "pygments_lexer": "ipython3",
   "version": "3.7.9"
  },
  "orig_nbformat": 4
 },
 "nbformat": 4,
 "nbformat_minor": 2
}
