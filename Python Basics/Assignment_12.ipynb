{
 "cells": [
  {
   "attachments": {},
   "cell_type": "markdown",
   "metadata": {},
   "source": [
    "```\n",
    "1. In what modes should the PdfFileReader() and PdfFileWriter() File objects will be opened?\n",
    "```\n",
    "\n",
    "### Ans.\n",
    "\n",
    "`PdfFileReader()` should be opened in read binary mode `rb`\n",
    "\n",
    "`PdfFileWriter()` should be openede in write binary mode `wb`\n",
    "\n",
    "---"
   ]
  },
  {
   "attachments": {},
   "cell_type": "markdown",
   "metadata": {},
   "source": [
    "```\n",
    "2. From a PdfFileReader object, how do you get a Page object for page 5?\n",
    "```\n",
    "\n",
    "### Ans."
   ]
  },
  {
   "cell_type": "code",
   "execution_count": null,
   "metadata": {},
   "outputs": [],
   "source": [
    "from PyPDF2 import PdfFileReader\n",
    "reader = PdfFileReader(path, \"rb\")\n",
    "page = reader.pages[4]  # here page is a PageObject for page 5"
   ]
  },
  {
   "attachments": {},
   "cell_type": "markdown",
   "metadata": {},
   "source": [
    "---"
   ]
  },
  {
   "attachments": {},
   "cell_type": "markdown",
   "metadata": {},
   "source": [
    "```\n",
    "3. What PdfFileReader variable stores the number of pages in the PDF document?\n",
    "```\n",
    "\n",
    "### Ans."
   ]
  },
  {
   "cell_type": "code",
   "execution_count": null,
   "metadata": {},
   "outputs": [],
   "source": [
    "from PyPDF2 import PdfFileReader\n",
    "reader = PdfFileReader(path, \"rb\")\n",
    "print(reader.getNumPages())"
   ]
  },
  {
   "attachments": {},
   "cell_type": "markdown",
   "metadata": {},
   "source": [
    "---"
   ]
  },
  {
   "attachments": {},
   "cell_type": "markdown",
   "metadata": {},
   "source": [
    "```\n",
    "4. If a PdfFileReader object’s PDF is encrypted with the password swordfish, what must you do before you can obtain Page objects from it?\n",
    "```\n",
    "\n",
    "### Ans."
   ]
  },
  {
   "cell_type": "code",
   "execution_count": null,
   "metadata": {},
   "outputs": [],
   "source": [
    "from PyPDF2 import PdfFileReader\n",
    "reader = PdfFileReader(path)\n",
    "if reader.isEncrypted:\n",
    "    reader.decrypt(\"swordfish\")  # Now the file is decrypted and PageObjects can be obtained"
   ]
  },
  {
   "attachments": {},
   "cell_type": "markdown",
   "metadata": {},
   "source": [
    "---"
   ]
  },
  {
   "attachments": {},
   "cell_type": "markdown",
   "metadata": {},
   "source": [
    "```\n",
    "5. What methods do you use to rotate a page?\n",
    "```\n",
    "\n",
    "### Ans.\n",
    "\n",
    "`rotateClockWise()` is used for clockwise rotation\n",
    "\n",
    "`rotateCounterClockWise()` is used for anti-clockwise rotation\n",
    "\n",
    "---"
   ]
  },
  {
   "attachments": {},
   "cell_type": "markdown",
   "metadata": {},
   "source": [
    "```\n",
    "6. What is the difference between a Run object and a Paragraph object?\n",
    "```\n",
    "\n",
    "### Ans.\n",
    "\n",
    "A Run object is a continuous text with the same style\n",
    "\n",
    "A Paragraph object is a list of Run objects\n",
    "\n",
    "---"
   ]
  },
  {
   "attachments": {},
   "cell_type": "markdown",
   "metadata": {},
   "source": [
    "```\n",
    "7. How do you obtain a list of Paragraph objects for a Document object that’s stored in a variable named doc?\n",
    "```\n",
    "\n",
    "### Ans."
   ]
  },
  {
   "cell_type": "code",
   "execution_count": null,
   "metadata": {},
   "outputs": [],
   "source": [
    "from docx import Document\n",
    "doc = Document(\"file-sample_500kB.docx\")\n",
    "for paragraph in doc.paragraphs:\n",
    "    print(paragraph.text)"
   ]
  },
  {
   "attachments": {},
   "cell_type": "markdown",
   "metadata": {},
   "source": [
    "---"
   ]
  },
  {
   "attachments": {},
   "cell_type": "markdown",
   "metadata": {},
   "source": [
    "```\n",
    "8. What type of object has bold, underline, italic, strike, and outline variables?\n",
    "```\n",
    "\n",
    "### Ans.\n",
    "\n",
    "Run object has these variables.\n",
    "\n",
    "---"
   ]
  },
  {
   "attachments": {},
   "cell_type": "markdown",
   "metadata": {},
   "source": [
    "```\n",
    "9. What is the difference between False, True, and None for the bold variable?\n",
    "```\n",
    "\n",
    "### Ans.\n",
    "\n",
    "if `True` then style is bold\n",
    "\n",
    "if `False` then style is not set to bold\n",
    "\n",
    "if `None` then style is not applicable\n",
    "\n",
    "---"
   ]
  },
  {
   "attachments": {},
   "cell_type": "markdown",
   "metadata": {},
   "source": [
    "```\n",
    "10. How do you create a Document object for a new Word document?\n",
    "```\n",
    "\n",
    "### Ans."
   ]
  },
  {
   "cell_type": "code",
   "execution_count": null,
   "metadata": {},
   "outputs": [],
   "source": [
    "from docx import Document\n",
    "doc = Document()"
   ]
  },
  {
   "attachments": {},
   "cell_type": "markdown",
   "metadata": {},
   "source": [
    "---"
   ]
  },
  {
   "attachments": {},
   "cell_type": "markdown",
   "metadata": {},
   "source": [
    "```\n",
    "11. How do you add a paragraph with the text 'Hello, there!' to a Document object stored in a variable named doc?\n",
    "```\n",
    "\n",
    "### Ans."
   ]
  },
  {
   "cell_type": "code",
   "execution_count": null,
   "metadata": {},
   "outputs": [],
   "source": [
    "from docx import Document\n",
    "doc = Document()\n",
    "doc.add_paragraph('Hello, there!')"
   ]
  },
  {
   "attachments": {},
   "cell_type": "markdown",
   "metadata": {},
   "source": [
    "---"
   ]
  },
  {
   "attachments": {},
   "cell_type": "markdown",
   "metadata": {},
   "source": [
    "```\n",
    "12. What integers represent the levels of headings available in Word documents?\n",
    "```\n",
    "\n",
    "### Ans.\n",
    "\n",
    "0 to 4 represent 5 levels of headings\n",
    "\n",
    "---"
   ]
  }
 ],
 "metadata": {
  "kernelspec": {
   "display_name": "fsds",
   "language": "python",
   "name": "python3"
  },
  "language_info": {
   "codemirror_mode": {
    "name": "ipython",
    "version": 3
   },
   "file_extension": ".py",
   "mimetype": "text/x-python",
   "name": "python",
   "nbconvert_exporter": "python",
   "pygments_lexer": "ipython3",
   "version": "3.7.9"
  },
  "orig_nbformat": 4
 },
 "nbformat": 4,
 "nbformat_minor": 2
}
