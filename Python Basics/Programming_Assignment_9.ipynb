{
 "cells": [
  {
   "attachments": {},
   "cell_type": "markdown",
   "metadata": {},
   "source": [
    "```\n",
    "1. Write a Python program to check if the given number is a Disarium Number?\n",
    "```"
   ]
  },
  {
   "cell_type": "code",
   "execution_count": 8,
   "metadata": {},
   "outputs": [
    {
     "name": "stdout",
     "output_type": "stream",
     "text": [
      "135 is a Disarium number\n"
     ]
    }
   ],
   "source": [
    "while True:\n",
    "    try:\n",
    "        n = int(input(\"Enter a number : \"))\n",
    "        break\n",
    "    except ValueError:\n",
    "        print(\"Enter a valid number\")\n",
    "\n",
    "ans = 0\n",
    "str_n = str(n)\n",
    "\n",
    "for i, digit in enumerate(str_n):\n",
    "    ans += pow(int(digit), (i + 1))\n",
    "\n",
    "if ans == n:\n",
    "    print(f\"{n} is a Disarium number\")\n",
    "else:\n",
    "    print(f\"{n} is not a Disarium number\")"
   ]
  },
  {
   "attachments": {},
   "cell_type": "markdown",
   "metadata": {},
   "source": [
    "```\n",
    "2. Write a Python program to print all disarium numbers between 1 to 100?\n",
    "```"
   ]
  },
  {
   "cell_type": "code",
   "execution_count": 10,
   "metadata": {},
   "outputs": [
    {
     "name": "stdout",
     "output_type": "stream",
     "text": [
      "1 is a Disarium number\n",
      "2 is a Disarium number\n",
      "3 is a Disarium number\n",
      "4 is a Disarium number\n",
      "5 is a Disarium number\n",
      "6 is a Disarium number\n",
      "7 is a Disarium number\n",
      "8 is a Disarium number\n",
      "9 is a Disarium number\n",
      "89 is a Disarium number\n"
     ]
    }
   ],
   "source": [
    "def is_disarium(n: int) -> bool:\n",
    "    ans = 0\n",
    "    str_n = str(n)\n",
    "\n",
    "    for i, digit in enumerate(str_n):\n",
    "        ans += pow(int(digit), (i + 1))\n",
    "    \n",
    "    if ans == n:\n",
    "        return True\n",
    "    else:\n",
    "        return False\n",
    "\n",
    "for i in range(1, 101):\n",
    "    if is_disarium(i):\n",
    "        print(f\"{i} is a Disarium number\")"
   ]
  },
  {
   "attachments": {},
   "cell_type": "markdown",
   "metadata": {},
   "source": [
    "```\n",
    "3. Write a Python program to check if the given number is Happy Number?\n",
    "```"
   ]
  },
  {
   "cell_type": "code",
   "execution_count": 11,
   "metadata": {},
   "outputs": [
    {
     "name": "stdout",
     "output_type": "stream",
     "text": [
      "13 is a Happy number\n"
     ]
    }
   ],
   "source": [
    "while True:\n",
    "    try:\n",
    "        n = int(input(\"Enter a number : \"))\n",
    "        break\n",
    "    except ValueError:\n",
    "        print(\"Enter a valid number\")\n",
    "\n",
    "def helper(n: int) -> int:\n",
    "    ans = 0\n",
    "\n",
    "    while n:\n",
    "        ans += (n % 10) ** 2\n",
    "        n //= 10\n",
    "\n",
    "    return ans\n",
    "\n",
    "def is_happy(n: int) -> bool:\n",
    "    seen = set()\n",
    "\n",
    "    while True:\n",
    "        n = helper(n)\n",
    "\n",
    "        if n in seen:\n",
    "            return False\n",
    "        \n",
    "        if n == 1:\n",
    "            return True\n",
    "\n",
    "if is_happy(n):\n",
    "    print(f\"{n} is a Happy number\")\n",
    "else:\n",
    "    print(f\"{n} is not a Happy number\")"
   ]
  },
  {
   "attachments": {},
   "cell_type": "markdown",
   "metadata": {},
   "source": [
    "```\n",
    "4. Write a Python program to print all happy numbers between 1 and 100?\n",
    "```"
   ]
  },
  {
   "cell_type": "code",
   "execution_count": 12,
   "metadata": {},
   "outputs": [
    {
     "name": "stdout",
     "output_type": "stream",
     "text": [
      "1 is a Happy number\n",
      "7 is a Happy number\n",
      "10 is a Happy number\n",
      "13 is a Happy number\n",
      "19 is a Happy number\n",
      "23 is a Happy number\n",
      "28 is a Happy number\n",
      "31 is a Happy number\n",
      "32 is a Happy number\n",
      "44 is a Happy number\n",
      "49 is a Happy number\n",
      "68 is a Happy number\n",
      "70 is a Happy number\n",
      "79 is a Happy number\n",
      "82 is a Happy number\n",
      "86 is a Happy number\n",
      "91 is a Happy number\n",
      "94 is a Happy number\n",
      "97 is a Happy number\n",
      "100 is a Happy number\n"
     ]
    }
   ],
   "source": [
    "def helper(n: int) -> int:\n",
    "    ans = 0\n",
    "\n",
    "    while n:\n",
    "        ans += (n % 10) ** 2\n",
    "        n //= 10\n",
    "\n",
    "    return ans\n",
    "\n",
    "def is_happy(n: int) -> bool:\n",
    "    seen = set()\n",
    "\n",
    "    while True:\n",
    "        n = helper(n)\n",
    "\n",
    "        if n == 1:\n",
    "            return True\n",
    "\n",
    "        if n in seen:\n",
    "            return False\n",
    "\n",
    "        seen.add(n)\n",
    "\n",
    "for i in range(1, 101):\n",
    "    if is_happy(i):\n",
    "        print(f\"{i} is a Happy number\")\n"
   ]
  },
  {
   "attachments": {},
   "cell_type": "markdown",
   "metadata": {},
   "source": [
    "```\n",
    "5. Write a Python program to determine whether the given number is a Harshad Number?\n",
    "```"
   ]
  },
  {
   "cell_type": "code",
   "execution_count": 15,
   "metadata": {},
   "outputs": [
    {
     "name": "stdout",
     "output_type": "stream",
     "text": [
      "18 is a Harshad number\n"
     ]
    }
   ],
   "source": [
    "while True:\n",
    "    try:\n",
    "        n = int(input(\"Enter a number : \"))\n",
    "        break\n",
    "    except ValueError:\n",
    "        print(\"Enter a valid number\")\n",
    "\n",
    "def is_harshad(n: int) -> bool:\n",
    "    res = 0\n",
    "    original = n\n",
    "\n",
    "    while n:\n",
    "        res += n % 10\n",
    "        n //= 10\n",
    "    \n",
    "    return original % res == 0\n",
    "\n",
    "if is_harshad(n):\n",
    "    print(f\"{n} is a Harshad number\")\n",
    "else:\n",
    "    print(f\"{n} is not a Harshad number\")"
   ]
  },
  {
   "attachments": {},
   "cell_type": "markdown",
   "metadata": {},
   "source": [
    "```\n",
    "6. Write a Python program to print all pronic numbers between 1 and 100?\n",
    "```"
   ]
  },
  {
   "cell_type": "code",
   "execution_count": 16,
   "metadata": {},
   "outputs": [
    {
     "name": "stdout",
     "output_type": "stream",
     "text": [
      "2 is a Pronic number\n",
      "6 is a Pronic number\n",
      "12 is a Pronic number\n",
      "20 is a Pronic number\n",
      "30 is a Pronic number\n",
      "42 is a Pronic number\n",
      "56 is a Pronic number\n",
      "72 is a Pronic number\n",
      "90 is a Pronic number\n"
     ]
    }
   ],
   "source": [
    "from math import sqrt\n",
    "\n",
    "def is_pronic(n: int) -> bool:\n",
    "    res = 0\n",
    "    i = 0\n",
    "\n",
    "    while i <= int(sqrt(n)):\n",
    "        if i * (i + 1) == n:\n",
    "            return True\n",
    "\n",
    "        i += 1\n",
    "    \n",
    "    return False\n",
    "\n",
    "for i in range(1, 101):\n",
    "    if is_pronic(i):\n",
    "        print(f\"{i} is a Pronic number\")"
   ]
  }
 ],
 "metadata": {
  "kernelspec": {
   "display_name": "fsds",
   "language": "python",
   "name": "python3"
  },
  "language_info": {
   "codemirror_mode": {
    "name": "ipython",
    "version": 3
   },
   "file_extension": ".py",
   "mimetype": "text/x-python",
   "name": "python",
   "nbconvert_exporter": "python",
   "pygments_lexer": "ipython3",
   "version": "3.7.9"
  },
  "orig_nbformat": 4,
  "vscode": {
   "interpreter": {
    "hash": "69c81a78582b4dbd07afc1f7479108ffee392732560c6594404b549ac30e6d77"
   }
  }
 },
 "nbformat": 4,
 "nbformat_minor": 2
}
