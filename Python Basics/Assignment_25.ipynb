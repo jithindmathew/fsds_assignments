{
 "cells": [
  {
   "cell_type": "markdown",
   "metadata": {},
   "source": [
    "```\n",
    "1. What is the difference between enclosing a list comprehension in square brackets and parentheses?\n",
    "```\n",
    "\n",
    "### Ans.\n",
    "\n",
    "list comprehension with `[]` produces a list whereas list comprehension with `()` produces a generator object.\n",
    "\n",
    "---"
   ]
  },
  {
   "cell_type": "code",
   "execution_count": 1,
   "metadata": {},
   "outputs": [
    {
     "data": {
      "text/plain": [
       "[0, 1, 2, 3, 4]"
      ]
     },
     "execution_count": 1,
     "metadata": {},
     "output_type": "execute_result"
    }
   ],
   "source": [
    "sq_brackets = [i for i in range(5)]\n",
    "sq_brackets"
   ]
  },
  {
   "cell_type": "code",
   "execution_count": 2,
   "metadata": {},
   "outputs": [
    {
     "data": {
      "text/plain": [
       "<generator object <genexpr> at 0x000002EA8100C6C8>"
      ]
     },
     "execution_count": 2,
     "metadata": {},
     "output_type": "execute_result"
    }
   ],
   "source": [
    "parenthesis = (i for i in range(5))\n",
    "parenthesis"
   ]
  },
  {
   "cell_type": "markdown",
   "metadata": {},
   "source": [
    "```\n",
    "2. What is the relationship between generators and iterators?\n",
    "```\n",
    "\n",
    "### Ans.\n",
    "\n",
    "iterator is an object that contains a countable number of values and is used to iterate over iterable objects using `next()` keyword.\n",
    "\n",
    "generators are a way of creating iterators in python using the keyword `yield`. In this case, the value is returned without exiting the generator function. It does not store the entire sequence in the memory but generates the value each time we use the `next` keyword\n",
    "\n",
    "---"
   ]
  },
  {
   "cell_type": "markdown",
   "metadata": {},
   "source": [
    "```\n",
    "3. What are the signs that a function is a generator function?\n",
    "```\n",
    "\n",
    "### Ans.\n",
    "\n",
    "Whether the function contains `yield` keyword.\n",
    "\n",
    "---"
   ]
  },
  {
   "cell_type": "markdown",
   "metadata": {},
   "source": [
    "```\n",
    "4. What is the purpose of a yield statement?\n",
    "```\n",
    "\n",
    "### Ans.\n",
    "\n",
    "`yield` provides a value to the code looping over the generator and pauses execution of the generator function whereas `return` statement stops execution of the function\n",
    "\n",
    "---"
   ]
  },
  {
   "cell_type": "markdown",
   "metadata": {},
   "source": [
    "```\n",
    "5. What is the relationship between map calls and list comprehensions? Make a comparison and contrast between the two.\n",
    "```\n",
    "\n",
    "### Ans.\n",
    "\n",
    "`map` applies the same transformation to all elements in an iterable using a function that is passed in and returns a map object which is an iterator.\n",
    "\n",
    "\n",
    "List comprehension offers a shorter syntax when you want to create a new list based on the values of an existing list.\n",
    "\n",
    "1. `map` is better to use if we already have the transformation function defined.\n",
    "2. list comprehension is faster than `map` when we need to evaluate expressions that are too long or complicated to express\n",
    "3. List comprehension are used when a list of results is required as map only returns a map object and does not return any list.\n",
    "4. List comprehension allows filtering. In map, we have no such facility. For example, to print all even numbers in range of 100, we can write `[n for n in range(100) if n%2 == 0]`. There is no alternate for it in map\n",
    "\n",
    "---"
   ]
  }
 ],
 "metadata": {
  "kernelspec": {
   "display_name": "fsds",
   "language": "python",
   "name": "python3"
  },
  "language_info": {
   "codemirror_mode": {
    "name": "ipython",
    "version": 3
   },
   "file_extension": ".py",
   "mimetype": "text/x-python",
   "name": "python",
   "nbconvert_exporter": "python",
   "pygments_lexer": "ipython3",
   "version": "3.7.9"
  },
  "orig_nbformat": 4
 },
 "nbformat": 4,
 "nbformat_minor": 2
}
