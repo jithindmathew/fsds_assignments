{
 "cells": [
  {
   "cell_type": "markdown",
   "metadata": {},
   "source": [
    "```\n",
    "1. Add the current date to the text file today.txt as a string.\n",
    "```\n",
    "\n",
    "### Ans.\n",
    "\n",
    "\n",
    "\n",
    "---"
   ]
  },
  {
   "cell_type": "code",
   "execution_count": 6,
   "metadata": {},
   "outputs": [],
   "source": [
    "import datetime\n",
    "with open(\"today.txt\", \"w\") as file:\n",
    "    file.write(datetime.date.today().strftime(\"%d-%m-%Y\"))"
   ]
  },
  {
   "cell_type": "markdown",
   "metadata": {},
   "source": [
    "```\n",
    "2. Read the text file today.txt into the string today_string\n",
    "```\n",
    "\n",
    "### Ans.\n",
    "\n",
    "\n",
    "\n",
    "---"
   ]
  },
  {
   "cell_type": "code",
   "execution_count": 8,
   "metadata": {},
   "outputs": [
    {
     "name": "stdout",
     "output_type": "stream",
     "text": [
      "11-07-2023\n"
     ]
    }
   ],
   "source": [
    "with open(\"today.txt\", \"r\") as file:\n",
    "    today_string: str = file.read()\n",
    "\n",
    "print(today_string)"
   ]
  },
  {
   "cell_type": "markdown",
   "metadata": {},
   "source": [
    "```\n",
    "3. Parse the date from today_string.\n",
    "```\n",
    "\n",
    "### Ans.\n",
    "\n",
    "\n",
    "\n",
    "---"
   ]
  },
  {
   "cell_type": "code",
   "execution_count": 13,
   "metadata": {},
   "outputs": [
    {
     "name": "stdout",
     "output_type": "stream",
     "text": [
      "2023-07-11 00:00:00\n"
     ]
    }
   ],
   "source": [
    "from datetime import datetime\n",
    "print(datetime.strptime(today_string, \"%d-%m-%Y\"))"
   ]
  },
  {
   "cell_type": "markdown",
   "metadata": {},
   "source": [
    "```\n",
    "4. List the files in your current directory\n",
    "```\n",
    "\n",
    "### Ans.\n",
    "\n",
    "\n",
    "\n",
    "---"
   ]
  },
  {
   "cell_type": "code",
   "execution_count": 14,
   "metadata": {},
   "outputs": [
    {
     "data": {
      "text/plain": [
       "['Assignment_1.ipynb',\n",
       " 'Assignment_10.ipynb',\n",
       " 'Assignment_11.ipynb',\n",
       " 'Assignment_12.ipynb',\n",
       " 'Assignment_13.ipynb',\n",
       " 'Assignment_14.ipynb',\n",
       " 'Assignment_15.ipynb',\n",
       " 'Assignment_16.ipynb',\n",
       " 'Assignment_17.ipynb',\n",
       " 'Assignment_18.ipynb',\n",
       " 'Assignment_19.ipynb',\n",
       " 'Assignment_2.ipynb',\n",
       " 'Assignment_20.ipynb',\n",
       " 'Assignment_21.ipynb',\n",
       " 'Assignment_3.ipynb',\n",
       " 'Assignment_4.ipynb',\n",
       " 'Assignment_5.ipynb',\n",
       " 'Assignment_6.ipynb',\n",
       " 'Assignment_7.ipynb',\n",
       " 'Assignment_8.ipynb',\n",
       " 'Assignment_9.ipynb',\n",
       " 'Programming_Assignment_1.ipynb',\n",
       " 'Programming_Assignment_10.ipynb',\n",
       " 'Programming_Assignment_11.ipynb',\n",
       " 'Programming_Assignment_12.ipynb',\n",
       " 'Programming_Assignment_13.ipynb',\n",
       " 'Programming_Assignment_14.ipynb',\n",
       " 'Programming_Assignment_15.ipynb',\n",
       " 'Programming_Assignment_16.ipynb',\n",
       " 'Programming_Assignment_17.ipynb',\n",
       " 'Programming_Assignment_18.ipynb',\n",
       " 'Programming_Assignment_19.ipynb',\n",
       " 'Programming_Assignment_2.ipynb',\n",
       " 'Programming_Assignment_20.ipynb',\n",
       " 'Programming_Assignment_21.ipynb',\n",
       " 'Programming_Assignment_22.ipynb',\n",
       " 'Programming_Assignment_23.ipynb',\n",
       " 'Programming_Assignment_24.ipynb',\n",
       " 'Programming_Assignment_25.ipynb',\n",
       " 'Programming_Assignment_3.ipynb',\n",
       " 'Programming_Assignment_4.ipynb',\n",
       " 'Programming_Assignment_5.ipynb',\n",
       " 'Programming_Assignment_6.ipynb',\n",
       " 'Programming_Assignment_7.ipynb',\n",
       " 'Programming_Assignment_8.ipynb',\n",
       " 'Programming_Assignment_9.ipynb',\n",
       " 'today.txt']"
      ]
     },
     "execution_count": 14,
     "metadata": {},
     "output_type": "execute_result"
    }
   ],
   "source": [
    "import os\n",
    "os.listdir(\".\")"
   ]
  },
  {
   "cell_type": "markdown",
   "metadata": {},
   "source": [
    "```\n",
    "5. Create a list of all of the files in your parent directory (minimum five files should be available).\n",
    "```\n",
    "\n",
    "### Ans.\n",
    "\n",
    "\n",
    "\n",
    "---"
   ]
  },
  {
   "cell_type": "code",
   "execution_count": 15,
   "metadata": {},
   "outputs": [
    {
     "data": {
      "text/plain": [
       "['.git',\n",
       " '.gitignore',\n",
       " 'CV Assignment',\n",
       " 'DL Practical Assignment',\n",
       " 'DL Theory',\n",
       " 'Machine Learning Practical Assignment',\n",
       " 'ML_Assignment',\n",
       " 'NLP Assignment',\n",
       " 'Python Advanced',\n",
       " 'Python Basics',\n",
       " 'temp.ipynb',\n",
       " 'temp.py',\n",
       " 'temp2.py',\n",
       " 'tests']"
      ]
     },
     "execution_count": 15,
     "metadata": {},
     "output_type": "execute_result"
    }
   ],
   "source": [
    "import os\n",
    "os.listdir(\"..\")"
   ]
  },
  {
   "cell_type": "markdown",
   "metadata": {},
   "source": [
    "```\n",
    "6. Use multiprocessing to create three separate processes. Make each one wait a random number of seconds between one and five, print the current time, and then exit.\n",
    "```\n",
    "\n",
    "### Ans.\n",
    "\n",
    "\n",
    "\n",
    "---"
   ]
  },
  {
   "cell_type": "code",
   "execution_count": null,
   "metadata": {},
   "outputs": [],
   "source": [
    "# multi.py\n",
    "import multiprocessing\n",
    "import random\n",
    "import time\n",
    "from datetime import datetime\n",
    "\n",
    "def process():\n",
    "    t = random.randint(1, 5)\n",
    "    print(\"waiting \" + str(t) + \" seconds\")\n",
    "    time.sleep(t)\n",
    "    print(datetime.now())\n",
    "\n",
    "if __name__ == \"__main__\":\n",
    "    process1 = multiprocessing.Process(target=process)\n",
    "    process2 = multiprocessing.Process(target=process)\n",
    "    process3 = multiprocessing.Process(target=process)\n",
    "    \n",
    "    process1.start()\n",
    "    process2.start()\n",
    "    process3.start()"
   ]
  },
  {
   "cell_type": "code",
   "execution_count": 27,
   "metadata": {},
   "outputs": [
    {
     "name": "stdout",
     "output_type": "stream",
     "text": [
      "waiting 5 seconds\n",
      "waiting 4 seconds\n",
      "waiting 3 seconds\n",
      "2023-07-11 01:03:34.903430\n",
      "2023-07-11 01:03:35.900735\n",
      "2023-07-11 01:03:36.883470\n"
     ]
    }
   ],
   "source": [
    "!python multi.py"
   ]
  },
  {
   "cell_type": "markdown",
   "metadata": {},
   "source": [
    "```\n",
    "7. Create a date object of your day of birth.\n",
    "```\n",
    "\n",
    "### Ans.\n",
    "\n",
    "\n",
    "\n",
    "---"
   ]
  },
  {
   "cell_type": "code",
   "execution_count": 31,
   "metadata": {},
   "outputs": [
    {
     "name": "stdout",
     "output_type": "stream",
     "text": [
      "1998-07-22\n"
     ]
    }
   ],
   "source": [
    "from datetime import date\n",
    "day_of_birth = date(year=1998, month=7, day=22)\n",
    "print(day_of_birth)"
   ]
  },
  {
   "cell_type": "markdown",
   "metadata": {},
   "source": [
    "```\n",
    "8. What day of the week was your day of birth?\n",
    "```\n",
    "\n",
    "### Ans.\n",
    "\n",
    "\n",
    "\n",
    "---"
   ]
  },
  {
   "cell_type": "code",
   "execution_count": 36,
   "metadata": {},
   "outputs": [
    {
     "data": {
      "text/plain": [
       "'Wednesday'"
      ]
     },
     "execution_count": 36,
     "metadata": {},
     "output_type": "execute_result"
    }
   ],
   "source": [
    "day_of_birth.strftime('%A')"
   ]
  },
  {
   "cell_type": "markdown",
   "metadata": {},
   "source": [
    "```\n",
    "9. When will you be (or when were you) 10,000 days old?\n",
    "```\n",
    "\n",
    "### Ans.\n",
    "\n",
    "\n",
    "\n",
    "---"
   ]
  },
  {
   "cell_type": "code",
   "execution_count": 37,
   "metadata": {},
   "outputs": [
    {
     "data": {
      "text/plain": [
       "datetime.date(2025, 12, 7)"
      ]
     },
     "execution_count": 37,
     "metadata": {},
     "output_type": "execute_result"
    }
   ],
   "source": [
    "from datetime import timedelta\n",
    "day_of_birth + timedelta(days=10000)"
   ]
  }
 ],
 "metadata": {
  "kernelspec": {
   "display_name": "fsds",
   "language": "python",
   "name": "python3"
  },
  "language_info": {
   "codemirror_mode": {
    "name": "ipython",
    "version": 3
   },
   "file_extension": ".py",
   "mimetype": "text/x-python",
   "name": "python",
   "nbconvert_exporter": "python",
   "pygments_lexer": "ipython3",
   "version": "3.7.9"
  },
  "orig_nbformat": 4
 },
 "nbformat": 4,
 "nbformat_minor": 2
}
