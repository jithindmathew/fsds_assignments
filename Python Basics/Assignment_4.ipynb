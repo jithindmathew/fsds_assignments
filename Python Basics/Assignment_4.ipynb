{
 "cells": [
  {
   "cell_type": "markdown",
   "metadata": {},
   "source": [
    "```\n",
    "1. What exactly is `[]`?\n",
    "```\n",
    "\n",
    "### Ans.\n",
    "\n",
    "Empty list in python\n",
    "\n",
    "---"
   ]
  },
  {
   "cell_type": "markdown",
   "metadata": {},
   "source": [
    "```\n",
    "2. In a list of values stored in a variable called spam, how would you assign the value 'hello' as the third value? (Assume [2, 4, 6, 8, 10] are in spam.)\n",
    "```\n",
    "\n",
    "### Ans.\n",
    "\n",
    "```\n",
    "spam[2] = 'hello'\n",
    "```\n",
    "---"
   ]
  },
  {
   "cell_type": "markdown",
   "metadata": {},
   "source": [
    "```\n",
    "3. What is the value of spam[int(int('3' * 2) / 11)]?\n",
    "```\n",
    "\n",
    "### Ans.\n",
    "\n",
    "```\n",
    "8\n",
    "```\n",
    "---"
   ]
  },
  {
   "cell_type": "markdown",
   "metadata": {},
   "source": [
    "```\n",
    "4. What is the value of spam[-1]?\n",
    "```\n",
    "\n",
    "### Ans.\n",
    "\n",
    "```\n",
    "10\n",
    "```\n",
    "---"
   ]
  },
  {
   "cell_type": "markdown",
   "metadata": {},
   "source": [
    "```\n",
    "5. What is the value of spam[:2]?\n",
    "```\n",
    "\n",
    "### Ans.\n",
    "\n",
    "```\n",
    "[2, 4]\n",
    "```\n",
    "---"
   ]
  },
  {
   "cell_type": "markdown",
   "metadata": {},
   "source": [
    "```\n",
    "Let's pretend bacon has the list [3.14, 'cat', 11, 'cat', True] for the next three questions.\n",
    "6. What is the value of bacon.index('cat')?\n",
    "```\n",
    "\n",
    "### Ans.\n",
    "\n",
    "1\n",
    "\n",
    "---\n"
   ]
  },
  {
   "cell_type": "markdown",
   "metadata": {},
   "source": [
    "```\n",
    "7. How does bacon.append(99) change the look of the list value in bacon?\n",
    "```\n",
    "\n",
    "### Ans.\n",
    "\n",
    "The variable bacon becomes `[3.14, 'cat', 11, 'cat', True, 99]`\n",
    "\n",
    "---\n"
   ]
  },
  {
   "cell_type": "markdown",
   "metadata": {},
   "source": [
    "```\n",
    "8. How does bacon.remove('cat') change the look of the list in bacon?\n",
    "```\n",
    "\n",
    "### Ans.\n",
    "\n",
    "The variable bacon becomes `[3.14, 11, 'cat', True, 99]`. It remove the first `'cat'` in the list\n",
    "\n",
    "---\n"
   ]
  },
  {
   "cell_type": "markdown",
   "metadata": {},
   "source": [
    "```\n",
    "9. What are the list concatenation and list replication operators?\n",
    "```\n",
    "\n",
    "### Ans.\n",
    "\n",
    "List concatenation operator is `+`. Example : `result = list1 + list2`\n",
    "\n",
    "List replication operator is `*`. Example : `result = list1 * 4` \n",
    "\n",
    "---\n"
   ]
  },
  {
   "cell_type": "markdown",
   "metadata": {},
   "source": [
    "```\n",
    "10. What is difference between the list methods append() and insert()?\n",
    "```\n",
    "\n",
    "### Ans.\n",
    "\n",
    "- `append()` method adds an element to the end of the list\n",
    "- `insert()` method adds an element at the specified position\n",
    "\n",
    "---"
   ]
  },
  {
   "cell_type": "markdown",
   "metadata": {},
   "source": [
    "```\n",
    "11. What are the two methods for removing items from a list?\n",
    "```\n",
    "\n",
    "### Ans.\n",
    "\n",
    "- `pop()` method removes the last item of the list\n",
    "- `remove()` method removes the first item with the specified value\n",
    "\n",
    "---"
   ]
  },
  {
   "cell_type": "markdown",
   "metadata": {},
   "source": [
    "```\n",
    "12. Describe how list values and string values are identical.\n",
    "```\n",
    "\n",
    "### Ans.\n",
    "\n",
    "In python list values and string values are both sequences.\n",
    "Indexing, slicing and iterating are the same for string and list in python.\n",
    "\n",
    "---"
   ]
  },
  {
   "cell_type": "markdown",
   "metadata": {},
   "source": [
    "```\n",
    "13. What's the difference between tuples and lists?\n",
    "```\n",
    "\n",
    "### Ans.\n",
    "\n",
    "- tuple is immutable while list is mutable\n",
    "- tuple is mainly used for read-only operations while list is mainly used for insertion and deletion operation\n",
    "\n",
    "---"
   ]
  },
  {
   "cell_type": "markdown",
   "metadata": {},
   "source": [
    "```\n",
    "14. How do you type a tuple value that only contains the integer 42?\n",
    "```\n",
    "\n",
    "### Ans.\n",
    "\n",
    "`t = tuple([42])`\n",
    "\n",
    "---"
   ]
  },
  {
   "cell_type": "markdown",
   "metadata": {},
   "source": [
    "```\n",
    "15. How do you get a list value's tuple form? How do you get a tuple value's list form?\n",
    "```\n",
    "\n",
    "### Ans.\n",
    "\n",
    "list value's tuple form : `result = tuple(given_list)`\n",
    "\n",
    "tuple value's list form : `result = list(given_tuple)`\n",
    "\n",
    "---"
   ]
  },
  {
   "cell_type": "markdown",
   "metadata": {},
   "source": [
    "```\n",
    "16. Variables that \"contain\" list values are not necessarily lists themselves. Instead, what do they contain?\n",
    "```\n",
    "\n",
    "### Ans.\n",
    "\n",
    "Reference or pointer to a list. Actual list is stored somewhere else.\n",
    "\n",
    "---"
   ]
  },
  {
   "cell_type": "markdown",
   "metadata": {},
   "source": [
    "\n",
    "```\n",
    "17. How do you distinguish between copy.copy() and copy.deepcopy()?\n",
    "```\n",
    "\n",
    "### Ans.\n",
    "\n",
    "`copy.copy()` : creates a shallow copy with references to original objects in the variable.\n",
    "\n",
    "`copy.deepcopy()` : creates a new object which will be entirely different from the original.\n",
    "\n",
    "---"
   ]
  }
 ],
 "metadata": {
  "kernelspec": {
   "display_name": "Python 3 (ipykernel)",
   "language": "python",
   "name": "python3"
  },
  "language_info": {
   "codemirror_mode": {
    "name": "ipython",
    "version": 3
   },
   "file_extension": ".py",
   "mimetype": "text/x-python",
   "name": "python",
   "nbconvert_exporter": "python",
   "pygments_lexer": "ipython3",
   "version": "3.7.9"
  },
  "vscode": {
   "interpreter": {
    "hash": "69c81a78582b4dbd07afc1f7479108ffee392732560c6594404b549ac30e6d77"
   }
  }
 },
 "nbformat": 4,
 "nbformat_minor": 4
}
