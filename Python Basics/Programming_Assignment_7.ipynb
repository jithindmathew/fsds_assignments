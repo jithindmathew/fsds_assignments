{
 "cells": [
  {
   "cell_type": "code",
   "execution_count": 36,
   "metadata": {},
   "outputs": [],
   "source": [
    "from typing import List"
   ]
  },
  {
   "attachments": {},
   "cell_type": "markdown",
   "metadata": {},
   "source": [
    "```\n",
    "1. Write a Python Program to find sum of array?\n",
    "```"
   ]
  },
  {
   "cell_type": "code",
   "execution_count": 37,
   "metadata": {},
   "outputs": [
    {
     "name": "stdout",
     "output_type": "stream",
     "text": [
      "summ of [2, 4, -3, 9, 8, 76, 9] = 105\n"
     ]
    }
   ],
   "source": [
    "arr: List[int] = [2, 4, -3, 9, 8, 76, 9]\n",
    "\n",
    "summ: int = sum(arr)\n",
    "\n",
    "print(f\"summ of {arr} = {summ}\")"
   ]
  },
  {
   "attachments": {},
   "cell_type": "markdown",
   "metadata": {},
   "source": [
    "```\n",
    "2. Write a Python Program to find largest element in an array?\n",
    "```"
   ]
  },
  {
   "cell_type": "code",
   "execution_count": 38,
   "metadata": {},
   "outputs": [
    {
     "name": "stdout",
     "output_type": "stream",
     "text": [
      "summ of [2, 4, -3, 9, 8, 76, 9] = 76\n"
     ]
    }
   ],
   "source": [
    "arr: List[int] = [2, 4, -3, 9, 8, 76, 9]\n",
    "\n",
    "maxx: int = max(arr)\n",
    "\n",
    "print(f\"summ of {arr} = {maxx}\")"
   ]
  },
  {
   "attachments": {},
   "cell_type": "markdown",
   "metadata": {},
   "source": [
    "```\n",
    "3. Write a Python Program for array rotation?\n",
    "```"
   ]
  },
  {
   "cell_type": "code",
   "execution_count": 39,
   "metadata": {},
   "outputs": [
    {
     "name": "stdout",
     "output_type": "stream",
     "text": [
      "Original array : [1, 2, 3, 4, 5, 6, 7, 8, 9]    \n",
      "After rotating 3 turns : [4, 5, 6, 7, 8, 9, 1, 2, 3]\n"
     ]
    }
   ],
   "source": [
    "arr: List[int] = [1, 2, 3, 4, 5, 6, 7, 8, 9]\n",
    "\n",
    "original: List[int] = arr.copy()\n",
    "\n",
    "n: int = 3\n",
    "\n",
    "def reverse_array(left: int, right: int) -> None:\n",
    "    while left < right:\n",
    "        arr[left], arr[right] = arr[right], arr[left]\n",
    "        left += 1\n",
    "        right -= 1\n",
    "\n",
    "reverse_array(0, len(arr) - 1)\n",
    "reverse_array(0, len(arr) - n - 1)\n",
    "reverse_array(len(arr) - n, len(arr) - 1)\n",
    "\n",
    "print(f\"Original array : {original}\\\n",
    "    \\nAfter rotating {n} turns : {arr}\"\n",
    ")"
   ]
  },
  {
   "attachments": {},
   "cell_type": "markdown",
   "metadata": {},
   "source": [
    "```\n",
    "4. Write a Python Program to Split the array and add the first part to the end?\n",
    "```"
   ]
  },
  {
   "cell_type": "code",
   "execution_count": 40,
   "metadata": {},
   "outputs": [
    {
     "name": "stdout",
     "output_type": "stream",
     "text": [
      "Original array : [1, 2, 3, 4, 5, 6, 7, 8, 9]    \n",
      "After splitting first 4 elements & adding first part to end : [5, 6, 7, 8, 9, 1, 2, 3, 4]\n"
     ]
    }
   ],
   "source": [
    "arr: List[int] = [1, 2, 3, 4, 5, 6, 7, 8, 9]\n",
    "\n",
    "original: List[int] = arr.copy()\n",
    "\n",
    "n: int = 4\n",
    "\n",
    "temp: List[int] = []\n",
    "\n",
    "for _ in range(n):\n",
    "    temp.append(arr.pop(0))\n",
    "\n",
    "for _ in range(n):\n",
    "    arr.append(temp.pop(0))\n",
    "\n",
    "print(f\"Original array : {original}\\\n",
    "    \\nAfter splitting first {n} elements & adding first part to end : {arr}\"\n",
    ")"
   ]
  },
  {
   "attachments": {},
   "cell_type": "markdown",
   "metadata": {},
   "source": [
    "```\n",
    "5. Write a Python Program to check if given array is Monotonic?\n",
    "```"
   ]
  },
  {
   "cell_type": "code",
   "execution_count": 41,
   "metadata": {},
   "outputs": [
    {
     "name": "stdout",
     "output_type": "stream",
     "text": [
      "[1, 2, 3, 4, 5, 6, 7, 8, 9] is monotonically increasing\n",
      "[9, 8, 7, 7, 6, 4, 3, 2, 2] is monotonically decreasing\n",
      "[2, 3, 4, 5, 4, 6, 7, 8, 9] is not a monotonic array\n"
     ]
    }
   ],
   "source": [
    "def check_monotonic_increasing(arr: List[int]) -> bool:\n",
    "    first: int = arr[0]\n",
    "\n",
    "    for i in range(1, len(arr)):\n",
    "        if arr[i] < first:\n",
    "            return False\n",
    "        elif arr[i] > first:\n",
    "            first = arr[i]\n",
    "    \n",
    "    return True\n",
    "\n",
    "def check_monotonic_decreasing(arr: List[int]) -> bool:\n",
    "    first: int = arr[0]\n",
    "\n",
    "    for i in range(1, len(arr)):\n",
    "        if arr[i] > first:\n",
    "            return False\n",
    "        elif arr[i] < first:\n",
    "            first = arr[i]\n",
    "    \n",
    "    return True\n",
    "\n",
    "def check(arr: List[int]):\n",
    "    if check_monotonic_increasing(arr):\n",
    "        print(f\"{arr} is monotonically increasing\")\n",
    "    elif check_monotonic_decreasing(arr):\n",
    "        print(f\"{arr} is monotonically decreasing\")\n",
    "    else:\n",
    "        print(f\"{arr} is not a monotonic array\")\n",
    "\n",
    "check([1, 2, 3, 4, 5, 6, 7, 8, 9])\n",
    "check([9, 8, 7, 7, 6, 4, 3, 2, 2])\n",
    "check([2, 3, 4, 5, 4, 6, 7, 8, 9])\n"
   ]
  }
 ],
 "metadata": {
  "kernelspec": {
   "display_name": "fsds",
   "language": "python",
   "name": "python3"
  },
  "language_info": {
   "codemirror_mode": {
    "name": "ipython",
    "version": 3
   },
   "file_extension": ".py",
   "mimetype": "text/x-python",
   "name": "python",
   "nbconvert_exporter": "python",
   "pygments_lexer": "ipython3",
   "version": "3.7.9"
  },
  "orig_nbformat": 4,
  "vscode": {
   "interpreter": {
    "hash": "69c81a78582b4dbd07afc1f7479108ffee392732560c6594404b549ac30e6d77"
   }
  }
 },
 "nbformat": 4,
 "nbformat_minor": 2
}
