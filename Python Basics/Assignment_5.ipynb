{
 "cells": [
  {
   "attachments": {},
   "cell_type": "markdown",
   "metadata": {},
   "source": [
    "```\n",
    "1. What does an empty dictionary's code look like?\n",
    "```\n",
    "\n",
    "### Ans.\n",
    "\n",
    "`dict_1 = dict()`  or  `dict_1 = {}`\n",
    "\n",
    "---"
   ]
  },
  {
   "attachments": {},
   "cell_type": "markdown",
   "metadata": {},
   "source": [
    "```\n",
    "2. What is the value of a dictionary value with the key 'foo' and the value 42?\n",
    "```\n",
    "\n",
    "### Ans.\n",
    "\n",
    "`dict_1 = {'foo': 42}`\n",
    "\n",
    "---"
   ]
  },
  {
   "attachments": {},
   "cell_type": "markdown",
   "metadata": {},
   "source": [
    "```\n",
    "3. What is the most significant distinction between a dictionary and a list?\n",
    "```\n",
    "\n",
    "### Ans.\n",
    "\n",
    "- Dictionary is an unordered collection whereas list is an ordered collecton\n",
    "- List elements are accessed using indices whereas values in Dictionary are accessed with keys\n",
    "\n",
    "---"
   ]
  },
  {
   "attachments": {},
   "cell_type": "markdown",
   "metadata": {},
   "source": [
    "```\n",
    "4. What happens if you try to access spam['foo'] if spam is {'bar': 100}?\n",
    "```\n",
    "\n",
    "### Ans.\n",
    "\n",
    "We get a `KeyError` because `spam` does not contain the key `'foo'`\n",
    "\n",
    "---"
   ]
  },
  {
   "attachments": {},
   "cell_type": "markdown",
   "metadata": {},
   "source": [
    "```\n",
    "5. If a dictionary is stored in spam, what is the difference between the expressions 'cat' in spam and 'cat' in spam.keys()?\n",
    "```\n",
    "\n",
    "### Ans.\n",
    "\n",
    "If `'cat'` is a key in spam\n",
    "- Both returns `True`\n",
    "\n",
    "If `'cat'` is a value in spam\n",
    "- Both returns `False`\n",
    "\n",
    "---"
   ]
  },
  {
   "attachments": {},
   "cell_type": "markdown",
   "metadata": {},
   "source": [
    "```\n",
    "6. If a dictionary is stored in spam, what is the difference between the expressions 'cat' in spam and 'cat' in spam.values()?\n",
    "```\n",
    "\n",
    "### Ans.\n",
    "\n",
    "If `'cat'` is a key in spam \n",
    "- `'cat' in spam` returns `True`\n",
    "- `'cat' in spam.values()` returns `False`\n",
    "\n",
    "If `'cat'` is a value in spam \n",
    "- `'cat' in spam` returns `False`\n",
    "- `'cat' in spam.values()` returns `True`\n",
    "\n",
    "---"
   ]
  },
  {
   "attachments": {},
   "cell_type": "markdown",
   "metadata": {},
   "source": [
    "```\n",
    "7. What is a shortcut for the following code?\n",
    "if 'color' not in spam:\n",
    "    spam['color'] = 'black'\n",
    "```\n",
    "\n",
    "### Ans.\n",
    "\n",
    "`spam['color'] = 'black'`\n",
    "\n",
    "---"
   ]
  },
  {
   "attachments": {},
   "cell_type": "markdown",
   "metadata": {},
   "source": [
    "```\n",
    "8. How do you 'pretty print' dictionary values using which module and function?\n",
    "```\n",
    "\n",
    "### Ans.\n"
   ]
  },
  {
   "cell_type": "code",
   "execution_count": 3,
   "metadata": {},
   "outputs": [
    {
     "name": "stdout",
     "output_type": "stream",
     "text": [
      "{\n",
      "    \"key1\": 34,\n",
      "    \"key2\": [\n",
      "        3,\n",
      "        4,\n",
      "        5\n",
      "    ],\n",
      "    \"key3\": \"09\",\n",
      "    \"key4\": {\n",
      "        \"3\": \"90\"\n",
      "    },\n",
      "    \"key5\": [\n",
      "        4,\n",
      "        5,\n",
      "        {\n",
      "            \"a\": 5\n",
      "        }\n",
      "    ]\n",
      "}\n"
     ]
    }
   ],
   "source": [
    "import json\n",
    "\n",
    "dictt = {\n",
    "    \"key1\" : 34,\n",
    "    \"key2\" : [3, 4, 5],\n",
    "    \"key3\" : \"09\",\n",
    "    \"key4\" : {3: \"90\"},\n",
    "    \"key5\" : [4, 5, {\"a\": 5}]\n",
    "}\n",
    "\n",
    "pretty = json.dumps(dictt, indent=4)\n",
    "\n",
    "print(pretty)\n"
   ]
  }
 ],
 "metadata": {
  "kernelspec": {
   "display_name": "fsds",
   "language": "python",
   "name": "python3"
  },
  "language_info": {
   "codemirror_mode": {
    "name": "ipython",
    "version": 3
   },
   "file_extension": ".py",
   "mimetype": "text/x-python",
   "name": "python",
   "nbconvert_exporter": "python",
   "pygments_lexer": "ipython3",
   "version": "3.7.9"
  },
  "orig_nbformat": 4,
  "vscode": {
   "interpreter": {
    "hash": "69c81a78582b4dbd07afc1f7479108ffee392732560c6594404b549ac30e6d77"
   }
  }
 },
 "nbformat": 4,
 "nbformat_minor": 2
}
