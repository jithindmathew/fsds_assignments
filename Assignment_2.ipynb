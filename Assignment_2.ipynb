{
 "cells": [
  {
   "attachments": {},
   "cell_type": "markdown",
   "metadata": {},
   "source": [
    "```\n",
    "1.What are the two values of the Boolean data type? How do you write them?\n",
    "```\n",
    "\n",
    "### Ans. \n",
    "\n",
    "The two values of the Boolean data type are true/false or on/off. We write them as `True` and `False`\n",
    "\n",
    "---"
   ]
  },
  {
   "attachments": {},
   "cell_type": "markdown",
   "metadata": {},
   "source": [
    "```\n",
    "2. What are the three different types of Boolean operators?\n",
    "```\n",
    "\n",
    "### Ans.\n",
    "\n",
    "The three different boolean operators are \n",
    "- `and`\n",
    "- `or`\n",
    "- `not`\n",
    "\n",
    "---"
   ]
  },
  {
   "attachments": {},
   "cell_type": "markdown",
   "metadata": {},
   "source": [
    "```\n",
    "3. Make a list of each Boolean operator&#39;s truth tables (i.e. every possible combination of Boolean\n",
    "values for the operator and what it evaluate ).\n",
    "```\n",
    "### Ans.\n",
    "$$\n",
    "\\begin{array} {|r|r|r|} \n",
    "  \\hline \n",
    "  A & B & OR \\\\ \n",
    "  \\hline\n",
    "  0 & 0 & 0 \\\\ \n",
    "  \\hline\n",
    "  0 & 1 & 1 \\\\ \n",
    "  \\hline\n",
    "  1 &0 & 1 \\\\ \n",
    "  \\hline\n",
    "  1 & 1 & 1 \\\\ \n",
    "  \\hline\n",
    "\\end{array}\n",
    "\n",
    "\\begin{array} {|r|r|r|} \n",
    "\\hline \n",
    "  A & B & AND \\\\ \n",
    "  \\hline\n",
    "  0 & 0 & 0 \\\\ \n",
    "  \\hline\n",
    "  0 & 1 & 0 \\\\ \n",
    "  \\hline\n",
    "  1 & 0 & 0 \\\\ \n",
    "  \\hline\n",
    "  1 & 1 & 1 \\\\ \n",
    "  \\hline\n",
    "\\end{array}\n",
    "\n",
    "\\begin{array} {|r|r|r|} \n",
    "\\hline \n",
    "  A & NOT \\\\ \n",
    "  \\hline\n",
    "  0 & 1 \\\\ \n",
    "  \\hline\n",
    "  1 & 0 \\\\ \n",
    "  \\hline\n",
    "\\end{array}\n",
    "$$\n",
    "---"
   ]
  },
  {
   "attachments": {},
   "cell_type": "markdown",
   "metadata": {},
   "source": []
  },
  {
   "cell_type": "markdown",
   "metadata": {},
   "source": []
  },
  {
   "cell_type": "markdown",
   "metadata": {},
   "source": []
  },
  {
   "cell_type": "markdown",
   "metadata": {},
   "source": []
  },
  {
   "cell_type": "markdown",
   "metadata": {},
   "source": []
  },
  {
   "cell_type": "markdown",
   "metadata": {},
   "source": []
  },
  {
   "cell_type": "markdown",
   "metadata": {},
   "source": []
  },
  {
   "cell_type": "markdown",
   "metadata": {},
   "source": []
  },
  {
   "cell_type": "markdown",
   "metadata": {},
   "source": []
  },
  {
   "cell_type": "markdown",
   "metadata": {},
   "source": []
  }
 ],
 "metadata": {
  "kernelspec": {
   "display_name": "fsds",
   "language": "python",
   "name": "python3"
  },
  "language_info": {
   "name": "python",
   "version": "3.7.9 (tags/v3.7.9:13c94747c7, Aug 17 2020, 18:58:18) [MSC v.1900 64 bit (AMD64)]"
  },
  "orig_nbformat": 4,
  "vscode": {
   "interpreter": {
    "hash": "69c81a78582b4dbd07afc1f7479108ffee392732560c6594404b549ac30e6d77"
   }
  }
 },
 "nbformat": 4,
 "nbformat_minor": 2
}
