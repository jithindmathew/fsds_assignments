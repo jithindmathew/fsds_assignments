{
 "cells": [
  {
   "cell_type": "markdown",
   "id": "bd1986cc",
   "metadata": {},
   "source": [
    "```\n",
    "Q1. What is the meaning of multiple inheritance?\n",
    "```\n",
    "\n",
    "### Ans.\n",
    "\n",
    "Multiple inheritance is a feature in which a class can inherit attributes and methods from more than one parent class which  allows the subclass to combine the characteristics and behaviors of all its parent classes.\n",
    "\n",
    "---"
   ]
  },
  {
   "cell_type": "code",
   "execution_count": 2,
   "id": "69ade5fa",
   "metadata": {},
   "outputs": [
    {
     "name": "stdout",
     "output_type": "stream",
     "text": [
      "Animal speaks\n",
      "Mammal walks\n",
      "Dog barks\n"
     ]
    }
   ],
   "source": [
    "class Animal:\n",
    "    def speak(self):\n",
    "        print(\"Animal speaks\")\n",
    "\n",
    "class Mammal:\n",
    "    def walk(self):\n",
    "        print(\"Mammal walks\")\n",
    "\n",
    "class Dog(Animal, Mammal):\n",
    "    def bark(self):\n",
    "        print(\"Dog barks\")\n",
    "\n",
    "dog = Dog()\n",
    "dog.speak()  # Dog inherited the `speak()` method from `Animal` superclass\n",
    "dog.walk()  # Dog inherited the `walk()` method from `Mammal` superclass\n",
    "dog.bark()  # This is the method that is not inherited but defined only in `Dog` class"
   ]
  },
  {
   "cell_type": "markdown",
   "id": "6e102e2d",
   "metadata": {},
   "source": [
    "```\n",
    "Q2. What is the concept of delegation?\n",
    "```\n",
    "\n",
    "### Ans.\n",
    "\n",
    "It refers to a design pattern where an object forward certain operation or method calls to another object, instead of implementing the behavious directly within the object. It is implemented through composition.\n",
    "\n",
    "---"
   ]
  },
  {
   "cell_type": "code",
   "execution_count": 3,
   "id": "2ab0b355",
   "metadata": {},
   "outputs": [
    {
     "name": "stdout",
     "output_type": "stream",
     "text": [
      "Security system is disarmed.\n",
      "Door is opened\n",
      "Door is closed\n",
      "Security system is armed.\n"
     ]
    }
   ],
   "source": [
    "class Door:\n",
    "    def open(self):\n",
    "        print(\"Door is opened\")\n",
    "\n",
    "    def close(self):\n",
    "        print(\"Door is closed\")\n",
    "\n",
    "class SecuritySystem:\n",
    "    def __init__(self):\n",
    "        self.door = Door()  # another object inside `SecuritySystem` object\n",
    "\n",
    "    def open(self):\n",
    "        print(\"Security system is disarmed.\")\n",
    "        self.door.open()  # `open()` method for `Door` object is forwarded\n",
    "\n",
    "    def close(self):\n",
    "        self.door.close()  # `close()` method for `Door` object is forwarded\n",
    "        print(\"Security system is armed.\")\n",
    "\n",
    "security_door = SecuritySystem()\n",
    "security_door.open()\n",
    "security_door.close()"
   ]
  },
  {
   "cell_type": "markdown",
   "id": "7f5bcfac",
   "metadata": {},
   "source": [
    "```\n",
    "Q3. What is the concept of composition?\n",
    "```\n",
    "\n",
    "### Ans.\n",
    "\n",
    "Concept of composition is a design principle in object-oriented programming that enables objects to be composed of other objects. It allows classes to be built by combining smaller, more specialized classes\n",
    "\n",
    "---"
   ]
  },
  {
   "cell_type": "markdown",
   "id": "6424ff31",
   "metadata": {},
   "source": [
    "```\n",
    "Q4. What are bound methods and how do we use them?\n",
    "```\n",
    "\n",
    "### Ans.\n",
    "\n",
    "A bound method is a method that has an object associated with it. unbound methods does not have an object associated with it.\n",
    "\n",
    "---"
   ]
  },
  {
   "cell_type": "code",
   "execution_count": 7,
   "id": "aed76b0b",
   "metadata": {},
   "outputs": [
    {
     "name": "stdout",
     "output_type": "stream",
     "text": [
      "unbound method : <function MyClass.display_value at 0x000002626F297678>\n",
      "bound method : <bound method MyClass.display_value of <__main__.MyClass object at 0x000002626F2A9CC8>>\n"
     ]
    }
   ],
   "source": [
    "class MyClass:\n",
    "    def __init__(self, value):\n",
    "        self.value = value\n",
    "\n",
    "    def display_value(self):  # bound method for the class `MyClass`\n",
    "        print(f\"Value: {self.value}\")\n",
    "\n",
    "func1 = MyClass.display_value  # unbound method\n",
    "print(\"unbound method :\", func1)\n",
    "\n",
    "myclass1 = MyClass(8)\n",
    "func2 = myclass1.display_value  # bound method\n",
    "print(\"bound method :\", func2)"
   ]
  },
  {
   "cell_type": "markdown",
   "id": "15ca6fd8",
   "metadata": {},
   "source": [
    "```\n",
    "Q5. What is the purpose of pseudo-private attributes?\n",
    "```\n",
    "\n",
    "### Ans.\n",
    "\n",
    "pseudo-private attributes is a feature that allows classes to have attributes that are hidden within the class. It ensures that certain attributes of a class are intended for internal use only and should not be accessed or modified directly by external code. It is done by using `__` before attribute name.\n",
    "\n",
    "These attributes are not truly private because the variable names are modified by python to include the class name as a prefix and these attributes can be accessed with the modified name\n",
    "\n",
    "---"
   ]
  },
  {
   "cell_type": "code",
   "execution_count": 11,
   "id": "512198ae",
   "metadata": {},
   "outputs": [
    {
     "name": "stdout",
     "output_type": "stream",
     "text": [
      "Pseudoprivate attribute value: 42\n",
      "42\n"
     ]
    },
    {
     "ename": "AttributeError",
     "evalue": "'MyClass' object has no attribute '__pseudoprivate_attribute'",
     "output_type": "error",
     "traceback": [
      "\u001b[1;31m---------------------------------------------------------------------------\u001b[0m",
      "\u001b[1;31mAttributeError\u001b[0m                            Traceback (most recent call last)",
      "\u001b[1;32m~\\AppData\\Local\\Temp\\ipykernel_19980\\2443986124.py\u001b[0m in \u001b[0;36m<module>\u001b[1;34m\u001b[0m\n\u001b[0;32m     11\u001b[0m \u001b[0mobj\u001b[0m\u001b[1;33m.\u001b[0m\u001b[0mpublic_method\u001b[0m\u001b[1;33m(\u001b[0m\u001b[1;33m)\u001b[0m\u001b[1;33m\u001b[0m\u001b[1;33m\u001b[0m\u001b[0m\n\u001b[0;32m     12\u001b[0m \u001b[0mprint\u001b[0m\u001b[1;33m(\u001b[0m\u001b[0mobj\u001b[0m\u001b[1;33m.\u001b[0m\u001b[0m_MyClass__pseudoprivate_attribute\u001b[0m\u001b[1;33m)\u001b[0m  \u001b[1;31m# No errors\u001b[0m\u001b[1;33m\u001b[0m\u001b[1;33m\u001b[0m\u001b[0m\n\u001b[1;32m---> 13\u001b[1;33m \u001b[0mprint\u001b[0m\u001b[1;33m(\u001b[0m\u001b[0mobj\u001b[0m\u001b[1;33m.\u001b[0m\u001b[0m__pseudoprivate_attribute\u001b[0m\u001b[1;33m)\u001b[0m  \u001b[1;31m# gives error\u001b[0m\u001b[1;33m\u001b[0m\u001b[1;33m\u001b[0m\u001b[0m\n\u001b[0m",
      "\u001b[1;31mAttributeError\u001b[0m: 'MyClass' object has no attribute '__pseudoprivate_attribute'"
     ]
    }
   ],
   "source": [
    "class MyClass:\n",
    "    def __init__(self):\n",
    "        self.__pseudoprivate_attribute = 42\n",
    "\n",
    "    def public_method(self):\n",
    "        # pseudoprivate attributes can be accessed by class methods only and \n",
    "        # can be accessed by outside code only if accessed through public method\n",
    "        print(f\"Pseudoprivate attribute value: {self.__pseudoprivate_attribute}\")\n",
    "\n",
    "obj = MyClass()\n",
    "obj.public_method()\n",
    "print(obj._MyClass__pseudoprivate_attribute)  # No errors\n",
    "print(obj.__pseudoprivate_attribute)  # gives error"
   ]
  }
 ],
 "metadata": {
  "kernelspec": {
   "display_name": "fsds",
   "language": "python",
   "name": "python3"
  },
  "language_info": {
   "codemirror_mode": {
    "name": "ipython",
    "version": 3
   },
   "file_extension": ".py",
   "mimetype": "text/x-python",
   "name": "python",
   "nbconvert_exporter": "python",
   "pygments_lexer": "ipython3",
   "version": "3.7.9"
  }
 },
 "nbformat": 4,
 "nbformat_minor": 5
}
