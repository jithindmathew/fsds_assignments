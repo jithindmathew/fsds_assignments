{
 "cells": [
  {
   "cell_type": "markdown",
   "id": "ee31004f",
   "metadata": {},
   "source": [
    "```\n",
    "1. What is the concept of an abstract superclass?\n",
    "```\n",
    "\n",
    "### Ans.\n",
    "\n",
    "An abstract superclass is a class that serves as a blueprint for other classes but cannot be instantiated directly. It is designed to be subclassed, and its primary purpose is to define a common interface and behavior that its subclasses must implement.\n",
    "\n",
    "---"
   ]
  },
  {
   "cell_type": "code",
   "execution_count": 1,
   "id": "fc54770e",
   "metadata": {},
   "outputs": [],
   "source": [
    "from abc import ABC, abstractmethod\n",
    "\n",
    "class Shape(ABC):  # This is an abstract superclass and serves as the blueprint for its subclasses\n",
    "    @abstractmethod  # This decorator indicates that these methods mut be implemented in subclasses\n",
    "    def area(self):\n",
    "        pass\n",
    "\n",
    "    @abstractmethod  # This decorator indicates that these methods mut be implemented in subclasses\n",
    "    def perimeter(self):\n",
    "        pass\n",
    "\n",
    "class Circle(Shape):  # subclasses of abstract class\n",
    "    def __init__(self, radius):\n",
    "        self.radius = radius\n",
    "\n",
    "    def area(self):  # This method is implemented\n",
    "        return 3.14 * self.radius * self.radius\n",
    "\n",
    "    def perimeter(self):  # This method is implemented\n",
    "        return 2 * 3.14 * self.radius\n",
    "\n",
    "class Square(Shape):  # subclasses of abstract class\n",
    "    def __init__(self, side):\n",
    "        self.side = side\n",
    "\n",
    "    def area(self):  # This method is implemented\n",
    "        return self.side * self.side\n",
    "\n",
    "    def perimeter(self):  # This method is implemented\n",
    "        return 4 * self.side\n"
   ]
  },
  {
   "cell_type": "markdown",
   "id": "9ceecb6b",
   "metadata": {},
   "source": [
    "```\n",
    "2. What happens when a class statement's top level contains a basic assignment statement?\n",
    "```\n",
    "\n",
    "### Ans.\n",
    "\n",
    "The assigned variables becomes a class attribute\n",
    "\n",
    "---"
   ]
  },
  {
   "cell_type": "markdown",
   "id": "5e83ef3b",
   "metadata": {},
   "source": [
    "```\n",
    "3. Why does a class need to manually call a superclass's __init__ method?\n",
    "```\n",
    "\n",
    "### Ans.\n",
    "\n",
    "When a subclass inherits from a superclass, we use `__init__` method of the superclass to initialize the logic of superclass before the initialization of the subclass logic. It ensure that inheritance is properly set up.\n",
    "\n",
    "---"
   ]
  },
  {
   "cell_type": "code",
   "execution_count": 2,
   "id": "56d7e8a4",
   "metadata": {},
   "outputs": [
    {
     "name": "stdout",
     "output_type": "stream",
     "text": [
      "Dog makes a bark sound.\n"
     ]
    }
   ],
   "source": [
    "class Animal:\n",
    "    def __init__(self, species):\n",
    "        self.species = species\n",
    "\n",
    "    def make_sound(self, sound):\n",
    "        print(f\"{self.species} makes a {sound} sound.\")\n",
    "\n",
    "class Dog(Animal):\n",
    "    def __init__(self, name, breed):\n",
    "        super().__init__(\"Dog\")  # Calling the superclass's __init__ method\n",
    "        self.name = name\n",
    "        self.breed = breed\n",
    "\n",
    "    def bark(self):\n",
    "        print(\"Woof!\")\n",
    "\n",
    "dog1 = Dog(\"Buddy\", \"Labrador\")\n",
    "\n",
    "# The Dog class inherits make_sound from Animal\n",
    "dog1.make_sound(\"bark\") \n"
   ]
  },
  {
   "cell_type": "markdown",
   "id": "cbabbdec",
   "metadata": {},
   "source": [
    "```\n",
    "4. How can you augment, instead of completely replacing, an inherited method?\n",
    "```\n",
    "\n",
    "### Ans.\n",
    "\n",
    "It is done by calling the superclass's method from the subclass's method while adding the desired additional behavior.\n",
    "\n",
    "---"
   ]
  },
  {
   "cell_type": "code",
   "execution_count": 5,
   "id": "14ed5280",
   "metadata": {},
   "outputs": [
    {
     "name": "stdout",
     "output_type": "stream",
     "text": [
      "Animal makes a generic sound.\n",
      "Dog barks\n"
     ]
    }
   ],
   "source": [
    "class Animal:\n",
    "    def make_sound(self):\n",
    "        print(\"Animal makes a generic sound.\")\n",
    "\n",
    "class Dog(Animal):\n",
    "    def make_sound(self):\n",
    "\n",
    "        # additional behaviour\n",
    "\n",
    "        # Call the superclass's method using super()\n",
    "        super().make_sound()\n",
    "\n",
    "        # additional behaviour\n",
    "        print(self.__class__.__name__, \"barks\")\n",
    "\n",
    "dog1 = Dog()\n",
    "dog1.make_sound()\n"
   ]
  },
  {
   "cell_type": "markdown",
   "id": "469715b7",
   "metadata": {},
   "source": [
    "```\n",
    "5. How is the local scope of a class different from that of a function?\n",
    "```\n",
    "\n",
    "### Ans.\n",
    "\n",
    "Variables defined within a class scope is available to all instances of the class and can be used by all the methods in the class whereas variables defined in the function scope is available nly to that function\n",
    "\n",
    "---"
   ]
  }
 ],
 "metadata": {
  "kernelspec": {
   "display_name": "fsds",
   "language": "python",
   "name": "python3"
  },
  "language_info": {
   "codemirror_mode": {
    "name": "ipython",
    "version": 3
   },
   "file_extension": ".py",
   "mimetype": "text/x-python",
   "name": "python",
   "nbconvert_exporter": "python",
   "pygments_lexer": "ipython3",
   "version": "3.7.9"
  }
 },
 "nbformat": 4,
 "nbformat_minor": 5
}
