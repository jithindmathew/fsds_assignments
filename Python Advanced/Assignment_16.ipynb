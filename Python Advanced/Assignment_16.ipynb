{
 "cells": [
  {
   "cell_type": "markdown",
   "id": "22848e32",
   "metadata": {},
   "source": [
    "```\n",
    "Q1. What is the benefit of regular expressions?\n",
    "```\n",
    "\n",
    "### Ans.\n",
    "\n",
    "\n",
    "---"
   ]
  },
  {
   "cell_type": "markdown",
   "id": "1d637cba",
   "metadata": {},
   "source": [
    "```\n",
    "Q2. Describe the difference between the effects of \"(ab)c+\" and \"a(bc)+.\" Which of these, if any, is the unqualified pattern \"abc+\"?\n",
    "```\n",
    "\n",
    "### Ans.\n",
    "\n",
    "\n",
    "---"
   ]
  },
  {
   "cell_type": "markdown",
   "id": "ca5a04c6",
   "metadata": {},
   "source": [
    "```\n",
    "Q3. How much do you need to use the following sentence while using regular expressions?\n",
    "```\n",
    "\n",
    "### Ans.\n",
    "\n",
    "\n",
    "---"
   ]
  },
  {
   "cell_type": "markdown",
   "id": "6e1d10dc",
   "metadata": {},
   "source": [
    "```\n",
    "import re\n",
    "```\n",
    "\n",
    "### Ans.\n",
    "\n",
    "\n",
    "---"
   ]
  },
  {
   "cell_type": "markdown",
   "id": "282c4325",
   "metadata": {},
   "source": [
    "```\n",
    "Q4. Which characters have special significance in square brackets when expressing a range, and under what circumstances?\n",
    "```\n",
    "\n",
    "### Ans.\n",
    "\n",
    "\n",
    "---"
   ]
  },
  {
   "cell_type": "markdown",
   "id": "c0083a2f",
   "metadata": {},
   "source": [
    "```\n",
    "Q5. How does compiling a regular-expression object benefit you?\n",
    "```\n",
    "\n",
    "### Ans.\n",
    "\n",
    "\n",
    "---"
   ]
  },
  {
   "cell_type": "markdown",
   "id": "39f3be6a",
   "metadata": {},
   "source": [
    "```\n",
    "Q6. What are some examples of how to use the match object returned by re.match and re.search?\n",
    "```\n",
    "\n",
    "### Ans.\n",
    "\n",
    "\n",
    "---"
   ]
  },
  {
   "cell_type": "markdown",
   "id": "9b6bf8c1",
   "metadata": {},
   "source": [
    "```\n",
    "Q7. What is the difference between using a vertical bar (|) as an alteration and using square brackets as a character set?\n",
    "```\n",
    "\n",
    "### Ans.\n",
    "\n",
    "\n",
    "---"
   ]
  },
  {
   "cell_type": "markdown",
   "id": "68815450",
   "metadata": {},
   "source": [
    "```\n",
    "Q8. In regular-expression search patterns, why is it necessary to use the raw-string indicator (r)? In�� replacement strings?\n",
    "```\n",
    "\n",
    "### Ans.\n",
    "\n",
    "\n",
    "---"
   ]
  }
 ],
 "metadata": {},
 "nbformat": 4,
 "nbformat_minor": 5
}
