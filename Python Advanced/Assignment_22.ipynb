{
 "cells": [
  {
   "cell_type": "markdown",
   "id": "299dbe1e",
   "metadata": {},
   "source": [
    "```\n",
    "Q1. What are the benefits of the built-in array package, if any?\n",
    "```\n",
    "\n",
    "### Ans.\n",
    "\n",
    "\n",
    "---"
   ]
  },
  {
   "cell_type": "markdown",
   "id": "5848e860",
   "metadata": {},
   "source": [
    "```\n",
    "Q2. What are some of the array package's limitations?\n",
    "```\n",
    "\n",
    "### Ans.\n",
    "\n",
    "\n",
    "---"
   ]
  },
  {
   "cell_type": "markdown",
   "id": "51e192dd",
   "metadata": {},
   "source": [
    "```\n",
    "Q3. Describe the main differences between the array and numpy packages.\n",
    "```\n",
    "\n",
    "### Ans.\n",
    "\n",
    "\n",
    "---"
   ]
  },
  {
   "cell_type": "markdown",
   "id": "fec3a5d2",
   "metadata": {},
   "source": [
    "```\n",
    "Q4. Explain the distinctions between the empty, ones, and zeros functions.\n",
    "```\n",
    "\n",
    "### Ans.\n",
    "\n",
    "\n",
    "---"
   ]
  },
  {
   "cell_type": "markdown",
   "id": "59a3da5f",
   "metadata": {},
   "source": [
    "```\n",
    "Q5. In the fromfunction function, which is used to construct new arrays, what is the role of the callable argument?\n",
    "```\n",
    "\n",
    "### Ans.\n",
    "\n",
    "\n",
    "---"
   ]
  },
  {
   "cell_type": "markdown",
   "id": "a39c60e9",
   "metadata": {},
   "source": [
    "```\n",
    "Q6. What happens when a numpy array is combined with a single-value operand (a scalar, such as an int or a floating-point value) through addition, as in the expression A + n?\n",
    "```\n",
    "\n",
    "### Ans.\n",
    "\n",
    "\n",
    "---"
   ]
  },
  {
   "cell_type": "markdown",
   "id": "f8d8a0c1",
   "metadata": {},
   "source": [
    "```\n",
    "Q7. Can array-to-scalar operations use combined operation-assign operators (such as += or *=)? What is the outcome?\n",
    "```\n",
    "\n",
    "### Ans.\n",
    "\n",
    "\n",
    "---"
   ]
  },
  {
   "cell_type": "markdown",
   "id": "74df1d77",
   "metadata": {},
   "source": [
    "```\n",
    "Q8. Does a numpy array contain fixed-length strings? What happens if you allocate a longer string to one of these arrays?\n",
    "```\n",
    "\n",
    "### Ans.\n",
    "\n",
    "\n",
    "---"
   ]
  },
  {
   "cell_type": "markdown",
   "id": "cafec1fc",
   "metadata": {},
   "source": [
    "```\n",
    "Q9. What happens when you combine two numpy arrays using an operation like addition (+) or multiplication (*)? What are the conditions for combining two numpy arrays?\n",
    "```\n",
    "\n",
    "### Ans.\n",
    "\n",
    "\n",
    "---"
   ]
  },
  {
   "cell_type": "markdown",
   "id": "05bd4044",
   "metadata": {},
   "source": [
    "```\n",
    "Q10. What is the best way to use a Boolean array to mask another array?\n",
    "```\n",
    "\n",
    "### Ans.\n",
    "\n",
    "\n",
    "---"
   ]
  },
  {
   "cell_type": "markdown",
   "id": "c2b82457",
   "metadata": {},
   "source": [
    "```\n",
    "Q11. What are three different ways to get the standard deviation of a wide collection of data using both standard Python and its packages? Sort the three of them by how quickly they execute.\n",
    "```\n",
    "\n",
    "### Ans.\n",
    "\n",
    "\n",
    "---"
   ]
  },
  {
   "cell_type": "markdown",
   "id": "74fa29f5",
   "metadata": {},
   "source": [
    "```\n",
    "12. What is the dimensionality of a Boolean mask-generated array?\n",
    "```\n",
    "\n",
    "### Ans.\n",
    "\n",
    "\n",
    "---"
   ]
  }
 ],
 "metadata": {},
 "nbformat": 4,
 "nbformat_minor": 5
}
