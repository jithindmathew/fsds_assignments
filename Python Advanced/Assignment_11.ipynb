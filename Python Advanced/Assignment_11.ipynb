{
 "cells": [
  {
   "cell_type": "markdown",
   "id": "74b0796c",
   "metadata": {},
   "source": [
    "```\n",
    "Q1. What is the concept of a metaclass?\n",
    "```\n",
    "\n",
    "### Ans.\n",
    "\n",
    "\n",
    "---"
   ]
  },
  {
   "cell_type": "markdown",
   "id": "ddc7877c",
   "metadata": {},
   "source": [
    "```\n",
    "Q2. What is the best way to declare a class's metaclass?\n",
    "```\n",
    "\n",
    "### Ans.\n",
    "\n",
    "\n",
    "---"
   ]
  },
  {
   "cell_type": "markdown",
   "id": "8ead0261",
   "metadata": {},
   "source": [
    "```\n",
    "Q3. How do class decorators overlap with metaclasses for handling classes?\n",
    "```\n",
    "\n",
    "### Ans.\n",
    "\n",
    "\n",
    "---"
   ]
  },
  {
   "cell_type": "markdown",
   "id": "d2e37d7b",
   "metadata": {},
   "source": [
    "```\n",
    "Q4. How do class decorators overlap with metaclasses for handling instances?\n",
    "```\n",
    "\n",
    "### Ans.\n",
    "\n",
    "\n",
    "---"
   ]
  }
 ],
 "metadata": {},
 "nbformat": 4,
 "nbformat_minor": 5
}
