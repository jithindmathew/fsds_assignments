{
 "cells": [
  {
   "cell_type": "markdown",
   "id": "2a751ed0",
   "metadata": {},
   "source": [
    "```\n",
    "Q1. What is the relationship between classes and modules?\n",
    "```\n",
    "\n",
    "### Ans.\n",
    "\n",
    "A module is a python file containing python code whereas a class is a blueprint or template for creating objects in python. In short, modules contains classes.\n",
    "\n",
    "---"
   ]
  },
  {
   "cell_type": "markdown",
   "id": "6ea8b985",
   "metadata": {},
   "source": [
    "```\n",
    "Q2. How do you make instances and classes?\n",
    "```\n",
    "\n",
    "### Ans.\n",
    "\n",
    "classes are made using `class` keyword in python and instances are made using the class name\n",
    "\n",
    "---"
   ]
  },
  {
   "cell_type": "code",
   "execution_count": 1,
   "id": "cb0eb828",
   "metadata": {},
   "outputs": [],
   "source": [
    "class Python:  # Creating a class\n",
    "    def __init__(self, version) -> None:\n",
    "        self.version = version\n",
    "    \n",
    "    def method(self):\n",
    "        return f\"The version is {self.version}\"\n",
    "\n",
    "p1 = Python(4)  # creating an instance of Python class"
   ]
  },
  {
   "cell_type": "markdown",
   "id": "a6d2b0e3",
   "metadata": {},
   "source": [
    "```\n",
    "Q3. Where and how should be class attributes created?\n",
    "```\n",
    "\n",
    "### Ans.\n",
    "\n",
    "class attributes should be defined inside the class but outside of any any methods including the constructor.\n",
    "\n",
    "---"
   ]
  },
  {
   "cell_type": "code",
   "execution_count": 1,
   "id": "78a746ab",
   "metadata": {},
   "outputs": [],
   "source": [
    "class Car:\n",
    "    color = \"red\"  # class attribute\n",
    "\n",
    "    def __init__(self, year) -> None:\n",
    "        self.year = year"
   ]
  },
  {
   "cell_type": "markdown",
   "id": "a455543b",
   "metadata": {},
   "source": [
    "```\n",
    "Q4. Where and how are instance attributes created?\n",
    "```\n",
    "\n",
    "### Ans.\n",
    "\n",
    "Instance attributes in Python are created within the `__init__` method of a class or a cnstructr. \n",
    "\n",
    "---"
   ]
  },
  {
   "cell_type": "code",
   "execution_count": 2,
   "id": "4c9c413b",
   "metadata": {},
   "outputs": [],
   "source": [
    "class Car:\n",
    "    color = \"red\"  \n",
    "\n",
    "    def __init__(self, year) -> None:\n",
    "        self.year = year  # instance attribute\n",
    "    "
   ]
  },
  {
   "cell_type": "markdown",
   "id": "80dace6f",
   "metadata": {},
   "source": [
    "```\n",
    "Q5. What does the term \"self\" in a Python class mean?\n",
    "```\n",
    "\n",
    "### Ans.\n",
    "\n",
    "It represents the instance of the class that the method is bound to when called.\n",
    "\n",
    "---"
   ]
  },
  {
   "cell_type": "markdown",
   "id": "1c8ca39a",
   "metadata": {},
   "source": [
    "```\n",
    "Q6. How does a Python class handle operator overloading?\n",
    "```\n",
    "\n",
    "### Ans.\n",
    "\n",
    "operator overloading allows to define the behavior of built-in operators such as `+` `-` `*` `/`  `==` `<` `>` `str` \n",
    "\n",
    "1. `__str__(self)` : returns a string representation of the object when `str()` function is called on the instance\n",
    "2. `__repr__(self)` : returns a string representation of the object when `repe()` function is called on the instance\n",
    "3. `__add__(self, other)` : defined the behavious of `+` operator when applies to the instances of the class\n",
    "4. `__sub__(self, other)` : defined the behavious of `-` operator when applies to the instances of the class\n",
    "5. `__mul__(self, other)` : defined the behavious of `*` operator when applies to the instances of the class\n",
    "6. `__truediv__(self, other)` : defined the behavious of `/` operator when applies to the instances of the class\n",
    "7. `__eq__(self, other)` : defined the behavious of `==` operator when applies to the instances of the class\n",
    "8. `__ne__(self, other)` : defined the behavious of `!=` operator when applies to the instances of the class\n",
    "9. `__lt__(self, other)` : defined the behavious of `<` operator when applies to the instances of the class\n",
    "10. `__gt__(self, other)` : defined the behavious of `>` operator when applies to the instances of the class\n",
    "\n",
    "---"
   ]
  },
  {
   "cell_type": "markdown",
   "id": "4d13b4bc",
   "metadata": {},
   "source": [
    "```\n",
    "Q7. When do you consider allowing operator overloading of your classes?\n",
    "```\n",
    "\n",
    "### Ans.\n",
    "\n",
    "1. When the class represents a mathematical entity or concept\n",
    "2. When the class represents entities that can be compared or checked for equivalence\n",
    "3. When the class represents a container that provides interface to manipulate the contents of these containers\n",
    "4. When the class represents a specific use case.\n",
    "\n",
    "---"
   ]
  },
  {
   "cell_type": "markdown",
   "id": "037bd5a9",
   "metadata": {},
   "source": [
    "```\n",
    "Q8. What is the most popular form of operator overloading?\n",
    "```\n",
    "\n",
    "### Ans.\n",
    "\n",
    "`__add__` method is one of the most popular form of operator overloading\n",
    "\n",
    "---"
   ]
  },
  {
   "cell_type": "code",
   "execution_count": 3,
   "id": "3e3a7895",
   "metadata": {},
   "outputs": [
    {
     "data": {
      "text/plain": [
       "'Vector(6, 2)'"
      ]
     },
     "execution_count": 3,
     "metadata": {},
     "output_type": "execute_result"
    }
   ],
   "source": [
    "class Vector:\n",
    "    def __init__(self, x, y) -> None:\n",
    "        self.x = x\n",
    "        self.y = y\n",
    "    \n",
    "    def __add__(self, other):\n",
    "        return Vector(self.x + other.x, self.y + other.y)\n",
    "    \n",
    "    def __repr__(self) -> str:\n",
    "        return f\"Vector({self.x}, {self.y})\"\n",
    "\n",
    "vec_1 = Vector(4, 5)\n",
    "vec_2 = Vector(2, -3)\n",
    "\n",
    "vec_3 = vec_1 + vec_2\n",
    "repr(vec_3)"
   ]
  },
  {
   "cell_type": "markdown",
   "id": "3f851abd",
   "metadata": {},
   "source": [
    "```\n",
    "Q9. What are the two most important concepts to grasp in order to comprehend Python OOP code?\n",
    "```\n",
    "\n",
    "### Ans.\n",
    "\n",
    "Two of the most important concepts are\n",
    "1. classes and objects\n",
    "2. Instance attributes and methods\n",
    "\n",
    "---"
   ]
  }
 ],
 "metadata": {
  "kernelspec": {
   "display_name": "fsds",
   "language": "python",
   "name": "python3"
  },
  "language_info": {
   "codemirror_mode": {
    "name": "ipython",
    "version": 3
   },
   "file_extension": ".py",
   "mimetype": "text/x-python",
   "name": "python",
   "nbconvert_exporter": "python",
   "pygments_lexer": "ipython3",
   "version": "3.7.9"
  }
 },
 "nbformat": 4,
 "nbformat_minor": 5
}
