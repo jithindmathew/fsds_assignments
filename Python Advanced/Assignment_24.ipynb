{
 "cells": [
  {
   "cell_type": "markdown",
   "id": "6482a23f",
   "metadata": {},
   "source": [
    "```\n",
    "Q1. Is it permissible to use several import statements to import the same module? What would the goal be? Can you think of a situation where it would be beneficial?\n",
    "```\n",
    "\n",
    "### Ans.\n",
    "\n",
    "\n",
    "---"
   ]
  },
  {
   "cell_type": "markdown",
   "id": "30882bce",
   "metadata": {},
   "source": [
    "```\n",
    "Q2. What are some of a module's characteristics? (Name at least one.)\n",
    "```\n",
    "\n",
    "### Ans.\n",
    "\n",
    "\n",
    "---"
   ]
  },
  {
   "cell_type": "markdown",
   "id": "cdcde5a4",
   "metadata": {},
   "source": [
    "```\n",
    "Q3. Circular importing, such as when two modules import each other, can lead to dependencies and bugs that aren't visible. How can you go about creating a program that avoids mutual importing?\n",
    "```\n",
    "\n",
    "### Ans.\n",
    "\n",
    "\n",
    "---"
   ]
  },
  {
   "cell_type": "markdown",
   "id": "7239f8b5",
   "metadata": {},
   "source": [
    "```\n",
    "Q4. Why is  _ _all_ _ in Python?\n",
    "```\n",
    "\n",
    "### Ans.\n",
    "\n",
    "\n",
    "---"
   ]
  },
  {
   "cell_type": "markdown",
   "id": "af46e161",
   "metadata": {},
   "source": [
    "```\n",
    "Q5. In what situation is it useful to refer to the _ _name_ _ attribute or the string '_ _main_ _'?\n",
    "```\n",
    "\n",
    "### Ans.\n",
    "\n",
    "\n",
    "---"
   ]
  },
  {
   "cell_type": "markdown",
   "id": "2e8fbfeb",
   "metadata": {},
   "source": [
    "```\n",
    "Q6. What are some of the benefits of attaching a program counter to the RPN interpreter application, which interprets an RPN script line by line?\n",
    "```\n",
    "\n",
    "### Ans.\n",
    "\n",
    "\n",
    "---"
   ]
  },
  {
   "cell_type": "markdown",
   "id": "b6c1f431",
   "metadata": {},
   "source": [
    "```\n",
    "Q7. What are the minimum expressions or statements (or both) that you'd need to render a basic programming language like RPN primitive but complete� that is, capable of carrying out any computerised task theoretically possible?\n",
    "```\n",
    "\n",
    "### Ans.\n",
    "\n",
    "\n",
    "---"
   ]
  }
 ],
 "metadata": {},
 "nbformat": 4,
 "nbformat_minor": 5
}
