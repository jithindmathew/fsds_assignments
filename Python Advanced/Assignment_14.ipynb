{
 "cells": [
  {
   "cell_type": "markdown",
   "id": "42c74db4",
   "metadata": {},
   "source": [
    "```\n",
    "Q1. Is an assignment operator like += only for show? Is it possible that it would lead to faster results at�the�runtime?\n",
    "```\n",
    "\n",
    "### Ans.\n",
    "\n",
    "\n",
    "---"
   ]
  },
  {
   "cell_type": "markdown",
   "id": "f8e3ba09",
   "metadata": {},
   "source": [
    "```\n",
    "Q2. What is the smallest number of statements you'd have to write in most programming languages to replace the Python expression a, b = a + b, a?\n",
    "```\n",
    "\n",
    "### Ans.\n",
    "\n",
    "\n",
    "---"
   ]
  },
  {
   "cell_type": "markdown",
   "id": "41d630b6",
   "metadata": {},
   "source": [
    "```\n",
    "Q3. In Python, what is the most effective way to set a list of 100 integers to 0?\n",
    "```\n",
    "\n",
    "### Ans.\n",
    "\n",
    "\n",
    "---"
   ]
  },
  {
   "cell_type": "markdown",
   "id": "1602a992",
   "metadata": {},
   "source": [
    "```\n",
    "Q4. What is the most effective way to initialise a list of 99 integers that repeats the sequence 1, 2, 3? S If necessary, show step-by-step instructions on how to accomplish this.\n",
    "```\n",
    "\n",
    "### Ans.\n",
    "\n",
    "\n",
    "---"
   ]
  },
  {
   "cell_type": "markdown",
   "id": "17cfd2ca",
   "metadata": {},
   "source": [
    "```\n",
    "Q5. If you're using IDLE to run a Python application, explain how to print a multidimensional list as efficiently?\n",
    "```\n",
    "\n",
    "### Ans.\n",
    "\n",
    "\n",
    "---"
   ]
  },
  {
   "cell_type": "markdown",
   "id": "313abade",
   "metadata": {},
   "source": [
    "```\n",
    "Q6. Is it possible to use list comprehension with a string? If so, how can you go about doing it?\n",
    "```\n",
    "\n",
    "### Ans.\n",
    "\n",
    "\n",
    "---"
   ]
  },
  {
   "cell_type": "markdown",
   "id": "e5c5c6c1",
   "metadata": {},
   "source": [
    "```\n",
    "Q7. From the command line, how do you get support with a user-written Python programme? Is this possible from inside IDLE?\n",
    "```\n",
    "\n",
    "### Ans.\n",
    "\n",
    "\n",
    "---"
   ]
  },
  {
   "cell_type": "markdown",
   "id": "8c09aa23",
   "metadata": {},
   "source": [
    "```\n",
    "Q8. Functions are said to be �first-class objects� in Python but not in most other languages, such as C++ or Java. What can you do in Python with a function (callable object) that you can't do in C or C++?\n",
    "```\n",
    "\n",
    "### Ans.\n",
    "\n",
    "\n",
    "---"
   ]
  },
  {
   "cell_type": "markdown",
   "id": "0a2b36cb",
   "metadata": {},
   "source": [
    "```\n",
    "Q9. How do you distinguish between a wrapper, a wrapped feature, and a decorator?\n",
    "```\n",
    "\n",
    "### Ans.\n",
    "\n",
    "\n",
    "---"
   ]
  },
  {
   "cell_type": "markdown",
   "id": "a42d1d21",
   "metadata": {},
   "source": [
    "```\n",
    "Q10. If a function is a generator function, what�does it return?\n",
    "```\n",
    "\n",
    "### Ans.\n",
    "\n",
    "\n",
    "---"
   ]
  },
  {
   "cell_type": "markdown",
   "id": "6cb39501",
   "metadata": {},
   "source": [
    "```\n",
    "Q11. What is the one improvement that must be made to a function in order for it to become a generator function in the Python language?\n",
    "```\n",
    "\n",
    "### Ans.\n",
    "\n",
    "\n",
    "---"
   ]
  },
  {
   "cell_type": "markdown",
   "id": "387a6fef",
   "metadata": {},
   "source": [
    "```\n",
    "Q12. Identify at least one benefit of generators.\n",
    "```\n",
    "\n",
    "### Ans.\n",
    "\n",
    "\n",
    "---"
   ]
  }
 ],
 "metadata": {},
 "nbformat": 4,
 "nbformat_minor": 5
}
