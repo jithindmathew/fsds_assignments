{
 "cells": [
  {
   "cell_type": "markdown",
   "id": "1c9f2789",
   "metadata": {},
   "source": [
    "```\n",
    "1. Compare and contrast the float and Decimal classes' benefits and drawbacks.\n",
    "```\n",
    "\n",
    "### Ans.\n",
    "\n",
    "\n",
    "---"
   ]
  },
  {
   "cell_type": "markdown",
   "id": "5a882931",
   "metadata": {},
   "source": [
    "```\n",
    "2. Decimal('1.200') and Decimal('1.2') are two objects to consider. In what sense are these the same object? Are these just two ways of representing the exact same value, or do they correspond to different internal states?\n",
    "```\n",
    "\n",
    "### Ans.\n",
    "\n",
    "\n",
    "---"
   ]
  },
  {
   "cell_type": "markdown",
   "id": "140274af",
   "metadata": {},
   "source": [
    "```\n",
    "3. What happens if the equality of Decimal('1.200') and Decimal('1.2') is checked?\n",
    "```\n",
    "\n",
    "### Ans.\n",
    "\n",
    "\n",
    "---"
   ]
  },
  {
   "cell_type": "markdown",
   "id": "ba70e3b4",
   "metadata": {},
   "source": [
    "```\n",
    "4. Why is it preferable to start a Decimal object with a string rather than a floating-point value?\n",
    "```\n",
    "\n",
    "### Ans.\n",
    "\n",
    "\n",
    "---"
   ]
  },
  {
   "cell_type": "markdown",
   "id": "00f3bc29",
   "metadata": {},
   "source": [
    "```\n",
    "5. In an arithmetic phrase, how simple is it to combine Decimal objects with integers?\n",
    "```\n",
    "\n",
    "### Ans.\n",
    "\n",
    "\n",
    "---"
   ]
  },
  {
   "cell_type": "markdown",
   "id": "f5c3738e",
   "metadata": {},
   "source": [
    "```\n",
    "6. Can Decimal objects and floating-point values be combined easily?\n",
    "```\n",
    "\n",
    "### Ans.\n",
    "\n",
    "\n",
    "---"
   ]
  },
  {
   "cell_type": "markdown",
   "id": "110433e8",
   "metadata": {},
   "source": [
    "```\n",
    "7. Using the Fraction class but not the Decimal class, give an example of a quantity that can be expressed with absolute precision.\n",
    "```\n",
    "\n",
    "### Ans.\n",
    "\n",
    "\n",
    "---"
   ]
  },
  {
   "cell_type": "markdown",
   "id": "d964e003",
   "metadata": {},
   "source": [
    "```\n",
    "8. Describe a quantity that can be accurately expressed by the Decimal or Fraction classes but not by a floating-point value.\n",
    "```\n",
    "\n",
    "### Ans.\n",
    "\n",
    "\n",
    "---"
   ]
  },
  {
   "cell_type": "markdown",
   "id": "77afbea1",
   "metadata": {},
   "source": [
    "```\n",
    "Q9.Consider the following two fraction objects: Fraction(1, 2) and Fraction(1, 2). (5, 10). Is the internal state of these two objects the same? Why do you think that is?\n",
    "```\n",
    "\n",
    "### Ans.\n",
    "\n",
    "\n",
    "---"
   ]
  },
  {
   "cell_type": "markdown",
   "id": "5ec2963f",
   "metadata": {},
   "source": [
    "```\n",
    "Q10. How do the Fraction class and the integer type (int) relate to each other? Containment or inheritance?\n",
    "```\n",
    "\n",
    "### Ans.\n",
    "\n",
    "\n",
    "---"
   ]
  }
 ],
 "metadata": {},
 "nbformat": 4,
 "nbformat_minor": 5
}
