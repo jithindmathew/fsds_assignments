{
 "cells": [
  {
   "cell_type": "markdown",
   "id": "b5f3cb21",
   "metadata": {},
   "source": [
    "```\n",
    "Q1. Which two operator overloading methods can you use in your classes to support iteration?\n",
    "```\n",
    "\n",
    "### Ans.\n",
    "\n",
    "`__iter__` method and `__next__` method are useful to support iteration in the classes through `for` and `while` loops\n",
    "\n",
    "---"
   ]
  },
  {
   "cell_type": "code",
   "execution_count": 1,
   "id": "3e44db32",
   "metadata": {},
   "outputs": [
    {
     "name": "stdout",
     "output_type": "stream",
     "text": [
      "1\n",
      "2\n",
      "3\n",
      "4\n"
     ]
    }
   ],
   "source": [
    "class MyRange:\n",
    "    def __init__(self, start, end):\n",
    "        self.start = start\n",
    "        self.end = end\n",
    "        self.current = start\n",
    "\n",
    "    def __iter__(self):  # This method returns itself as the iterator bject\n",
    "        return self\n",
    "\n",
    "    def __next__(self):  # This method provides the next value in the range until the end\n",
    "        if self.current >= self.end:\n",
    "            raise StopIteration  # signals the end of iteration\n",
    "        value = self.current\n",
    "        self.current += 1\n",
    "        return value\n",
    "\n",
    "# Using the MyRange class for iteration\n",
    "my_range = MyRange(1, 5)\n",
    "\n",
    "for num in my_range:\n",
    "    print(num)\n"
   ]
  },
  {
   "cell_type": "markdown",
   "id": "fc67c998",
   "metadata": {},
   "source": [
    "```\n",
    "Q2. In what contexts do the two operator overloading methods manage printing?\n",
    "```\n",
    "\n",
    "### Ans.\n",
    "\n",
    "1. `__str__()` method is used to define what output should be returned when `str()` function is called on the class or when `print()` function is called on the class.\n",
    "2. `__repr__()` method is used to define the developer friendly representation to be returned when `repr()` function is called on the class object\n",
    "\n",
    "---"
   ]
  },
  {
   "cell_type": "code",
   "execution_count": 5,
   "id": "5040cd01",
   "metadata": {},
   "outputs": [
    {
     "name": "stdout",
     "output_type": "stream",
     "text": [
      "SampleClass with the value 3\n",
      "SampleClass with the value 3\n",
      "SampleClass(3)\n"
     ]
    }
   ],
   "source": [
    "class SampleClass:\n",
    "    def __init__(self, value) -> None:\n",
    "        self.value = value\n",
    "    \n",
    "    def __str__(self):\n",
    "        return f\"SampleClass with the value {self.value}\"\n",
    "    \n",
    "    def __repr__(self) -> str:\n",
    "        return f\"SampleClass({self.value})\"\n",
    "\n",
    "object1 = SampleClass(3)\n",
    "\n",
    "print(object1)\n",
    "print(str(object1))\n",
    "\n",
    "print(repr(object1))"
   ]
  },
  {
   "cell_type": "markdown",
   "id": "cae2982d",
   "metadata": {},
   "source": [
    "```\n",
    "Q3. In a class, how do you intercept slice operations?\n",
    "```\n",
    "\n",
    "### Ans.\n",
    "\n",
    "slice operations in a class can be implemented with `__getitem__` method\n",
    "\n",
    "---"
   ]
  },
  {
   "cell_type": "code",
   "execution_count": 9,
   "id": "f9361c36",
   "metadata": {},
   "outputs": [
    {
     "name": "stdout",
     "output_type": "stream",
     "text": [
      "[2, 4]\n",
      "3\n"
     ]
    }
   ],
   "source": [
    "class MyArray:\n",
    "    def __init__(self, array):\n",
    "        self.array = array\n",
    "\n",
    "    def __getitem__(self, index):\n",
    "        # checks if the index is an instance of slice\n",
    "        if isinstance(index, slice):  # if index is of the form [start:stop:step]\n",
    "            start, stop, step = index.indices(len(self.array))\n",
    "            return [self.array[i] for i in range(start, stop, step)]  # returns the slice\n",
    "        \n",
    "        # When the index is a single element\n",
    "        else:\n",
    "            return self.array[index]  # returns a single element instead of slice\n",
    "\n",
    "\n",
    "my_list = MyArray([1, 2, 3, 4, 5])\n",
    "\n",
    "print(my_list[1:4:2])  # using slicing \n",
    "print(my_list[2])  # using indexing"
   ]
  },
  {
   "cell_type": "markdown",
   "id": "604159fb",
   "metadata": {},
   "source": [
    "```\n",
    "Q4. In a class, how do you capture in-place addition?\n",
    "```\n",
    "\n",
    "### Ans.\n",
    "\n",
    "using `__iadd__(self, other)` method\n",
    "\n",
    "---"
   ]
  },
  {
   "cell_type": "code",
   "execution_count": 11,
   "id": "3f859bff",
   "metadata": {},
   "outputs": [
    {
     "name": "stdout",
     "output_type": "stream",
     "text": [
      "In place addition with a number 8\n",
      "in-place addition with another MyCounter instance 18\n"
     ]
    }
   ],
   "source": [
    "class MyCounter:\n",
    "    def __init__(self, count):\n",
    "        self.count = count\n",
    "\n",
    "    def __iadd__(self, other):\n",
    "        if isinstance(other, MyCounter):  # in-place addition with another instance of MyCounter\n",
    "            self.count += other.count\n",
    "        else:  # in-place addition with a number\n",
    "            self.count += other\n",
    "        return self  # returning the instance with updated count\n",
    "\n",
    "counter1 = MyCounter(5)\n",
    "\n",
    "counter1 += 3  # in-place addition\n",
    "print(\"In place addition with a number\", counter1.count)\n",
    "\n",
    "counter1 += MyCounter(10)  # in-place addition with another MyCounter instance\n",
    "print(\"in-place addition with another MyCounter instance\", counter1.count)\n"
   ]
  },
  {
   "cell_type": "markdown",
   "id": "027adc50",
   "metadata": {},
   "source": [
    "```\n",
    "Q5. When is it appropriate to use operator overloading?\n",
    "```\n",
    "\n",
    "### Ans.\n",
    "\n",
    "1. When the class represents a mathematical entity or concept that supports operators like `+` `-` `*` `/` \n",
    "2. When the class represents entities that can be compared or checked for equivalence like `==` `<` `>`\n",
    "3. When the class represents a container that provides interface to manipulate the contents of these containers like `+=`\n",
    "4. When the class represents a specific use case.\n",
    "\n",
    "---"
   ]
  }
 ],
 "metadata": {
  "kernelspec": {
   "display_name": "fsds",
   "language": "python",
   "name": "python3"
  },
  "language_info": {
   "codemirror_mode": {
    "name": "ipython",
    "version": 3
   },
   "file_extension": ".py",
   "mimetype": "text/x-python",
   "name": "python",
   "nbconvert_exporter": "python",
   "pygments_lexer": "ipython3",
   "version": "3.7.9"
  }
 },
 "nbformat": 4,
 "nbformat_minor": 5
}
