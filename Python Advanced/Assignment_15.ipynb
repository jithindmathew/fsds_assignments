{
 "cells": [
  {
   "cell_type": "markdown",
   "id": "a3507fe3",
   "metadata": {},
   "source": [
    "```\n",
    "What are the new features added in Python 3.8 version?\n",
    "```\n",
    "\n",
    "### Ans.\n",
    "\n",
    "\n",
    "---"
   ]
  },
  {
   "cell_type": "markdown",
   "id": "1df6739f",
   "metadata": {},
   "source": [
    "```\n",
    "What is monkey patching in Python?\n",
    "```\n",
    "\n",
    "### Ans.\n",
    "\n",
    "\n",
    "---"
   ]
  },
  {
   "cell_type": "markdown",
   "id": "91e60c2f",
   "metadata": {},
   "source": [
    "```\n",
    "What is the difference between a shallow copy and deep copy?\n",
    "```\n",
    "\n",
    "### Ans.\n",
    "\n",
    "\n",
    "---"
   ]
  },
  {
   "cell_type": "markdown",
   "id": "96cfa5b6",
   "metadata": {},
   "source": [
    "```\n",
    "What is the maximum possible length of an identifier?\n",
    "```\n",
    "\n",
    "### Ans.\n",
    "\n",
    "\n",
    "---"
   ]
  },
  {
   "cell_type": "markdown",
   "id": "567723dc",
   "metadata": {},
   "source": [
    "```\n",
    "What is generator comprehension?\n",
    "```\n",
    "\n",
    "### Ans.\n",
    "\n",
    "\n",
    "---"
   ]
  }
 ],
 "metadata": {},
 "nbformat": 4,
 "nbformat_minor": 5
}
