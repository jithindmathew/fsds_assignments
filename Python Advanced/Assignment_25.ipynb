{
 "cells": [
  {
   "cell_type": "markdown",
   "id": "099c35fa",
   "metadata": {},
   "source": [
    "```\n",
    "Q1. What is the distinction between a numpy array and a pandas data frame? Is there a way to convert between the two if there is?\n",
    "```\n",
    "\n",
    "### Ans.\n",
    "\n",
    "\n",
    "---"
   ]
  },
  {
   "cell_type": "markdown",
   "id": "cb3112fc",
   "metadata": {},
   "source": [
    "```\n",
    "Q2. What can go wrong when an user enters in a stock-ticker�symbol, and how do you handle it?\n",
    "```\n",
    "\n",
    "### Ans.\n",
    "\n",
    "\n",
    "---"
   ]
  },
  {
   "cell_type": "markdown",
   "id": "714a6437",
   "metadata": {},
   "source": [
    "```\n",
    "Q3. Identify some of the plotting techniques that are used to produce a stock-market chart.\n",
    "```\n",
    "\n",
    "### Ans.\n",
    "\n",
    "\n",
    "---"
   ]
  },
  {
   "cell_type": "markdown",
   "id": "37a6cc2c",
   "metadata": {},
   "source": [
    "```\n",
    "Q4. Why is it essential to print a legend on a stock market chart?\n",
    "```\n",
    "\n",
    "### Ans.\n",
    "\n",
    "\n",
    "---"
   ]
  },
  {
   "cell_type": "markdown",
   "id": "2c62eab7",
   "metadata": {},
   "source": [
    "```\n",
    "Q5. What is the best way to limit the length of a pandas data frame to less than a year?\n",
    "```\n",
    "\n",
    "### Ans.\n",
    "\n",
    "\n",
    "---"
   ]
  },
  {
   "cell_type": "markdown",
   "id": "2edc903e",
   "metadata": {},
   "source": [
    "```\n",
    "Q6. What is the definition of a 180-day moving average?\n",
    "```\n",
    "\n",
    "### Ans.\n",
    "\n",
    "\n",
    "---"
   ]
  },
  {
   "cell_type": "markdown",
   "id": "fbe247c3",
   "metadata": {},
   "source": [
    "```\n",
    "Q7. Did the chapter's final example use \"indirect\" importing? If so, how exactly do you do it?\n",
    "```\n",
    "\n",
    "### Ans.\n",
    "\n",
    "\n",
    "---"
   ]
  }
 ],
 "metadata": {},
 "nbformat": 4,
 "nbformat_minor": 5
}
