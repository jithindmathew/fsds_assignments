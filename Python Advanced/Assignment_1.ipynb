{
 "cells": [
  {
   "cell_type": "markdown",
   "id": "897c5e6c",
   "metadata": {},
   "source": [
    "```\n",
    "Q1. What is the purpose of Python's OOP?\n",
    "```\n",
    "\n",
    "### Ans.\n",
    "\n",
    "Python's OOP promotes better code organization, code reuse, and code readability, making it a valuable tool for building large-scale and complex applications.\n",
    "\n",
    "The benefits of using Python's OOP are Modularity, Reusability, Flexibility, Abstraction, Encapsulation\n",
    "\n",
    "---"
   ]
  },
  {
   "cell_type": "markdown",
   "id": "e3052df3",
   "metadata": {},
   "source": [
    "```\n",
    "Q2. Where does an inheritance search look for an attribute?\n",
    "```\n",
    "\n",
    "### Ans.\n",
    "\n",
    "In Python, when you access an attribute (a variable or method) on an object, the inheritance search looks for that attribute in a specific order. called Method Resolution Order (MRO). It looks for the attribute in the fllowing sequence \n",
    "1. The Instance of the class\n",
    "2. The Class: If the attribute is not found in the instance, the search continues in the class definition\n",
    "3. Base Classes: If the attribute is still not found, Python looks for it in the base classes of the class \n",
    "4. Object Class: Finally, if the attribute is not found in any of the base classes, Python checks in the built-in object class, which is the ultimate base class for all Python objects.\n",
    "\n",
    "---"
   ]
  },
  {
   "cell_type": "markdown",
   "id": "056a7847",
   "metadata": {},
   "source": [
    "```\n",
    "Q3. How do you distinguish between a class object and an instance object?\n",
    "```\n",
    "\n",
    "### Ans.\n",
    "\n",
    "A Class Object is created when a class is defined in Python. \n",
    "- It is the blueprint or template that defines the structure and behavior of instances (objects) of that class.\n",
    "- Class objects have attributes (variables) and methods (functions) that are shared among all instances of the class. \n",
    "- Class objects are used to create instances of the class.\n",
    "\n",
    "An instance object is created when a class is instantiated using the class constructor.\n",
    "- It is a specific object created from the class blueprint.\n",
    "- Each instance has its own set of attributes and can have unique values for those attributes.\n",
    "- Instances can also access and use the methods defined in the class.\n",
    "\n",
    "In the following code, `Vehicle` is class object whereas `vehicle1` and `vehicle2` are instance objects.\n",
    "\n",
    "---"
   ]
  },
  {
   "cell_type": "code",
   "execution_count": 1,
   "id": "f68f8707",
   "metadata": {},
   "outputs": [],
   "source": [
    "class Vehicle:\n",
    "    def __init__(self, model, type) -> None:\n",
    "        self.model = model\n",
    "        self.type = type\n",
    "\n",
    "    def run(self):\n",
    "        print(\"Vehicle is running\")\n",
    "\n",
    "vehicle1 = Vehicle(1999, \"bus\")\n",
    "vehicle2 = Vehicle(2005, \"jeep\")\n"
   ]
  },
  {
   "cell_type": "markdown",
   "id": "a3f5f537",
   "metadata": {},
   "source": [
    "```\n",
    "Q4. What makes the first argument in a class's method function special?\n",
    "```\n",
    "\n",
    "### Ans.\n",
    "\n",
    "The first argument in a class's method function is `self`. It refers to the class itself and passing on `self` as an argument allows the method to access and manipulate and manipulate other methods and attributes of the class\n",
    "\n",
    "---"
   ]
  },
  {
   "cell_type": "markdown",
   "id": "ff16c85d",
   "metadata": {},
   "source": [
    "```\n",
    "Q5. What is the purpose of the __init__ method?\n",
    "```\n",
    "\n",
    "### Ans.\n",
    "\n",
    "`__init__` methos is the constructor that initializes the attributes of an object when it is created from a class. It is automatically called whenever a new instance of a class is created. \n",
    "\n",
    "---"
   ]
  },
  {
   "cell_type": "markdown",
   "id": "dac283d4",
   "metadata": {},
   "source": [
    "```\n",
    "Q6. What is the process for creating a class instance?\n",
    "```\n",
    "\n",
    "### Ans.\n",
    "\n",
    "The process for creating a class instance includes\n",
    "1. Defining the class using `class` keyword\n",
    "2. Instantiating an instance of the class using class name fllowed by parameters in parenthesis\n",
    "\n",
    "---"
   ]
  },
  {
   "cell_type": "markdown",
   "id": "09b2e249",
   "metadata": {},
   "source": [
    "```\n",
    "Q7. What is the process for creating a class?\n",
    "```\n",
    "\n",
    "### Ans.\n",
    "\n",
    "Process for creating class includes\n",
    "1. Definition using `class` keyword\n",
    "2. Defining class attributes\n",
    "3. Initializing attributes using `__init__` constructor\n",
    "4. Defining class methods\n",
    "5. Creating an instance of the class\n",
    "\n",
    "---"
   ]
  },
  {
   "cell_type": "markdown",
   "id": "14023f92",
   "metadata": {},
   "source": [
    "```\n",
    "Q8. How would you define the superclasses of a class?\n",
    "```\n",
    "\n",
    "### Ans.\n",
    "\n",
    "superclass of a class in python is the class from which the given class directly inherits. They are also called as parent classes or base classes.  When a class inherits from superclass, it gains access to the attributes and methods defined in the superclass. The syntax is given below. Here, `SuperClass` is the superclass of `SubClass`\n",
    "\n",
    "---"
   ]
  },
  {
   "cell_type": "code",
   "execution_count": 2,
   "id": "6f06b647",
   "metadata": {},
   "outputs": [],
   "source": [
    "class SuperClass:\n",
    "    pass\n",
    "\n",
    "class SubClass(SuperClass):\n",
    "    pass\n"
   ]
  }
 ],
 "metadata": {
  "kernelspec": {
   "display_name": "fsds",
   "language": "python",
   "name": "python3"
  },
  "language_info": {
   "codemirror_mode": {
    "name": "ipython",
    "version": 3
   },
   "file_extension": ".py",
   "mimetype": "text/x-python",
   "name": "python",
   "nbconvert_exporter": "python",
   "pygments_lexer": "ipython3",
   "version": "3.7.9"
  }
 },
 "nbformat": 4,
 "nbformat_minor": 5
}
