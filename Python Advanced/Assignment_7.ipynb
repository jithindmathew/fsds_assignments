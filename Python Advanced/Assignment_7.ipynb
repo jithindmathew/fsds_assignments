{
 "cells": [
  {
   "cell_type": "markdown",
   "id": "cd429ab3",
   "metadata": {},
   "source": [
    "```\n",
    "Q1. What is the purpose of the try statement?\n",
    "```\n",
    "\n",
    "### Ans.\n",
    "\n",
    "\n",
    "---"
   ]
  },
  {
   "cell_type": "markdown",
   "id": "3d61f4e1",
   "metadata": {},
   "source": [
    "```\n",
    "Q2. What are the two most popular try statement variations?\n",
    "```\n",
    "\n",
    "### Ans.\n",
    "\n",
    "\n",
    "---"
   ]
  },
  {
   "cell_type": "markdown",
   "id": "7a16efd6",
   "metadata": {},
   "source": [
    "```\n",
    "Q3. What is the purpose of the raise statement?\n",
    "```\n",
    "\n",
    "### Ans.\n",
    "\n",
    "\n",
    "---"
   ]
  },
  {
   "cell_type": "markdown",
   "id": "05e26987",
   "metadata": {},
   "source": [
    "```\n",
    "Q4. What does the assert statement do,�and what other statement is it like?\n",
    "```\n",
    "\n",
    "### Ans.\n",
    "\n",
    "\n",
    "---"
   ]
  },
  {
   "cell_type": "markdown",
   "id": "0a1ceb85",
   "metadata": {},
   "source": [
    "```\n",
    "Q5. What is the purpose of the with/as argument,�and what other statement is it like?\n",
    "```\n",
    "\n",
    "### Ans.\n",
    "\n",
    "\n",
    "---"
   ]
  }
 ],
 "metadata": {},
 "nbformat": 4,
 "nbformat_minor": 5
}
