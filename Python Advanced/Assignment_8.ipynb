{
 "cells": [
  {
   "cell_type": "markdown",
   "id": "ddd693e9",
   "metadata": {},
   "source": [
    "```\n",
    "Q1. What are the two latest user-defined exception constraints in Python 3.X?\n",
    "```\n",
    "\n",
    "### Ans.\n",
    "\n",
    "\n",
    "---"
   ]
  },
  {
   "cell_type": "markdown",
   "id": "077ed348",
   "metadata": {},
   "source": [
    "```\n",
    "Q2. How are class-based exceptions that have been raised matched to handlers?\n",
    "```\n",
    "\n",
    "### Ans.\n",
    "\n",
    "\n",
    "---"
   ]
  },
  {
   "cell_type": "markdown",
   "id": "319b5b56",
   "metadata": {},
   "source": [
    "```\n",
    "Q3. Describe two methods for attaching context information to exception artefacts.\n",
    "```\n",
    "\n",
    "### Ans.\n",
    "\n",
    "\n",
    "---"
   ]
  },
  {
   "cell_type": "markdown",
   "id": "ca036ff0",
   "metadata": {},
   "source": [
    "```\n",
    "Q4. Describe two methods for specifying the text of an exception object's error message.\n",
    "```\n",
    "\n",
    "### Ans.\n",
    "\n",
    "\n",
    "---"
   ]
  },
  {
   "cell_type": "markdown",
   "id": "257d3639",
   "metadata": {},
   "source": [
    "```\n",
    "Q5. Why do you no longer use string-based exceptions?\n",
    "```\n",
    "\n",
    "### Ans.\n",
    "\n",
    "\n",
    "---"
   ]
  }
 ],
 "metadata": {},
 "nbformat": 4,
 "nbformat_minor": 5
}
