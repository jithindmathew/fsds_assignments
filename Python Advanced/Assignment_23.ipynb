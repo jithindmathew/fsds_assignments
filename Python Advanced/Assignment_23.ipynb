{
 "cells": [
  {
   "cell_type": "markdown",
   "id": "ec47a345",
   "metadata": {},
   "source": [
    "```\n",
    "Q1. If you have any, what are your choices for increasing the comparison between different figures on the same graph?\n",
    "```\n",
    "\n",
    "### Ans.\n",
    "\n",
    "\n",
    "---"
   ]
  },
  {
   "cell_type": "markdown",
   "id": "8a0dae6b",
   "metadata": {},
   "source": [
    "```\n",
    "Q2. Can you explain the benefit of compound interest over a higher rate of interest that does not compound after reading this chapter?\n",
    "```\n",
    "\n",
    "### Ans.\n",
    "\n",
    "\n",
    "---"
   ]
  },
  {
   "cell_type": "markdown",
   "id": "b14a8439",
   "metadata": {},
   "source": [
    "```\n",
    "Q3. What is a histogram, exactly? Name a numpy method for creating such a graph.\n",
    "```\n",
    "\n",
    "### Ans.\n",
    "\n",
    "\n",
    "---"
   ]
  },
  {
   "cell_type": "markdown",
   "id": "b7102eaa",
   "metadata": {},
   "source": [
    "```\n",
    "Q4. If necessary, how do you change the aspect ratios between the X and Y axes?\n",
    "```\n",
    "\n",
    "### Ans.\n",
    "\n",
    "\n",
    "---"
   ]
  },
  {
   "cell_type": "markdown",
   "id": "bde9e8be",
   "metadata": {},
   "source": [
    "```\n",
    "Q5. Compare and contrast the three types of array multiplication between two numpy arrays: dot product, outer product, and regular multiplication of two numpy arrays.\n",
    "```\n",
    "\n",
    "### Ans.\n",
    "\n",
    "\n",
    "---"
   ]
  },
  {
   "cell_type": "markdown",
   "id": "5b273e56",
   "metadata": {},
   "source": [
    "```\n",
    "Q6. Before you buy a home, which numpy function will you use to measure your monthly mortgage payment?\n",
    "```\n",
    "\n",
    "### Ans.\n",
    "\n",
    "\n",
    "---"
   ]
  },
  {
   "cell_type": "markdown",
   "id": "07efaa44",
   "metadata": {},
   "source": [
    "```\n",
    "Q7. Can string data be stored in numpy arrays? If so, list at least one restriction that applies to this data.\n",
    "```\n",
    "\n",
    "### Ans.\n",
    "\n",
    "\n",
    "---"
   ]
  }
 ],
 "metadata": {},
 "nbformat": 4,
 "nbformat_minor": 5
}
