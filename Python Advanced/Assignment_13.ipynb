{
 "cells": [
  {
   "cell_type": "markdown",
   "id": "abe3a9c3",
   "metadata": {},
   "source": [
    "```\n",
    "Q1. Can you create a programme or function that employs both positive and negative indexing? Is there any repercussion if you do so?\n",
    "```\n",
    "\n",
    "### Ans.\n",
    "\n",
    "\n",
    "---"
   ]
  },
  {
   "cell_type": "markdown",
   "id": "441f2f12",
   "metadata": {},
   "source": [
    "```\n",
    "Q2. What is the most effective way of starting with 1,000 elements in a Python list? Assume that all elements should be set to the same value.\n",
    "```\n",
    "\n",
    "### Ans.\n",
    "\n",
    "\n",
    "---"
   ]
  },
  {
   "cell_type": "markdown",
   "id": "8eaa8e70",
   "metadata": {},
   "source": [
    "```\n",
    "Q3. How do you slice a list to get any other part while missing the rest? (For example, suppose you want to make a new list with the elements first, third, fifth, seventh, and so on.)\n",
    "```\n",
    "\n",
    "### Ans.\n",
    "\n",
    "\n",
    "---"
   ]
  },
  {
   "cell_type": "markdown",
   "id": "aa494755",
   "metadata": {},
   "source": [
    "```\n",
    "Q4. Explain the distinctions between indexing and slicing.\n",
    "```\n",
    "\n",
    "### Ans.\n",
    "\n",
    "\n",
    "---"
   ]
  },
  {
   "cell_type": "markdown",
   "id": "5106a37d",
   "metadata": {},
   "source": [
    "```\n",
    "Q5. What happens if one of the slicing expression's indexes is out of range?\n",
    "```\n",
    "\n",
    "### Ans.\n",
    "\n",
    "\n",
    "---"
   ]
  },
  {
   "cell_type": "markdown",
   "id": "cb978900",
   "metadata": {},
   "source": [
    "```\n",
    "Q6. If you pass a list to a function, and if you want the function to be able to change the values of the list�so that the list is different after the function returns�what action should you avoid?\n",
    "```\n",
    "\n",
    "### Ans.\n",
    "\n",
    "\n",
    "---"
   ]
  },
  {
   "cell_type": "markdown",
   "id": "b4c9ae08",
   "metadata": {},
   "source": [
    "```\n",
    "Q7. What is the concept of an unbalanced matrix?\n",
    "```\n",
    "\n",
    "### Ans.\n",
    "\n",
    "\n",
    "---"
   ]
  },
  {
   "cell_type": "markdown",
   "id": "d0bb0562",
   "metadata": {},
   "source": [
    "```\n",
    "Q8. Why is it necessary to use either list comprehension or a loop to create arbitrarily large matrices?\n",
    "```\n",
    "\n",
    "### Ans.\n",
    "\n",
    "\n",
    "---"
   ]
  }
 ],
 "metadata": {},
 "nbformat": 4,
 "nbformat_minor": 5
}
