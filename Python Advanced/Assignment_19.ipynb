{
 "cells": [
  {
   "cell_type": "markdown",
   "id": "4aa60962",
   "metadata": {},
   "source": [
    "```\n",
    "Q1. Define the relationship between a class and its instances. Is it a one-to-one or a one-to-many partnership, for example?\n",
    "```\n",
    "\n",
    "### Ans.\n",
    "\n",
    "\n",
    "---"
   ]
  },
  {
   "cell_type": "markdown",
   "id": "aca436b0",
   "metadata": {},
   "source": [
    "```\n",
    "Q2. What kind of data is held only in an instance?\n",
    "```\n",
    "\n",
    "### Ans.\n",
    "\n",
    "\n",
    "---"
   ]
  },
  {
   "cell_type": "markdown",
   "id": "bdc8b3d4",
   "metadata": {},
   "source": [
    "```\n",
    "Q3. What kind of knowledge is stored in a class?\n",
    "```\n",
    "\n",
    "### Ans.\n",
    "\n",
    "\n",
    "---"
   ]
  },
  {
   "cell_type": "markdown",
   "id": "22707d05",
   "metadata": {},
   "source": [
    "```\n",
    "Q4. What exactly is a method, and how is it different from a regular function?\n",
    "```\n",
    "\n",
    "### Ans.\n",
    "\n",
    "\n",
    "---"
   ]
  },
  {
   "cell_type": "markdown",
   "id": "efbcc50a",
   "metadata": {},
   "source": [
    "```\n",
    "Q5. Is inheritance supported in Python, and if so, what is the syntax?\n",
    "```\n",
    "\n",
    "### Ans.\n",
    "\n",
    "\n",
    "---"
   ]
  },
  {
   "cell_type": "markdown",
   "id": "fc6c705a",
   "metadata": {},
   "source": [
    "```\n",
    "Q6. How much encapsulation (making instance or class variables private) does Python support?\n",
    "```\n",
    "\n",
    "### Ans.\n",
    "\n",
    "\n",
    "---"
   ]
  },
  {
   "cell_type": "markdown",
   "id": "c33f1537",
   "metadata": {},
   "source": [
    "```\n",
    "Q7. How do you distinguish between a class variable and an instance variable?\n",
    "```\n",
    "\n",
    "### Ans.\n",
    "\n",
    "\n",
    "---"
   ]
  },
  {
   "cell_type": "markdown",
   "id": "ab20434f",
   "metadata": {},
   "source": [
    "```\n",
    "Q8. When, if ever, can self be included in a class's method definitions?\n",
    "```\n",
    "\n",
    "### Ans.\n",
    "\n",
    "\n",
    "---"
   ]
  },
  {
   "cell_type": "markdown",
   "id": "e7194a33",
   "metadata": {},
   "source": [
    "```\n",
    "Q9. What is the difference between the _ _add_ _ and the _ _radd_ _ methods?\n",
    "```\n",
    "\n",
    "### Ans.\n",
    "\n",
    "\n",
    "---"
   ]
  },
  {
   "cell_type": "markdown",
   "id": "6753a1ff",
   "metadata": {},
   "source": [
    "```\n",
    "Q10. When is it necessary to use a reflection method? When do you not need it, even though you support the operation in question?\n",
    "```\n",
    "\n",
    "### Ans.\n",
    "\n",
    "\n",
    "---"
   ]
  },
  {
   "cell_type": "markdown",
   "id": "fcd26687",
   "metadata": {},
   "source": [
    "```\n",
    "Q11. What is the _ _iadd_ _ method called?\n",
    "```\n",
    "\n",
    "### Ans.\n",
    "\n",
    "\n",
    "---"
   ]
  },
  {
   "cell_type": "markdown",
   "id": "8faa5448",
   "metadata": {},
   "source": [
    "```\n",
    "Q12. Is the _ _init_ _ method inherited by subclasses? What do you do if you need to customize its behavior within a subclass?\n",
    "```\n",
    "\n",
    "### Ans.\n",
    "\n",
    "\n",
    "---"
   ]
  }
 ],
 "metadata": {},
 "nbformat": 4,
 "nbformat_minor": 5
}
