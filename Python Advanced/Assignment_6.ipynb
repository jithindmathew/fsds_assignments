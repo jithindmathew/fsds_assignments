{
 "cells": [
  {
   "cell_type": "markdown",
   "id": "6eb27efe",
   "metadata": {},
   "source": [
    "```\n",
    "Q1. Describe three applications for exception processing.\n",
    "```\n",
    "\n",
    "### Ans.\n",
    "\n",
    "\n",
    "---"
   ]
  },
  {
   "cell_type": "markdown",
   "id": "d4ef40e4",
   "metadata": {},
   "source": [
    "```\n",
    "Q2. What happens if you don't do something extra to treat an exception?\n",
    "```\n",
    "\n",
    "### Ans.\n",
    "\n",
    "\n",
    "---"
   ]
  },
  {
   "cell_type": "markdown",
   "id": "9c178b56",
   "metadata": {},
   "source": [
    "```\n",
    "Q3. What are your options for recovering from an exception in your script?\n",
    "```\n",
    "\n",
    "### Ans.\n",
    "\n",
    "\n",
    "---"
   ]
  },
  {
   "cell_type": "markdown",
   "id": "13951619",
   "metadata": {},
   "source": [
    "```\n",
    "Q4. Describe two methods for triggering exceptions in your script.\n",
    "```\n",
    "\n",
    "### Ans.\n",
    "\n",
    "\n",
    "---"
   ]
  },
  {
   "cell_type": "markdown",
   "id": "d07b01a6",
   "metadata": {},
   "source": [
    "```\n",
    "Q5. Identify two methods for specifying actions to be executed at termination time, regardless of whether or not an exception exists.\n",
    "```\n",
    "\n",
    "### Ans.\n",
    "\n",
    "\n",
    "---"
   ]
  }
 ],
 "metadata": {},
 "nbformat": 4,
 "nbformat_minor": 5
}
