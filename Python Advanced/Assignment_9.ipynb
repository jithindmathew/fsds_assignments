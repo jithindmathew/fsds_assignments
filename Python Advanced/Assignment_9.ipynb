{
 "cells": [
  {
   "cell_type": "markdown",
   "id": "80302c67",
   "metadata": {},
   "source": [
    "```\n",
    "Q1. In Python 3.X, what are the names and functions of string object types?\n",
    "```\n",
    "\n",
    "### Ans.\n",
    "\n",
    "\n",
    "---"
   ]
  },
  {
   "cell_type": "markdown",
   "id": "98414be2",
   "metadata": {},
   "source": [
    "```\n",
    "Q2. How do the string forms in Python 3.X vary in terms of operations?\n",
    "```\n",
    "\n",
    "### Ans.\n",
    "\n",
    "\n",
    "---"
   ]
  },
  {
   "cell_type": "markdown",
   "id": "7a2ad0aa",
   "metadata": {},
   "source": [
    "```\n",
    "Q3. In 3.X, how do you put non-ASCII Unicode characters in a string?\n",
    "```\n",
    "\n",
    "### Ans.\n",
    "\n",
    "\n",
    "---"
   ]
  },
  {
   "cell_type": "markdown",
   "id": "519f7a93",
   "metadata": {},
   "source": [
    "```\n",
    "Q4. In Python 3.X, what are the key differences between text-mode and binary-mode files?\n",
    "```\n",
    "\n",
    "### Ans.\n",
    "\n",
    "\n",
    "---"
   ]
  },
  {
   "cell_type": "markdown",
   "id": "bf18d681",
   "metadata": {},
   "source": [
    "```\n",
    "Q5. How can you interpret a Unicode text file containing text encoded in a different encoding than your platform's default?\n",
    "```\n",
    "\n",
    "### Ans.\n",
    "\n",
    "\n",
    "---"
   ]
  },
  {
   "cell_type": "markdown",
   "id": "c7f672ef",
   "metadata": {},
   "source": [
    "```\n",
    "Q6. What is the best way to make a Unicode text file in a particular encoding format?\n",
    "```\n",
    "\n",
    "### Ans.\n",
    "\n",
    "\n",
    "---"
   ]
  },
  {
   "cell_type": "markdown",
   "id": "6d08cc63",
   "metadata": {},
   "source": [
    "```\n",
    "Q7. What qualifies ASCII text as a form of Unicode text?\n",
    "```\n",
    "\n",
    "### Ans.\n",
    "\n",
    "\n",
    "---"
   ]
  },
  {
   "cell_type": "markdown",
   "id": "e4eb56fe",
   "metadata": {},
   "source": [
    "```\n",
    "Q8. How much of an effect does the change in string types in Python 3.X have on your code?\n",
    "```\n",
    "\n",
    "### Ans.\n",
    "\n",
    "\n",
    "---"
   ]
  }
 ],
 "metadata": {},
 "nbformat": 4,
 "nbformat_minor": 5
}
