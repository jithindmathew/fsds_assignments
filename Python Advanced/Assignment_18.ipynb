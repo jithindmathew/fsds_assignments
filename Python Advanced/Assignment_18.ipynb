{
 "cells": [
  {
   "cell_type": "markdown",
   "id": "8cab8400",
   "metadata": {},
   "source": [
    "```\n",
    "Q1. Describe the differences between text and binary files in a single paragraph.\n",
    "```\n",
    "\n",
    "### Ans.\n",
    "\n",
    "\n",
    "---"
   ]
  },
  {
   "cell_type": "markdown",
   "id": "6dca498c",
   "metadata": {},
   "source": [
    "```\n",
    "Q2. What are some scenarios where using text files will be the better option? When would you like to use binary files instead of text files?\n",
    "```\n",
    "\n",
    "### Ans.\n",
    "\n",
    "\n",
    "---"
   ]
  },
  {
   "cell_type": "markdown",
   "id": "88aa2787",
   "metadata": {},
   "source": [
    "```\n",
    "Q3. What are some of the issues with using binary operations to read and write a Python integer directly to disc?\n",
    "```\n",
    "\n",
    "### Ans.\n",
    "\n",
    "\n",
    "---"
   ]
  },
  {
   "cell_type": "markdown",
   "id": "33ff95df",
   "metadata": {},
   "source": [
    "```\n",
    "Q4. Describe a benefit of using the with keyword instead of explicitly opening a file.\n",
    "```\n",
    "\n",
    "### Ans.\n",
    "\n",
    "\n",
    "---"
   ]
  },
  {
   "cell_type": "markdown",
   "id": "d0aa3f81",
   "metadata": {},
   "source": [
    "```\n",
    "Q5. Does Python have the trailing newline while reading a line of text? Does Python append a newline when you write a line of text?\n",
    "```\n",
    "\n",
    "### Ans.\n",
    "\n",
    "\n",
    "---"
   ]
  },
  {
   "cell_type": "markdown",
   "id": "dfbc496d",
   "metadata": {},
   "source": [
    "```\n",
    "Q6. What file operations enable�for random-access operation?\n",
    "```\n",
    "\n",
    "### Ans.\n",
    "\n",
    "\n",
    "---"
   ]
  },
  {
   "cell_type": "markdown",
   "id": "3d0e32ad",
   "metadata": {},
   "source": [
    "```\n",
    "Q7. When do you think you'll use the struct package the most?\n",
    "```\n",
    "\n",
    "### Ans.\n",
    "\n",
    "\n",
    "---"
   ]
  },
  {
   "cell_type": "markdown",
   "id": "917a0988",
   "metadata": {},
   "source": [
    "```\n",
    "Q8. When is pickling the best option?\n",
    "```\n",
    "\n",
    "### Ans.\n",
    "\n",
    "\n",
    "---"
   ]
  },
  {
   "cell_type": "markdown",
   "id": "e17b129b",
   "metadata": {},
   "source": [
    "```\n",
    "Q9. When will it be best to use the shelve package?\n",
    "```\n",
    "\n",
    "### Ans.\n",
    "\n",
    "\n",
    "---"
   ]
  },
  {
   "cell_type": "markdown",
   "id": "944925fb",
   "metadata": {},
   "source": [
    "```\n",
    "Q10. What is a special restriction when using the shelve package, as opposed to using other data dictionaries?\n",
    "```\n",
    "\n",
    "### Ans.\n",
    "\n",
    "\n",
    "---"
   ]
  }
 ],
 "metadata": {},
 "nbformat": 4,
 "nbformat_minor": 5
}
