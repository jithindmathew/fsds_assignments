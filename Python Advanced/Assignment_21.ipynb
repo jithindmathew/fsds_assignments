{
 "cells": [
  {
   "cell_type": "markdown",
   "id": "4def6518",
   "metadata": {},
   "source": [
    "```\n",
    "Q1. What is a probability distribution, exactly? If the values are meant to be random, how can you predict them at all?\n",
    "```\n",
    "\n",
    "### Ans.\n",
    "\n",
    "\n",
    "---"
   ]
  },
  {
   "cell_type": "markdown",
   "id": "fe87f81b",
   "metadata": {},
   "source": [
    "```\n",
    "Q2. Is there a distinction between true random numbers and pseudo-random numbers, if there is one? Why are the latter considered �good enough�?\n",
    "```\n",
    "\n",
    "### Ans.\n",
    "\n",
    "\n",
    "---"
   ]
  },
  {
   "cell_type": "markdown",
   "id": "8e56727b",
   "metadata": {},
   "source": [
    "```\n",
    "Q3. What are the two main factors that influence the behaviour of a \"normal\" probability distribution?\n",
    "```\n",
    "\n",
    "### Ans.\n",
    "\n",
    "\n",
    "---"
   ]
  },
  {
   "cell_type": "markdown",
   "id": "9bd6f2fc",
   "metadata": {},
   "source": [
    "```\n",
    "Q4. Provide a real-life example of a normal distribution.\n",
    "```\n",
    "\n",
    "### Ans.\n",
    "\n",
    "\n",
    "---"
   ]
  },
  {
   "cell_type": "markdown",
   "id": "c68562dc",
   "metadata": {},
   "source": [
    "```\n",
    "Q5. In the short term, how can you expect a probability distribution to behave? What do you think will happen as the number of trials grows?\n",
    "```\n",
    "\n",
    "### Ans.\n",
    "\n",
    "\n",
    "---"
   ]
  },
  {
   "cell_type": "markdown",
   "id": "3b8aed84",
   "metadata": {},
   "source": [
    "```\n",
    "Q6. What kind of object can be shuffled by using random.shuffle?\n",
    "```\n",
    "\n",
    "### Ans.\n",
    "\n",
    "\n",
    "---"
   ]
  },
  {
   "cell_type": "markdown",
   "id": "827e2914",
   "metadata": {},
   "source": [
    "```\n",
    "Q7. Describe the math package's general categories of functions.\n",
    "```\n",
    "\n",
    "### Ans.\n",
    "\n",
    "\n",
    "---"
   ]
  },
  {
   "cell_type": "markdown",
   "id": "f1c6c50d",
   "metadata": {},
   "source": [
    "```\n",
    "Q8. What is the relationship between exponentiation and logarithms?\n",
    "```\n",
    "\n",
    "### Ans.\n",
    "\n",
    "\n",
    "---"
   ]
  },
  {
   "cell_type": "markdown",
   "id": "d4ebace8",
   "metadata": {},
   "source": [
    "```\n",
    "Q9. What are the three logarithmic functions that Python supports?\n",
    "```\n",
    "\n",
    "### Ans.\n",
    "\n",
    "\n",
    "---"
   ]
  }
 ],
 "metadata": {},
 "nbformat": 4,
 "nbformat_minor": 5
}
