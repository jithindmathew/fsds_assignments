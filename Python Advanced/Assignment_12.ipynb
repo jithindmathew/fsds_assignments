{
 "cells": [
  {
   "cell_type": "markdown",
   "id": "0c3bd9fa",
   "metadata": {},
   "source": [
    "```\n",
    "Q1. Does assigning a value to a string's indexed character violate Python's string immutability?\n",
    "```\n",
    "\n",
    "### Ans.\n",
    "\n",
    "\n",
    "---"
   ]
  },
  {
   "cell_type": "markdown",
   "id": "8e2b4ee4",
   "metadata": {},
   "source": [
    "```\n",
    "Q2. Does using the += operator to concatenate strings violate Python's string immutability? Why or why not?\n",
    "```\n",
    "\n",
    "### Ans.\n",
    "\n",
    "\n",
    "---"
   ]
  },
  {
   "cell_type": "markdown",
   "id": "9f007f6b",
   "metadata": {},
   "source": [
    "```\n",
    "Q3. In Python, how many different ways are there to index a character?\n",
    "```\n",
    "\n",
    "### Ans.\n",
    "\n",
    "\n",
    "---"
   ]
  },
  {
   "cell_type": "markdown",
   "id": "bc240801",
   "metadata": {},
   "source": [
    "```\n",
    "Q4. What is the relationship between indexing and slicing?\n",
    "```\n",
    "\n",
    "### Ans.\n",
    "\n",
    "\n",
    "---"
   ]
  },
  {
   "cell_type": "markdown",
   "id": "eec489cf",
   "metadata": {},
   "source": [
    "```\n",
    "Q5. What is an�indexed character's exact data type? What is the data form of a slicing-generated substring?\n",
    "```\n",
    "\n",
    "### Ans.\n",
    "\n",
    "\n",
    "---"
   ]
  },
  {
   "cell_type": "markdown",
   "id": "878ee4a7",
   "metadata": {},
   "source": [
    "```\n",
    "Q6. What is the relationship between string and character \"types\" in Python?\n",
    "```\n",
    "\n",
    "### Ans.\n",
    "\n",
    "\n",
    "---"
   ]
  },
  {
   "cell_type": "markdown",
   "id": "7f4cb0d3",
   "metadata": {},
   "source": [
    "```\n",
    "Q7. Identify at least two operators and one method that allow you to combine one or more smaller strings to create a larger string.\n",
    "```\n",
    "\n",
    "### Ans.\n",
    "\n",
    "\n",
    "---"
   ]
  },
  {
   "cell_type": "markdown",
   "id": "004c9c99",
   "metadata": {},
   "source": [
    "```\n",
    "Q8. What is the benefit of first checking the target string with in or not in before using the index method to find a substring?\n",
    "```\n",
    "\n",
    "### Ans.\n",
    "\n",
    "\n",
    "---"
   ]
  },
  {
   "cell_type": "markdown",
   "id": "64f40a7c",
   "metadata": {},
   "source": [
    "```\n",
    "Q9. Which operators and built-in string methods produce simple Boolean (true/false) results?\n",
    "```\n",
    "\n",
    "### Ans.\n",
    "\n",
    "\n",
    "---"
   ]
  }
 ],
 "metadata": {},
 "nbformat": 4,
 "nbformat_minor": 5
}
